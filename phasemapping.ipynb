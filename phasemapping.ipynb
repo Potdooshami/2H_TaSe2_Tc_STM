{
  "nbformat": 4,
  "nbformat_minor": 0,
  "metadata": {
    "colab": {
      "provenance": [],
      "authorship_tag": "ABX9TyMB3JFaj75f57RlG4mUo3+o",
      "include_colab_link": true
    },
    "kernelspec": {
      "name": "python3",
      "display_name": "Python 3"
    },
    "language_info": {
      "name": "python"
    }
  },
  "cells": [
    {
      "cell_type": "markdown",
      "metadata": {
        "id": "view-in-github",
        "colab_type": "text"
      },
      "source": [
        "<a href=\"https://colab.research.google.com/github/Potdooshami/2H_TaSe2_Tc_STM/blob/main/phasemapping.ipynb\" target=\"_parent\"><img src=\"https://colab.research.google.com/assets/colab-badge.svg\" alt=\"Open In Colab\"/></a>"
      ]
    },
    {
      "cell_type": "markdown",
      "source": [
        "Declare functions"
      ],
      "metadata": {
        "id": "GjYUr7z88mf9"
      }
    },
    {
      "cell_type": "code",
      "source": [
        "import numpy as np\n",
        "## Divide ##\n",
        "def z3z3split(phi1,phi2):\n",
        "  # phi1 from [0,2pi)\n",
        "  # phi2 from [0,2pi)\n",
        "  phi1 = phi1%(2*np.pi) # R -> [0,2pi)\n",
        "  phi2 = phi2%(2*np.pi)\n",
        "  phi1i = phi1/(2*np.pi) # [0,2pi) -> [0,1)\n",
        "  phi2i = phi2/(2*np.pi)\n",
        "  z3z31, rphi1 = divmod(phi1i, 1/3)\n",
        "  z3z32, rphi2 = divmod(phi2i, 1/3)\n",
        "  z3z3 = [z3z31,z3z32] # {0,1,2}\n",
        "  rphi12 = [rphi1*3,rphi2*3] # [0,1)\n",
        "  return z3z3,rphi12\n",
        "\n",
        "def rlsplit(rphi12):\n",
        "  is_close_01 = rphi12[0]>rphi12[1]#r-like|-> T, g-like|-> F\n",
        "  if not is_close_01:\n",
        "    rphi12 = [rphi12[1],rphi12[0]]\n",
        "  rphi12 = np.array(rphi12)\n",
        "  rphi12 = rphi12.reshape(2,1) #Basis B\n",
        "  I_C__B = np.array([[1,-1],[0,1]]) #Identity\n",
        "  rphi12_C = I_C__B@rphi12 #Basis C\n",
        "  v_c1 = rphi12_C[0,0]\n",
        "  v_c2 = rphi12_C[1,0]\n",
        "  baryHHH_foo = np.array([1-v_c1-v_c2,v_c1,v_c2 ])\n",
        "  baryHHH_foo = baryHHH_foo.reshape(3,1)\n",
        "  return is_close_01,baryHHH_foo\n",
        "\n",
        "def sixsplit(bary1):\n",
        "  return z6,baryHAC_foo\n",
        "\n",
        "## Conquer ##\n",
        "def z3z3deci_recover(rphi12):\n",
        "  return p123,baryHHH\n",
        "def z3z3deci_recover(is_close_01,baryHAC_foo):\n",
        "  return baryHAC\n",
        "def phasemap(phi1,phi2):\n",
        "  return p123,baryHHH,baryHAC\n"
      ],
      "metadata": {
        "id": "hG3M9r4NZmxt"
      },
      "execution_count": 21,
      "outputs": []
    },
    {
      "cell_type": "markdown",
      "source": [
        "test functions go well"
      ],
      "metadata": {
        "id": "9PnvWiWe8qCO"
      }
    },
    {
      "cell_type": "code",
      "source": [
        "z3z3,rphi12 = z3z3split(4*pi/3,2*pi/3)\n",
        "print(z3z3)\n",
        "print(rphi12)\n",
        "is_close_01,baryHHH_foo = rlsplit(rphi12)\n",
        "print(is_close_01)\n",
        "print(baryHHH_foo)"
      ],
      "metadata": {
        "colab": {
          "base_uri": "https://localhost:8080/"
        },
        "id": "dt5gXZO2c45g",
        "outputId": "7c9e5e71-a39c-4886-b1c8-9bf0cc0fcd57"
      },
      "execution_count": 24,
      "outputs": [
        {
          "output_type": "stream",
          "name": "stdout",
          "text": [
            "[2.0, 1.0]\n",
            "[0.0, 0.0]\n",
            "False\n",
            "[[1.]\n",
            " [0.]\n",
            " [0.]]\n"
          ]
        }
      ]
    },
    {
      "cell_type": "code",
      "execution_count": 5,
      "metadata": {
        "colab": {
          "base_uri": "https://localhost:8080/"
        },
        "id": "J8H1T5O431rq",
        "outputId": "4f794688-8e20-45a5-9b89-d4646c5a30ad"
      },
      "outputs": [
        {
          "output_type": "stream",
          "name": "stdout",
          "text": [
            "The quotient of 10.5 divided by 6.283185307179586 is: 1.0\n",
            "The remainder of 10.5 divided by 6.283185307179586 is: 4.216814692820414\n"
          ]
        }
      ],
      "source": [
        "import numpy as np\n",
        "pi = np.pi\n",
        "a = 10.5\n",
        "b = 2*pi\n",
        "\n",
        "# Calculate quotient and remainder using divmod()\n",
        "quotient, remainder = divmod(a, b)\n",
        "\n",
        "print(f\"The quotient of {a} divided by {b} is: {quotient}\")\n",
        "print(f\"The remainder of {a} divided by {b} is: {remainder}\")"
      ]
    }
  ]
}