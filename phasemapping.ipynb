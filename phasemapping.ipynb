{
  "nbformat": 4,
  "nbformat_minor": 0,
  "metadata": {
    "colab": {
      "provenance": [],
      "authorship_tag": "ABX9TyMV1VAA1nUlkcd4N06mkzKu",
      "include_colab_link": true
    },
    "kernelspec": {
      "name": "python3",
      "display_name": "Python 3"
    },
    "language_info": {
      "name": "python"
    }
  },
  "cells": [
    {
      "cell_type": "markdown",
      "metadata": {
        "id": "view-in-github",
        "colab_type": "text"
      },
      "source": [
        "<a href=\"https://colab.research.google.com/github/Potdooshami/2H_TaSe2_Tc_STM/blob/main/phasemapping.ipynb\" target=\"_parent\"><img src=\"https://colab.research.google.com/assets/colab-badge.svg\" alt=\"Open In Colab\"/></a>"
      ]
    },
    {
      "cell_type": "markdown",
      "source": [
        "#Declare functions"
      ],
      "metadata": {
        "id": "GjYUr7z88mf9"
      }
    },
    {
      "cell_type": "code",
      "source": [
        "import numpy as np\n",
        "## Divide ##\n",
        "def z3z3split(phi1,phi2):\n",
        "  # phi1 from [0,2pi)\n",
        "  # phi2 from [0,2pi)\n",
        "  phi1 = phi1%(2*np.pi) # R -> [0,2pi)\n",
        "  phi2 = phi2%(2*np.pi)\n",
        "  phi1i = phi1/(2*np.pi) # [0,2pi) -> [0,1)\n",
        "  phi2i = phi2/(2*np.pi)\n",
        "  z3z31, rphi1 = divmod(phi1i, 1/3)\n",
        "  z3z32, rphi2 = divmod(phi2i, 1/3)\n",
        "  z3z3 = [z3z31,z3z32] # {0,1,2} #len2 list\n",
        "  rphi12 = [rphi1*3,rphi2*3] # [0,1) #len2 list\n",
        "  return z3z3,rphi12\n",
        "\n",
        "def rlsplit(rphi12):\n",
        "  is_close_10 = rphi12[0]>rphi12[1]#r-like|-> T, g-like|-> F\n",
        "  if not is_close_10:\n",
        "    rphi12 = [rphi12[1],rphi12[0]]\n",
        "  rphi12 = np.array(rphi12)\n",
        "  rphi12 = rphi12.reshape(2,1) #Basis B\n",
        "  I_C__B = np.array([[1,-1],[0,1]]) #Identity\n",
        "  rphi12_C = I_C__B@rphi12 #Basis C\n",
        "  v_c1 = rphi12_C[0,0]\n",
        "  v_c2 = rphi12_C[1,0]\n",
        "  baryHHH_foo = np.array([1-v_c1-v_c2,v_c1,v_c2 ])\n",
        "  baryHHH_foo = baryHHH_foo.reshape(3,1) #order of index: (00),(??),(11)\n",
        "  return is_close_10,baryHHH_foo\n",
        "\n",
        "def sixsplit(baryHHH_foo):\n",
        "  p_BarHHH = np.sort(baryHHH_foo, axis=0)[::-1]\n",
        "  z6 = np.argsort(baryHHH_foo, axis=0)[::-1]\n",
        "  p_AffHHH = p_BarHHH[1:]\n",
        "  I_AffHAC__AffHHH = np.array([[1,2],[1,-1]])\n",
        "  p_AffHAC = I_AffHAC__AffHHH@p_AffHHH\n",
        "  p_BarHAC = np.array([1-p_AffHAC[0]-p_AffHAC[1],p_AffHAC[0],p_AffHAC[1]])\n",
        "  baryHAC_foo = p_BarHAC\n",
        "  return z6,baryHAC_foo\n",
        "\n",
        "## Conquer ##\n",
        "def get_baryHHH(baryHHH_foo,is_close_10):\n",
        "  baryHHH = np.zeros(4)\n",
        "  baryHHH[0] = baryHHH_foo[0,0]\n",
        "  baryHHH[3] = baryHHH_foo[2,0]\n",
        "  baryHHH[not(is_close_10)+1] = baryHHH_foo[1,0]\n",
        "  return baryHHH #order of index: (00),(10),(01),(11)\n",
        "def get_baryHAC(is_close_10,baryHAC_foo):\n",
        "  # baryHAC = np.zeros(3)\n",
        "  baryHAC = baryHAC_foo\n",
        "  if not(is_close_10):\n",
        "    baryHAC = baryHAC_foo[[0,2,1],[0]]\n",
        "  return baryHAC #order of index: H,10L,01L\n",
        "def phaseInfo(phi1,phi2):\n",
        "  z3z3,rphi12 = z3z3split(phi1,phi2)\n",
        "  is_close_10,baryHHH_foo = rlsplit(rphi12)\n",
        "  z6,baryHAC_foo = sixsplit(baryHHH_foo)\n",
        "  baryHHH = get_baryHHH(baryHHH_foo,is_close_10)\n",
        "  baryHAC = get_baryHAC(is_close_10,baryHAC_foo)\n",
        "  return baryHHH,baryHAC\n"
      ],
      "metadata": {
        "id": "hG3M9r4NZmxt"
      },
      "execution_count": 10,
      "outputs": []
    },
    {
      "cell_type": "markdown",
      "source": [
        "# test functions go well"
      ],
      "metadata": {
        "id": "T46LqR-HzAUa"
      }
    },
    {
      "cell_type": "code",
      "source": [
        "pi = np.pi\n",
        "\n",
        "z3z3,rphi12 = z3z3split(pi/4,pi/4+0.01) #checked\n",
        "print(z3z3)\n",
        "print(rphi12)\n",
        "\n",
        "is_close_10,baryHHH_foo = rlsplit(rphi12) #checked\n",
        "print(is_close_10)\n",
        "print(baryHHH_foo)\n",
        "\n",
        "z6,baryHAC_foo = sixsplit(baryHHH_foo)\n",
        "print(z6)\n",
        "print(baryHAC_foo)\n",
        "\n",
        "\n",
        "baryHHH = get_baryHHH(baryHHH_foo,is_close_10)\n",
        "print(baryHHH)\n",
        "\n",
        "baryHAC = get_baryHAC(is_close_10,baryHAC_foo)\n",
        "print(baryHAC)"
      ],
      "metadata": {
        "colab": {
          "base_uri": "https://localhost:8080/"
        },
        "id": "Xhfx6N-ly-D-",
        "outputId": "cea523fe-d26e-4ccf-abdf-3f14c0e3170a"
      },
      "execution_count": 2,
      "outputs": [
        {
          "output_type": "stream",
          "name": "stdout",
          "text": [
            "[0.0, 0.0]\n",
            "[0.375, 0.37977464829275687]\n",
            "False\n",
            "[[0.62022535]\n",
            " [0.00477465]\n",
            " [0.375     ]]\n",
            "[[0]\n",
            " [2]\n",
            " [1]]\n",
            "[[0.24522535]\n",
            " [0.3845493 ]\n",
            " [0.37022535]]\n",
            "[0.62022535 0.         0.         0.375     ]\n",
            "[0.24522535 0.37022535 0.3845493 ]\n"
          ]
        }
      ]
    },
    {
      "cell_type": "code",
      "source": [],
      "metadata": {
        "id": "DfzkXTJMk8KH"
      },
      "execution_count": 2,
      "outputs": []
    },
    {
      "cell_type": "markdown",
      "source": [
        "#Generate test phase map"
      ],
      "metadata": {
        "id": "o8cNKaVLH8d1"
      }
    },
    {
      "cell_type": "code",
      "source": [
        "xx = np.linspace(-5,5,501)\n",
        "yy = np.linspace(-4,4,401)\n",
        "X,Y = np.meshgrid(xx,yy)\n",
        "I_XY__B = np.array([[1,-1/2],[0,np.sqrt(3)/2]])\n",
        "I_B__XY = np.linalg.inv(I_XY__B)\n"
      ],
      "metadata": {
        "id": "hm_kBCssH8C5"
      },
      "execution_count": 3,
      "outputs": []
    },
    {
      "cell_type": "code",
      "source": [
        "XY_shape = X.shape;print(X.shape)\n",
        "XY_size = X.size;print(X.size)\n",
        "grid_XY =  np.array([X.flatten(),Y.flatten()])\n",
        "grid_B = I_B__XY@grid_XY\n",
        "grid_B0 = grid_B[0,:].reshape(XY_shape)\n",
        "grid_B1 = grid_B[1,:].reshape(XY_shape)"
      ],
      "metadata": {
        "colab": {
          "base_uri": "https://localhost:8080/"
        },
        "id": "5n7417laSx8k",
        "outputId": "9eace509-ad0d-4ee3-9dd5-1565941e786e"
      },
      "execution_count": 4,
      "outputs": [
        {
          "output_type": "stream",
          "name": "stdout",
          "text": [
            "(401, 501)\n",
            "200901\n"
          ]
        }
      ]
    },
    {
      "cell_type": "code",
      "source": [
        "print(grid_XY[:,0])\n",
        "print(I_XY__B)\n",
        "print(I_B__XY)\n",
        "print(I_B__XY@grid_XY[:,0])"
      ],
      "metadata": {
        "colab": {
          "base_uri": "https://localhost:8080/"
        },
        "id": "GFWGMUO_WocM",
        "outputId": "71d360c9-468f-4263-9394-6e6e5df5dacc"
      },
      "execution_count": 5,
      "outputs": [
        {
          "output_type": "stream",
          "name": "stdout",
          "text": [
            "[-5. -4.]\n",
            "[[ 1.        -0.5      ]\n",
            " [ 0.         0.8660254]]\n",
            "[[1.         0.57735027]\n",
            " [0.         1.15470054]]\n",
            "[-7.30940108 -4.61880215]\n"
          ]
        }
      ]
    },
    {
      "cell_type": "code",
      "source": [
        "import matplotlib.pyplot as plt\n",
        "pln = grid_B1\n",
        "plt.imshow(pln, origin='lower')\n",
        "plt.plot(300,200,'ro')"
      ],
      "metadata": {
        "colab": {
          "base_uri": "https://localhost:8080/",
          "height": 454
        },
        "id": "QDBTjuR4N2tL",
        "outputId": "10fcd568-cef1-4686-d928-f9d9ed1d2466"
      },
      "execution_count": 6,
      "outputs": [
        {
          "output_type": "execute_result",
          "data": {
            "text/plain": [
              "[<matplotlib.lines.Line2D at 0x7a803bbdf790>]"
            ]
          },
          "metadata": {},
          "execution_count": 6
        },
        {
          "output_type": "display_data",
          "data": {
            "text/plain": [
              "<Figure size 640x480 with 1 Axes>"
            ],
            "image/png": "[encoded data removed]"
          },
          "metadata": {}
        }
      ]
    },
    {
      "cell_type": "code",
      "source": [
        "XY_shape[0]\n",
        "XY_shape[1]\n",
        "HHH_holder = np.zeros((XY_shape[0],XY_shape[1],4))\n",
        "HAC_holder = np.zeros((XY_shape[0],XY_shape[1],3))\n",
        "\n",
        "for i in range(XY_shape[0]):\n",
        "  for j in range(XY_shape[1]):\n",
        "    phi1_now = grid_B0[i,j]\n",
        "    phi2_now = grid_B1[i,j]\n",
        "\n",
        "\n",
        "    baryHHH,baryHAC = phaseInfo(phi1_now,phi2_now)\n",
        "    HHH_holder[i,j,:] = baryHHH\n",
        "    HAC_holder[i,j,:] = baryHAC.flatten()\n",
        "    # if i == 0:\n",
        "    #   print(phi1_now,phi2_now)"
      ],
      "metadata": {
        "id": "5KL-irnmmvuR"
      },
      "execution_count": 12,
      "outputs": []
    },
    {
      "cell_type": "code",
      "source": [
        "baryHHH,baryHAC = phaseInfo(.2,.1)\n",
        "print(baryHHH)\n",
        "print(baryHAC)"
      ],
      "metadata": {
        "colab": {
          "base_uri": "https://localhost:8080/"
        },
        "id": "570oVs-XoY7q",
        "outputId": "f93f6396-a0e3-45b5-fd94-be90e42ea2ec"
      },
      "execution_count": 8,
      "outputs": [
        {
          "output_type": "stream",
          "name": "stdout",
          "text": [
            "[0.62022535 0.         0.         0.375     ]\n",
            "[0.24522535 0.37022535 0.3845493 ]\n"
          ]
        }
      ]
    },
    {
      "cell_type": "code",
      "source": [
        "import matplotlib.pyplot as plt\n",
        "fig = plt.figure()\n",
        "pln = HHH_holder[:,:,1]\n",
        "plt.imshow(pln, origin='lower')\n",
        "plt.plot(251,201,'ro')"
      ],
      "metadata": {
        "colab": {
          "base_uri": "https://localhost:8080/",
          "height": 454
        },
        "id": "6TWjtUfWn0Zb",
        "outputId": "c6df9038-691d-4479-b7ef-c94cf79bdd71"
      },
      "execution_count": 29,
      "outputs": [
        {
          "output_type": "execute_result",
          "data": {
            "text/plain": [
              "[<matplotlib.lines.Line2D at 0x7a8031ad5590>]"
            ]
          },
          "metadata": {},
          "execution_count": 29
        },
        {
          "output_type": "display_data",
          "data": {
            "text/plain": [
              "<Figure size 640x480 with 1 Axes>"
            ],
            "image/png": "[encoded data removed]"
          },
          "metadata": {}
        }
      ]
    },
    {
      "cell_type": "code",
      "source": [],
      "metadata": {
        "id": "yaZMGYprrnPz"
      },
      "execution_count": null,
      "outputs": []
    }
  ]
}