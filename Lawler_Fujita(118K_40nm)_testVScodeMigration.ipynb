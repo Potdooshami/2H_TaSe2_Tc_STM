{
  "cells": [
    {
      "cell_type": "markdown",
      "metadata": {
        "colab_type": "text",
        "id": "view-in-github"
      },
      "source": [
        "<a href=\"https://colab.research.google.com/github/Potdooshami/2H_TaSe2_Tc_STM/blob/main/Lawler_Fujita(118K_40nm).ipynb\" target=\"_parent\"><img src=\"https://colab.research.google.com/assets/colab-badge.svg\" alt=\"Open In Colab\"/></a>"
      ]
    },
    {
      "cell_type": "markdown",
      "metadata": {
        "id": "VnCijtBm6yYv"
      },
      "source": [
        "# Load File"
      ]
    },
    {
      "cell_type": "markdown",
      "metadata": {
        "id": "JT70Z4Q4z7gH"
      },
      "source": [
        "## Dataprocessing environment setting"
      ]
    },
    {
      "cell_type": "code",
      "execution_count": null,
      "metadata": {
        "id": "FqO6CJxP36Eb"
      },
      "outputs": [],
      "source": [
        "# !pip install gwyfile I've installed gwyfile via pip\n",
        "# from google.colab import drive\n",
        "# drive.mount('/content/drive')"
      ]
    },
    {
      "cell_type": "markdown",
      "metadata": {
        "id": "QrX67-Iya9o5"
      },
      "source": [
        "load `.gwy` files' list"
      ]
    },
    {
      "cell_type": "code",
      "execution_count": 5,
      "metadata": {
        "id": "cc15f041"
      },
      "outputs": [],
      "source": [
        "dir = './phaseAnalysis'\n",
        "import os\n",
        "files = os.listdir(dir)\n",
        "files_no_ext = [f.replace('.gwy', '') for f in files]"
      ]
    },
    {
      "cell_type": "code",
      "execution_count": 6,
      "metadata": {},
      "outputs": [
        {
          "data": {
            "text/plain": [
              "['2HTaSe2_ah035',\n",
              " '2HTaSe2_aj036',\n",
              " '2HTaSe2_ao_115K037',\n",
              " '2HTaSe2_ap_118K002',\n",
              " '2HTaSe2_bad_78K097',\n",
              " '2HTaSe2_bad_78K100',\n",
              " '2HTaSe2_bae_110K012',\n",
              " '2HTaSe2_bae_110K013']"
            ]
          },
          "execution_count": 6,
          "metadata": {},
          "output_type": "execute_result"
        }
      ],
      "source": [
        "files_no_ext"
      ]
    },
    {
      "cell_type": "markdown",
      "metadata": {
        "id": "9-ay6bsG4HGG"
      },
      "source": [
        "load `.gwy` files' header"
      ]
    },
    {
      "cell_type": "markdown",
      "metadata": {
        "id": "qa9w2BHLHElK"
      },
      "source": [
        "## Choose a file"
      ]
    },
    {
      "cell_type": "markdown",
      "metadata": {
        "id": "IRFwaTAjlnQc"
      },
      "source": [
        "ah035,aj036,ao037,ap002"
      ]
    },
    {
      "cell_type": "code",
      "execution_count": null,
      "metadata": {
        "id": "EE1pEfhx9QC5"
      },
      "outputs": [],
      "source": [
        "dfCrrent[['scan_range_1_sxm','bias_sxm', 'scan_pixels_1_sxm']]"
      ]
    },
    {
      "cell_type": "markdown",
      "metadata": {
        "id": "Y4F_oROz8VNv"
      },
      "source": []
    },
    {
      "cell_type": "code",
      "execution_count": null,
      "metadata": {
        "id": "khi3goPP-VEv"
      },
      "outputs": [],
      "source": [
        "fn = '2HTaSe2_ap_118K002'\n",
        "fnlong = dir +'/'+ fn +'.gwy'"
      ]
    },
    {
      "cell_type": "code",
      "execution_count": null,
      "metadata": {
        "id": "Ku1AWXmdFAMn"
      },
      "outputs": [],
      "source": [
        "sz_nano = dfCrrent.loc[fn][['scan_range_1_sxm','scan_range_2_sxm']].values *1000000000\n",
        "pxl = dfCrrent.loc[fn][['scan_pixels_1_sxm','scan_pixels_2_sxm']].values"
      ]
    },
    {
      "cell_type": "markdown",
      "metadata": {
        "id": "B2Bvp3VZr4z5"
      },
      "source": [
        "## Declare 1st array"
      ]
    },
    {
      "cell_type": "code",
      "execution_count": null,
      "metadata": {
        "id": "vy_TsaLF8BYh"
      },
      "outputs": [],
      "source": [
        "import gwyfile\n",
        "import numpy as np\n",
        "\n",
        "# gwy open\n",
        "container = gwyfile.load(fnlong)\n",
        "arr = container['/0/data']['data']\n",
        "arr = arr.reshape(pxl)"
      ]
    },
    {
      "cell_type": "markdown",
      "metadata": {
        "id": "e9wC0L6I7Xi0"
      },
      "source": [
        "# Remove Background"
      ]
    },
    {
      "cell_type": "markdown",
      "metadata": {
        "id": "aHXMtFEvnuhy"
      },
      "source": [
        "## fcn spaces"
      ]
    },
    {
      "cell_type": "code",
      "execution_count": null,
      "metadata": {
        "id": "vEK9JFfent85"
      },
      "outputs": [],
      "source": [
        "from matplotlib import pyplot as plt\n",
        "from scipy.ndimage import gaussian_filter\n",
        "from skimage.morphology import binary_opening, disk, binary_dilation\n",
        "from skimage.restoration import inpaint\n",
        "def ceilcut(image,threshold):\n",
        "  imagec = image.copy()\n",
        "  imagec[image>threshold] = threshold\n",
        "  return imagec\n",
        "def replace_with_average(img_original, bw):\n",
        "  \"\"\"\n",
        "  Replaces the value of specific part of image as average.\n",
        "\n",
        "  Args:\n",
        "    img_original: (n,m) float array, the original image.\n",
        "    bw: (n,m) boolean array, the mask where True indicates the part to be replaced.\n",
        "\n",
        "  Returns:\n",
        "    img_cleaned: (n,m) float array, the image with the specified part replaced by the average.\n",
        "  \"\"\"\n",
        "  # Calculate the average of the values in img_original where bw is False\n",
        "  average_false_part = np.mean(img_original[~bw])\n",
        "\n",
        "  # Create a copy of the original image\n",
        "  img_cleaned = img_original.copy()\n",
        "\n",
        "  # Replace the values in img_cleaned where bw is True with the calculated average\n",
        "  img_cleaned[bw] = average_false_part\n",
        "\n",
        "  return img_cleaned"
      ]
    },
    {
      "cell_type": "markdown",
      "metadata": {
        "id": "1dttx-E99ttX"
      },
      "source": [
        "## Tip excitation remove"
      ]
    },
    {
      "cell_type": "code",
      "execution_count": null,
      "metadata": {
        "id": "hSTNo7FTd4xo"
      },
      "outputs": [],
      "source": [
        "p = 10**(-12)\n",
        "# ac,ac2 = auto_clim(arr)\n",
        "cut_l = arr> p*10\n",
        "cut_h = arr> p*30\n",
        "\n",
        "selem_size = 1 # Example size, you might need to tune this\n",
        "selem = disk(selem_size)\n",
        "\n",
        "# Apply the binary opening operation\n",
        "opened = binary_opening(cut_l, footprint=selem)\n",
        "opened_dil =  binary_dilation(opened,footprint=disk(1))\n",
        "fianl_tipex = cut_l & ~opened_dil\n",
        "interped_avg = replace_with_average(arr, fianl_tipex)\n",
        "# interped_inpaint = inpaint.inpaint_biharmonic(arr, fianl_tipex, channel_axis=-1)\n",
        "interped_inpaint = inpaint.inpaint_biharmonic(arr, fianl_tipex)"
      ]
    },
    {
      "cell_type": "markdown",
      "metadata": {
        "id": "gD09omOpomYJ"
      },
      "source": [
        "## High-pass filter"
      ]
    },
    {
      "cell_type": "code",
      "execution_count": null,
      "metadata": {
        "id": "RKql71nIpNP7"
      },
      "outputs": [],
      "source": [
        "param_ceilCut = 10 # @param\n",
        "param_sigma = 5 # @param\n",
        "from scipy.ndimage import gaussian_filter\n",
        "# arr_c = ceilcut(arr,p*param_ceilCut)\n",
        "lowfreq = gaussian_filter(interped_avg,sigma=param_sigma)\n",
        "highfreq = interped_avg - lowfreq"
      ]
    },
    {
      "cell_type": "code",
      "execution_count": null,
      "metadata": {
        "id": "Lg6XannHceX-"
      },
      "outputs": [],
      "source": [
        "def tickoff():\n",
        "  ax = plt.gca()\n",
        "  ax.set_xticks([])\n",
        "  ax.set_yticks([])"
      ]
    },
    {
      "cell_type": "code",
      "execution_count": null,
      "metadata": {
        "id": "I2yOJ5QMoi6L"
      },
      "outputs": [],
      "source": [
        "def replace_with_average(img_original, bw):\n",
        "  \"\"\"\n",
        "  Replaces the value of specific part of image as average.\n",
        "\n",
        "  Args:\n",
        "    img_original: (n,m) float array, the original image.\n",
        "    bw: (n,m) boolean array, the mask where True indicates the part to be replaced.\n",
        "\n",
        "  Returns:\n",
        "    img_cleaned: (n,m) float array, the image with the specified part replaced by the average.\n",
        "  \"\"\"\n",
        "  # Calculate the average of the values in img_original where bw is False\n",
        "  average_false_part = np.mean(img_original[~bw])\n",
        "\n",
        "  # Create a copy of the original image\n",
        "  img_cleaned = img_original.copy()\n",
        "\n",
        "  # Replace the values in img_cleaned where bw is True with the calculated average\n",
        "  img_cleaned[bw] = average_false_part\n",
        "\n",
        "  return img_cleaned"
      ]
    },
    {
      "cell_type": "markdown",
      "metadata": {
        "id": "x7-r7ABuorjQ"
      },
      "source": [
        "## Visualization"
      ]
    },
    {
      "cell_type": "code",
      "execution_count": null,
      "metadata": {
        "id": "96UYd4cfnqIr"
      },
      "outputs": [],
      "source": [
        "def gci():\n",
        "    \"\"\"\n",
        "    Get the current image object.\n",
        "\n",
        "    Returns\n",
        "    -------\n",
        "    matplotlib.image.AxesImage\n",
        "        The most recently added image object on the current axes.\n",
        "    \"\"\"\n",
        "    return plt.gca().images[-1]\n",
        "\n",
        "def change_image_range(image_object, vmin=None, vmax=None):\n",
        "    \"\"\"\n",
        "    Change the vmin and vmax of a matplotlib image object.\n",
        "\n",
        "    Parameters\n",
        "    ----------\n",
        "    image_object : matplotlib.image.AxesImage\n",
        "        The image object to modify.\n",
        "    vmin : float, optional\n",
        "        The new minimum value for the color mapping. If None, the current vmin is kept.\n",
        "    vmax : float, optional\n",
        "        The new maximum value for the color mapping. If None, the current vmax is kept.\n",
        "    \"\"\"\n",
        "    if vmin is not None:\n",
        "        image_object.set_clim(vmin=vmin)\n",
        "    if vmax is not None:\n",
        "        image_object.set_clim(vmax=vmax)\n",
        "\n",
        "def auto_clim(data, method='percentile', lower=1, upper=99):\n",
        "    \"\"\"\n",
        "    data: 2D array\n",
        "    method: 'percentile' or 'std'\n",
        "    \"\"\"\n",
        "    if method == 'percentile':\n",
        "        vmin, vmax = np.percentile(data, [lower, upper])\n",
        "    elif method == 'std':\n",
        "        mean = np.mean(data)\n",
        "        std = np.std(data)\n",
        "        vmin, vmax = mean - std, mean + std\n",
        "    else:\n",
        "        raise ValueError(\"method must be 'percentile' or 'std'\")\n",
        "    return vmin, vmax\n",
        "# def ac():"
      ]
    },
    {
      "cell_type": "code",
      "execution_count": null,
      "metadata": {
        "id": "PcO234xRklsm"
      },
      "outputs": [],
      "source": [
        "def auto199():\n",
        "  ic = gci()\n",
        "  foo = ic.get_array()\n",
        "  aclim =  auto_clim(foo, method='percentile', lower=1, upper=99)\n",
        "  change_image_range(ic, aclim[0], aclim[1])"
      ]
    },
    {
      "cell_type": "code",
      "execution_count": null,
      "metadata": {
        "id": "cmLXuVUgIqFN"
      },
      "outputs": [],
      "source": [
        "def plot_result(image, background):\n",
        "    fig, ax = plt.subplots(nrows=1, ncols=3)\n",
        "\n",
        "    ax[0].imshow(image, cmap='gray')\n",
        "    ax[0].set_title('Original image')\n",
        "    ax[0].axis('off')\n",
        "\n",
        "    ax[1].imshow(background, cmap='gray')\n",
        "    ax[1].set_title('Background')\n",
        "    ax[1].axis('off')\n",
        "\n",
        "    ax[2].imshow(image - background, cmap='gray')\n",
        "    ax[2].set_title('Result')\n",
        "    ax[2].axis('off')\n",
        "\n",
        "    fig.tight_layout()\n",
        "    return fig,ax"
      ]
    },
    {
      "cell_type": "code",
      "execution_count": null,
      "metadata": {
        "id": "gf05-YDrHb8l"
      },
      "outputs": [],
      "source": [
        "from matplotlib import pyplot as plt\n",
        "from google.colab import widgets\n",
        "from google.colab import output\n",
        "fsz = 5\n",
        "fszt = (fsz,fsz)\n",
        "visTab = ['pureArray', 'binary_flor','binary_ceil','binary_open','binary_opened_dil','bin_tipex','interp_avg','interp_inpaint','lowfreq']\n",
        "tb = widgets.TabBar(visTab, location='top')\n",
        "with tb.output_to(visTab[0]):\n",
        "  fig = plt.figure(figsize=fszt)\n",
        "  plt.imshow(arr,cmap='afmhot')\n",
        "  tickoff()\n",
        "  # print(\"foo\")\n",
        "  auto199()\n",
        "with tb.output_to(visTab[1]):\n",
        "  cut = arr> p*10\n",
        "  fig = plt.figure(figsize=fszt)\n",
        "  plt.imshow(cut_l,cmap='afmhot')\n",
        "  tickoff()\n",
        "with tb.output_to(visTab[2]):\n",
        "  cut = arr> p*30\n",
        "  fig = plt.figure(figsize=fszt)\n",
        "  plt.imshow(cut_h,cmap='afmhot')\n",
        "  tickoff()\n",
        "  # print(\"bar\")\n",
        "with tb.output_to(visTab[3]):\n",
        "  fig = plt.figure(figsize=fszt)\n",
        "  plt.imshow(opened,cmap='afmhot')\n",
        "  tickoff()\n",
        "with tb.output_to(visTab[4]):\n",
        "  fig = plt.figure(figsize=fszt)\n",
        "  plt.imshow(opened_dil,cmap='afmhot')\n",
        "  tickoff()\n",
        "with tb.output_to(visTab[5]):\n",
        "  fig = plt.figure(figsize=fszt)\n",
        "  plt.imshow(fianl_tipex,cmap='afmhot')\n",
        "  tickoff()\n",
        "with tb.output_to(visTab[6]):\n",
        "  fig = plt.figure(figsize=fszt)\n",
        "  plt.imshow(interped_avg,cmap='afmhot')\n",
        "  tickoff()\n",
        "  # auto199()\n",
        "with tb.output_to(visTab[7]):\n",
        "  fig = plt.figure(figsize=fszt)\n",
        "  plt.imshow(interped_inpaint,cmap='afmhot')\n",
        "  tickoff()\n",
        "with tb.output_to(visTab[8]):\n",
        "  fig = plt.figure(figsize=fszt)\n",
        "  plt.imshow(highfreq,cmap='afmhot')\n",
        "  tickoff()\n",
        "\n",
        "  auto199()"
      ]
    },
    {
      "cell_type": "code",
      "execution_count": null,
      "metadata": {
        "id": "MhtUqfoQQKMo"
      },
      "outputs": [],
      "source": [
        "fig.set_figheight(20)\n",
        "fig.set_figwidth(20)\n",
        "fig"
      ]
    },
    {
      "cell_type": "markdown",
      "metadata": {
        "id": "y45662KoItxA"
      },
      "source": [
        "phasemap"
      ]
    },
    {
      "cell_type": "markdown",
      "metadata": {
        "id": "mrxsNKYbMJ2R"
      },
      "source": [
        "# FFT peak find"
      ]
    },
    {
      "cell_type": "code",
      "execution_count": null,
      "metadata": {
        "id": "Pr_TglsArVAm"
      },
      "outputs": [],
      "source": [
        "from scipy.fft import fft2, fftshift\n",
        "from skimage.feature import peak_local_max\n",
        "def fft2show(arr_cln,vmin,vmax):\n",
        "  fft_result = fft2(arr_cln)\n",
        "  fft_result_shifted = fftshift(fft_result)\n",
        "  magnitude_spectrum = np.abs(fft_result_shifted)\n",
        "  plt.figure(figsize=(10, 10))\n",
        "  plt.imshow(magnitude_spectrum, cmap='gray', vmin=vmin, vmax=vmax)\n",
        "  plt.title('Magnitude Spectrum of 2D FFT')\n",
        "  return  magnitude_spectrum\n",
        "def fft2pkfnd(fft2abs,threshold,choose):\n",
        "  coordinates = peak_local_max(fft2abs, min_distance=100, threshold_abs = threshold)\n",
        "  plt.scatter(coordinates[:, 1], coordinates[:, 0], s=50, facecolors='none', edgecolors='r')\n",
        "  for ipeak in range(coordinates.shape[0]):\n",
        "    plt.text(coordinates[ipeak,1],coordinates[ipeak,0],str(ipeak), color='g')\n",
        "  coordinates_choose = coordinates[choose,:]\n",
        "  print(coordinates_choose)\n",
        "  print(coordinates_choose.shape[0])\n",
        "  for ipeak in range(coordinates_choose.shape[0]):\n",
        "    plt.text(coordinates_choose[ipeak,1],coordinates_choose[ipeak,0],str(ipeak), color='b',size= 20)\n",
        "    pk_all = coordinates - (np.array(fft2abs.shape)/2)\n",
        "    pk_choose = pk_all[choose,:]\n",
        "  return pk_choose,pk_all\n",
        "arr_cln = highfreq"
      ]
    },
    {
      "cell_type": "markdown",
      "metadata": {
        "id": "FhY_I7DB_I4w"
      },
      "source": [
        "##handles"
      ]
    },
    {
      "cell_type": "code",
      "execution_count": null,
      "metadata": {
        "id": "chdZ77yVudPL"
      },
      "outputs": [],
      "source": [
        "vmin = 0 # @param\n",
        "vmax = 0.0000001 # @param\n",
        "threshold = 0.00000001 # @param\n",
        "choose = [0,2,5] # @param"
      ]
    },
    {
      "cell_type": "markdown",
      "metadata": {
        "id": "Nq14l808_Npa"
      },
      "source": [
        "## Visualization for Check"
      ]
    },
    {
      "cell_type": "code",
      "execution_count": null,
      "metadata": {
        "id": "UfM4SDut0CN5"
      },
      "outputs": [],
      "source": [
        "fft2abs = fft2show(arr_cln,vmin,vmax)\n",
        "pk_choose,pk_all = fft2pkfnd(fft2abs,threshold,choose)\n",
        "print(pk_choose)\n",
        "print(pk_all)"
      ]
    },
    {
      "cell_type": "markdown",
      "metadata": {
        "id": "D5mAp7Ce_sIe"
      },
      "source": [
        "#Remove extrinsic drift effect"
      ]
    },
    {
      "cell_type": "code",
      "execution_count": null,
      "metadata": {
        "id": "t9Rhm0GN_rKa"
      },
      "outputs": [],
      "source": [
        "def generate_sine_wave_from_k(k_value,  arr_shape,phi=0):\n",
        "  \"\"\"\n",
        "  Generates a 2D sine wave based on a k-value (spatial frequency vector).\n",
        "\n",
        "  Args:\n",
        "    k_value: A 2-element numpy array representing the centered k-vector\n",
        "             (ky_c, kx_c) in pixel units from the FFT.\n",
        "    arr_shape: A tuple (image_height, image_width) representing the shape\n",
        "               of the desired output image in pixels.\n",
        "    phi: Optional phase offset in radians. Defaults to 0.\n",
        "\n",
        "  Returns:\n",
        "    A 2D numpy array representing the sine wave.\n",
        "  \"\"\"\n",
        "  # Get the centered k-vector components\n",
        "  ky_c = k_value[0]\n",
        "  kx_c = k_value[1]\n",
        "  image_height, image_width = arr_shape\n",
        "  # Create a grid of spatial coordinates (pixel indices)\n",
        "  y_indices, x_indices = np.indices((image_height, image_width))\n",
        "\n",
        "  # Calculate spatial frequencies in cycles per pixel\n",
        "  spatial_freq_x_cpp = kx_c / image_width\n",
        "  spatial_freq_y_cpp = ky_c / image_height\n",
        "\n",
        "  # Construct the full argument for the sine wave, including the 2*pi factor and phase\n",
        "  argument = 2 * np.pi * (spatial_freq_x_cpp * x_indices + spatial_freq_y_cpp * y_indices) + phi\n",
        "\n",
        "  # Generate the sine wave\n",
        "  sine_wave = np.sin(argument)\n",
        "\n",
        "  return sine_wave\n",
        "def kdispacementmap(arr,k,sig):\n",
        "  sw = generate_sine_wave_from_k(k,  arr.shape,0)\n",
        "  cw = generate_sine_wave_from_k(k,  arr.shape,np.pi/2)\n",
        "  sprod = gaussian_filter(sw*arr,sig)\n",
        "  cprod = gaussian_filter(cw*arr,sig)\n",
        "  xprod = cprod +sprod*1j\n",
        "  return xprod\n",
        "def visxprod(xprod):\n",
        "  fig,axs = plt.subplots(2,2,figsize=(10, 10))\n",
        "\n",
        "  #sw = generate_sine_wave_from_k(k,  aff_br.shape,0)\n",
        "  tns = ['Re','Img','theta','radial']\n",
        "  isbs = [0,0,1,1]\n",
        "  jsbs = [0,1,0,1]\n",
        "  funcs = [np.real, np.imag, np.angle, np.abs]\n",
        "  cmaps = ['PuOr','vanimo','twilight','plasma']\n",
        "  for isb,jsb,func,tn,cmap in zip(isbs,jsbs,funcs,tns,cmaps):\n",
        "    reimg = func(xprod)\n",
        "    #if tn == 'theta':\n",
        "     # reimg = unwrap_phase(reimg)\n",
        "    #else:\n",
        "    vmin,vmax = auto_clim(reimg, method='percentile')\n",
        "    im = axs[isb,jsb].imshow(reimg, cmap=cmap,vmin=vmin,vmax=vmax)\n",
        "    plt.colorbar(im, ax=axs[isb,jsb])\n",
        "    axs[isb,jsb].set_title(tn)\n",
        "    axs[isb,jsb].set_xticks([])\n",
        "    axs[isb,jsb].set_yticks([])\n",
        "  return fig, axs\n",
        "\n",
        "def auto_clim(data, method='percentile', lower=1, upper=99):\n",
        "  \"\"\"\n",
        "  data: 2D array\n",
        "  method: 'percentile' or 'std'\n",
        "  \"\"\"\n",
        "  if method == 'percentile':\n",
        "      vmin, vmax = np.percentile(data, [lower, upper])\n",
        "  elif method == 'std':\n",
        "      mean = np.mean(data)\n",
        "      std = np.std(data)\n",
        "      vmin, vmax = mean - std, mean + std\n",
        "  else:\n",
        "      raise ValueError(\"method must be 'percentile' or 'std'\")\n",
        "  return vmin, vmax"
      ]
    },
    {
      "cell_type": "code",
      "execution_count": null,
      "metadata": {
        "id": "-49SvJMo_XlI"
      },
      "outputs": [],
      "source": [
        "ik = 1 # @param\n",
        "k = pk_choose[ik]/3\n",
        "sig = 10 # @param\n",
        "xprod = kdispacementmap(arr_cln,k,sig)\n",
        "visxprod(xprod)\n",
        "plt.suptitle(\"k\"+str(ik))"
      ]
    },
    {
      "cell_type": "code",
      "execution_count": null,
      "metadata": {
        "id": "5kVLm64oKHKs"
      },
      "outputs": [],
      "source": [
        "ks_Latt = pk_choose\n",
        "ks_CDW = pk_choose/3"
      ]
    },
    {
      "cell_type": "code",
      "execution_count": null,
      "metadata": {
        "id": "PkYPlcrvTC6C"
      },
      "outputs": [],
      "source": [
        "def wrap_phase(unwrapped_phase):\n",
        "  \"\"\"\n",
        "  Wraps unwrapped phase data into the range of (-pi, pi].\n",
        "\n",
        "  Args:\n",
        "    unwrapped_phase: A numpy array containing the unwrapped phase data.\n",
        "\n",
        "  Returns:\n",
        "    A numpy array containing the wrapped phase data.\n",
        "  \"\"\"\n",
        "  wrapped_phase = np.mod(unwrapped_phase + np.pi, 2 * np.pi) - np.pi\n",
        "  return wrapped_phase\n",
        "from skimage.restoration import unwrap_phase"
      ]
    },
    {
      "cell_type": "code",
      "execution_count": null,
      "metadata": {
        "id": "rLk7Cy8QJzVu"
      },
      "outputs": [],
      "source": [
        "\n",
        "sig = 10 # @param\n",
        "angle_restores = []\n",
        "\n",
        "for ik in range(3):\n",
        "  k_Latt = ks_Latt[ik]\n",
        "  k_CDW = ks_CDW[ik]\n",
        "  angle_restore = (unwrap_phase(np.angle(kdispacementmap(arr_cln,k_CDW,sig)))\n",
        "   - unwrap_phase(np.angle(kdispacementmap(arr_cln,k_Latt,sig)))/3)\n",
        "  angle_restores.append(angle_restore)\n",
        "\n",
        "\n"
      ]
    },
    {
      "cell_type": "code",
      "execution_count": null,
      "metadata": {
        "id": "ICYV81YqQquU"
      },
      "outputs": [],
      "source": [
        "fig,axs = plt.subplots(1,3,figsize=(15, 15))\n",
        "tns = ['k1','k2','k3']\n",
        "yns = ['CDW','atom','CDW_compensate']\n",
        "for ik,tn in zip(range(3),tns):\n",
        "    reimg = angle_restores[ik]\n",
        "    reimg = wrap_phase(reimg)\n",
        "    axs[ik].imshow(reimg, cmap='twilight')\n",
        "    axs[ik].set_title(tn)\n",
        "    axs[ik].set_xticks([])\n",
        "    axs[ik].set_yticks([])"
      ]
    },
    {
      "cell_type": "markdown",
      "metadata": {
        "id": "K0OEmDCt1Atl"
      },
      "source": []
    },
    {
      "cell_type": "markdown",
      "metadata": {
        "id": "V009q09wPOrT"
      },
      "source": [
        "## Tip change effect compensation"
      ]
    },
    {
      "cell_type": "code",
      "execution_count": null,
      "metadata": {
        "id": "1qv0eLfj24jm"
      },
      "outputs": [],
      "source": [
        "class CropWindow:\n",
        "    def __init__(self, *, xywh=None, xlimylim=None, rlist=None):\n",
        "        if xywh is not None:\n",
        "            self.x, self.y, self.w, self.h = xywh\n",
        "        elif xlimylim is not None:\n",
        "            (x_min, x_max), (y_min, y_max) = xlimylim\n",
        "            self.x, self.y = x_min, y_min\n",
        "            self.w, self.h = x_max - x_min, y_max - y_min\n",
        "        elif rlist is not None:\n",
        "            xs = [p[0] for p in rlist]\n",
        "            ys = [p[1] for p in rlist]\n",
        "            self.x, self.y = min(xs), min(ys)\n",
        "            self.w, self.h = max(xs) - min(xs), max(ys) - min(ys)\n",
        "        else:\n",
        "            raise ValueError(\"One of xywh, xlimylim, rlist must be provided.\")\n",
        "\n",
        "    # --------------------\n",
        "    # 변환 메서드들\n",
        "    # --------------------\n",
        "    def to_xywh(self):\n",
        "        return (self.x, self.y, self.w, self.h)\n",
        "\n",
        "    def to_xlimylim(self):\n",
        "        return (self.x, self.x + self.w), (self.y, self.y + self.h)\n",
        "\n",
        "    def to_rlist(self):\n",
        "        return [\n",
        "            (self.x, self.y),\n",
        "            (self.x + self.w, self.y),\n",
        "            (self.x + self.w, self.y + self.h),\n",
        "            (self.x, self.y + self.h),\n",
        "        ]\n",
        "\n",
        "    # 보기 좋게 출력\n",
        "    def __repr__(self):\n",
        "        return f\"CropWindow(xywh={self.to_xywh()})\"\n"
      ]
    },
    {
      "cell_type": "markdown",
      "metadata": {
        "id": "iPKnQ8nSRYx2"
      },
      "source": [
        "Here, no tip change effect"
      ]
    },
    {
      "cell_type": "markdown",
      "metadata": {
        "id": "79TFHhYVOCx8"
      },
      "source": [
        "#Phase imaging"
      ]
    },
    {
      "cell_type": "markdown",
      "metadata": {
        "id": "5Jol1XKjVk47"
      },
      "source": [
        "##Determine guage ground"
      ]
    },
    {
      "cell_type": "code",
      "execution_count": null,
      "metadata": {
        "id": "K28lwfhDPm3X"
      },
      "outputs": [],
      "source": [
        "def auto_clim(data, method='percentile', lower=1, upper=99):\n",
        "  \"\"\"\n",
        "  data: 2D array\n",
        "  method: 'percentile' or 'std'\n",
        "  \"\"\"\n",
        "  if method == 'percentile':\n",
        "      vmin, vmax = np.percentile(data, [lower, upper])\n",
        "  elif method == 'std':\n",
        "      mean = np.mean(data)\n",
        "      std = np.std(data)\n",
        "      vmin, vmax = mean - std, mean + std\n",
        "  else:\n",
        "      raise ValueError(\"method must be 'percentile' or 'std'\")\n",
        "  return vmin, vmax\n"
      ]
    },
    {
      "cell_type": "code",
      "execution_count": null,
      "metadata": {
        "id": "ea9pwtX1OB2T"
      },
      "outputs": [],
      "source": [
        "plt.figure(figsize=(10, 10)) # Adjust the size as needed\n",
        "plt.imshow(arr_cln,cmap='afmhot')\n",
        "ax = plt.gca()\n",
        "ax.images[0].set_clim(\n",
        "    auto_clim(arr_cln, method='percentile', lower=1, upper=99.9)\n",
        ")\n",
        "x = 50\n",
        "y = 200\n",
        "ax.plot(x,y,\"bo\")\n",
        "# ax.set_xlim([700,900])\n",
        "# ax.set_ylim([700,900])\n"
      ]
    },
    {
      "cell_type": "code",
      "execution_count": null,
      "metadata": {
        "id": "QaTzdOI3QOAD"
      },
      "outputs": [],
      "source": [
        "angle_restores_g = []\n",
        "for ik in range(3):\n",
        "  angle_restore = angle_restores[ik]\n",
        "  angle_restore_g = angle_restore - angle_restore[y,x]\n",
        "  angle_restores_g.append(angle_restore_g)"
      ]
    },
    {
      "cell_type": "code",
      "execution_count": null,
      "metadata": {
        "id": "FFujjUOBXvEj"
      },
      "outputs": [],
      "source": [
        "fig,axs = plt.subplots(1,3,figsize=(15, 15))\n",
        "tns = ['k1','k2','k3']\n",
        "yns = ['CDW','atom','CDW_compensate']\n",
        "for ik,tn in zip(range(3),tns):\n",
        "    reimg = angle_restores[ik]\n",
        "    reimg = wrap_phase(reimg)\n",
        "    axs[ik].imshow(reimg, cmap='twilight')\n",
        "    axs[ik].set_title(tn)\n",
        "    axs[ik].set_xticks([])\n",
        "    axs[ik].set_yticks([])\n",
        "    axs[ik].plot(x,y,\"ko\")\n",
        "    # ax.set_xlim([700,900])\n",
        "    # ax.set_ylim([700,900])"
      ]
    },
    {
      "cell_type": "code",
      "execution_count": null,
      "metadata": {
        "id": "7nqHy2ZcPrP4"
      },
      "outputs": [],
      "source": [
        "fig,axs = plt.subplots(1,3,figsize=(15, 15))\n",
        "tns = ['k1','k2','k3']\n",
        "yns = ['CDW','atom','CDW_compensate']\n",
        "for ik,tn in zip(range(3),tns):\n",
        "    reimg = angle_restores_g[ik]\n",
        "    reimg = wrap_phase(reimg)\n",
        "    axs[ik].imshow(reimg, cmap='twilight')\n",
        "    axs[ik].set_title(tn)\n",
        "    axs[ik].set_xticks([])\n",
        "    axs[ik].set_yticks([])\n",
        "    axs[ik].plot(x,y,\"ko\")\n",
        "    # ax.set_xlim([700,900])\n",
        "    # ax.set_ylim([700,900])"
      ]
    },
    {
      "cell_type": "markdown",
      "metadata": {
        "id": "zM-1mxBkj2xy"
      },
      "source": [
        "##Draw phase map"
      ]
    },
    {
      "cell_type": "code",
      "execution_count": null,
      "metadata": {
        "id": "DvFujCqERDwP"
      },
      "outputs": [],
      "source": [
        "import numpy as np\n",
        "\n",
        "## Divide ##\n",
        "def z3z3split(phi1,phi2):\n",
        "  # phi1 from [0,2pi)\n",
        "  # phi2 from [0,2pi)\n",
        "  phi1 = phi1%(2*np.pi) # R -> [0,2pi)\n",
        "  phi2 = phi2%(2*np.pi)\n",
        "  phi1i = phi1/(2*np.pi) # [0,2pi) -> [0,1)\n",
        "  phi2i = phi2/(2*np.pi)\n",
        "  z3z31, rphi1 = divmod(phi1i, 1/3)\n",
        "  z3z32, rphi2 = divmod(phi2i, 1/3)\n",
        "  z3z3 = [z3z31,z3z32] # {0,1,2} #len2 list\n",
        "  rphi12 = [rphi1*3,rphi2*3] # [0,1) #len2 list\n",
        "  return z3z3,rphi12\n",
        "\n",
        "def rlsplit(rphi12):\n",
        "  is_close_10 = rphi12[0]>rphi12[1]#r-like|-> T, g-like|-> F\n",
        "  if not is_close_10:\n",
        "    rphi12 = [rphi12[1],rphi12[0]]\n",
        "  rphi12 = np.array(rphi12)\n",
        "  rphi12 = rphi12.reshape(2,1) #Basis B\n",
        "  I_C__B = np.array([[1,-1],[0,1]]) #Identity\n",
        "  rphi12_C = I_C__B@rphi12 #Basis C\n",
        "  v_c1 = rphi12_C[0,0]\n",
        "  v_c2 = rphi12_C[1,0]\n",
        "  baryHHH_foo = np.array([1-v_c1-v_c2,v_c1,v_c2 ])\n",
        "  baryHHH_foo = baryHHH_foo.reshape(3,1) #order of index: (00),(??),(11)\n",
        "  return is_close_10,baryHHH_foo\n",
        "\n",
        "def sixsplit(baryHHH_foo):\n",
        "  p_BarHHH = np.sort(baryHHH_foo, axis=0)[::-1]\n",
        "  z6 = np.argsort(baryHHH_foo, axis=0)[::-1]\n",
        "  p_AffHHH = p_BarHHH[1:]\n",
        "  I_AffHAC__AffHHH = np.array([[1,2],[1,-1]])\n",
        "  p_AffHAC = I_AffHAC__AffHHH@p_AffHHH\n",
        "  p_BarHAC = np.array([1-p_AffHAC[0]-p_AffHAC[1],p_AffHAC[0],p_AffHAC[1]])\n",
        "  baryHAC_foo = p_BarHAC\n",
        "  return z6,baryHAC_foo\n",
        "\n",
        "## Conquer ##\n",
        "def get_baryHHH(baryHHH_foo,is_close_10):\n",
        "  baryHHH = np.zeros(4)\n",
        "  baryHHH[0] = baryHHH_foo[0,0]\n",
        "  baryHHH[3] = baryHHH_foo[2,0]\n",
        "  # print('here',not(is_close_10)+1)\n",
        "  baryHHH[(not(is_close_10))+1] = baryHHH_foo[1,0]\n",
        "  return baryHHH #order of index: (00),(10),(01),(11)\n",
        "def get_baryHAC(is_close_10,baryHAC_foo):\n",
        "  # baryHAC = np.zeros(3)\n",
        "  baryHAC = baryHAC_foo\n",
        "  if not(is_close_10):\n",
        "    baryHAC = baryHAC_foo[[0,2,1],[0]]\n",
        "  return baryHAC #order of index: H,10L,01L\n",
        "def phaseInfo(phi1,phi2):\n",
        "  z3z3,rphi12 = z3z3split(phi1,phi2)\n",
        "  is_close_10,baryHHH_foo = rlsplit(rphi12)\n",
        "  z6,baryHAC_foo = sixsplit(baryHHH_foo)\n",
        "  baryHHH = get_baryHHH(baryHHH_foo,is_close_10)\n",
        "  baryHAC = get_baryHAC(is_close_10,baryHAC_foo)\n",
        "  return baryHHH,baryHAC,z3z3,z6"
      ]
    },
    {
      "cell_type": "code",
      "execution_count": null,
      "metadata": {
        "id": "DVD5aDmgRGHt"
      },
      "outputs": [],
      "source": [
        "def phaseInfo2(Phi1,Phi2):\n",
        "  XY_shape = Phi1.shape\n",
        "  BaryHHH = np.zeros((XY_shape[0],XY_shape[1],4))\n",
        "  BaryHAC = np.zeros((XY_shape[0],XY_shape[1],3))\n",
        "  Z3z3 = np.zeros((XY_shape[0],XY_shape[1],2))\n",
        "  Z6 = np.zeros((XY_shape[0],XY_shape[1],3))\n",
        "  for i in range(XY_shape[0]):\n",
        "    for j in range(XY_shape[1]):\n",
        "      phi1_now = Phi1[i,j]\n",
        "      phi2_now = Phi2[i,j]\n",
        "\n",
        "      baryHHH,baryHAC,z3z3,z6 = phaseInfo(phi1_now,phi2_now)\n",
        "\n",
        "      BaryHHH[i,j,:] = baryHHH.flatten()\n",
        "      BaryHAC[i,j,:] = baryHAC.flatten()\n",
        "      Z3z3[i,j,0] = z3z3[0]\n",
        "      Z3z3[i,j,1] = z3z3[1]\n",
        "      Z6[i,j,0] = z6[0]\n",
        "      Z6[i,j,1] = z6[1]\n",
        "      Z6[i,j,2] = z6[2]\n",
        "  return BaryHHH,BaryHAC,Z3z3,Z6"
      ]
    },
    {
      "cell_type": "code",
      "execution_count": null,
      "metadata": {
        "id": "qw_vb7XhgVXx"
      },
      "outputs": [],
      "source": [
        "type(angle_restores_g)\n",
        "angle_restores_g[ik].shape"
      ]
    },
    {
      "cell_type": "code",
      "execution_count": null,
      "metadata": {
        "id": "_17blSG55zQ4"
      },
      "outputs": [],
      "source": [
        "Phi1 = (1/2)*angle_restores_g[0]+(-1/4)*angle_restores_g[1]+(-1/4)*angle_restores_g[2]\n",
        "Phi2 = (-1/4)*angle_restores_g[0]+(1/2)*angle_restores_g[1]+(-1/4)*angle_restores_g[2]\n",
        "\n",
        "\n",
        "Phi1 = angle_restores_g[0]\n",
        "Phi2 = -angle_restores_g[1]"
      ]
    },
    {
      "cell_type": "code",
      "execution_count": null,
      "metadata": {
        "id": "WvIDhprIhuzo"
      },
      "outputs": [],
      "source": [
        "Info = phaseInfo2(Phi1,Phi2)"
      ]
    },
    {
      "cell_type": "code",
      "execution_count": null,
      "metadata": {
        "id": "EYqBGzUYiLIK"
      },
      "outputs": [],
      "source": [
        "HAC_holder = Info[1]\n",
        "HAC_argmax = np.argmax(HAC_holder, axis=2)\n",
        "fig = plt.figure(figsize=(20,20))\n",
        "plt.imshow(HAC_argmax, origin='lower',cmap='gray')\n",
        "\n",
        "# plt.plot(250,200,'ro')"
      ]
    },
    {
      "cell_type": "code",
      "execution_count": null,
      "metadata": {
        "id": "TIe0ZfBajIAZ"
      },
      "outputs": [],
      "source": [
        "DWThick = .2\n",
        "dlt = DWThick"
      ]
    },
    {
      "cell_type": "code",
      "execution_count": null,
      "metadata": {
        "id": "8MgLFouqvKA9"
      },
      "outputs": [],
      "source": [
        "dwBW = Info[1][:,:,0]<DWThick"
      ]
    },
    {
      "cell_type": "code",
      "execution_count": null,
      "metadata": {
        "id": "t03Se2guvMKO"
      },
      "outputs": [],
      "source": [
        "def getDWsegment(z6,is_close10):\n",
        "  class6 = [210,201,120,102,21,12]\n",
        "  blk = [1012,1102,120,210]\n",
        "  rlk = [1120,1210,12,102]\n",
        "  glk = [1021,1201,21,201]\n",
        "  class12 = np.array([blk,rlk,glk])\n",
        "\n",
        "  class6this = np.sum(z6*np.array([100,10,1]))\n",
        "  z6 =  class6 == class6this\n",
        "  class12this = class6this +1000*is_close10\n",
        "  classified = class12 == class12this\n",
        "  true_indices = np.where(classified)\n",
        "  classified3 = true_indices[0][0]\n",
        "  return classified3"
      ]
    },
    {
      "cell_type": "code",
      "execution_count": null,
      "metadata": {
        "id": "WiMS8EjbvOOE"
      },
      "outputs": [],
      "source": [
        "Z6 = Info[3]\n",
        "Is_close10 = Info[0][:,:,2]>0\n",
        "\n",
        "# ix,iy= 93,22\n",
        "\n",
        "classified3s = np.zeros(Z6.shape[0:2])\n",
        "for ix in range(Z6.shape[0]):\n",
        "  for iy in range(Z6.shape[1]):\n",
        "    z6 = Z6[ix,iy,:]# input 1\n",
        "    is_close10 = Is_close10[ix,iy]# input 2\n",
        "    classified3 = getDWsegment(z6,is_close10)\n",
        "    classified3s[ix,iy] = classified3"
      ]
    },
    {
      "cell_type": "code",
      "execution_count": null,
      "metadata": {
        "id": "3WW3duT4vRuu"
      },
      "outputs": [],
      "source": [
        "classified3s_rgb = np.stack((classified3s==1,classified3s==0,classified3s==2),axis=2)"
      ]
    },
    {
      "cell_type": "code",
      "execution_count": null,
      "metadata": {
        "id": "HdgZR9TGvTwc"
      },
      "outputs": [],
      "source": [
        "dw_rgb = classified3s_rgb * dwBW[:, :, np.newaxis]"
      ]
    },
    {
      "cell_type": "code",
      "execution_count": null,
      "metadata": {
        "id": "N2PeR_u5vVgQ"
      },
      "outputs": [],
      "source": [
        "Z3z3,Rphi12 =  z3z3split(Phi1,Phi2)\n",
        "coefs = np.array([[-2/4,4/4],[1/2,1/2],[4/4,-2/4]])\n",
        "# coefs.shape\n",
        "\n",
        "chiral = np.einsum('ijk,li->jkl', np.array(Rphi12), coefs)\n",
        "chiral = chiral[:,:,[2,0,1]]\n",
        "chiral[:,:,2] = -chiral[:,:,2]"
      ]
    },
    {
      "cell_type": "code",
      "execution_count": null,
      "metadata": {
        "id": "0TN1gJcxvmYF"
      },
      "outputs": [],
      "source": [
        "chiral_ = np.mod(chiral+dlt/2,.5)-dlt/2\n",
        "chiral_ = -(1/dlt)*(chiral_-dlt/2)\n",
        "#chiral_[:,:2]=chiral_[:,:2]"
      ]
    },
    {
      "cell_type": "code",
      "execution_count": null,
      "metadata": {
        "id": "OYqmldh8vnIm"
      },
      "outputs": [],
      "source": [
        "final = chiral_*dw_rgb"
      ]
    },
    {
      "cell_type": "code",
      "execution_count": null,
      "metadata": {
        "id": "gS9M33rrDkNg"
      },
      "outputs": [],
      "source": [
        "final2 = 1"
      ]
    },
    {
      "cell_type": "code",
      "execution_count": null,
      "metadata": {
        "id": "VyaSxpLcvqJb"
      },
      "outputs": [],
      "source": [
        "for ik in range(3):\n",
        "  foo = final[:,:,ik]\n",
        "  print(foo.min(),foo.max())\n"
      ]
    },
    {
      "cell_type": "code",
      "execution_count": null,
      "metadata": {
        "id": "m0XB2Aj-vt3-"
      },
      "outputs": [],
      "source": [
        "fig = plt.figure(figsize=(10, 10))\n",
        "plt.imshow(final.astype(np.float64))\n",
        "plt.plot(x,y,\"wo\")"
      ]
    },
    {
      "cell_type": "code",
      "execution_count": null,
      "metadata": {
        "id": "oaGZSBdBN8tn"
      },
      "outputs": [],
      "source": [
        "from skimage.color import rgb2hsv,hsv2rgb\n",
        "final2 = rgb2hsv(final)\n",
        "final2[:,:,1] = final2[:,:,2]\n",
        "final2[:,:,2] = 1\n",
        "final2 = hsv2rgb(final2)"
      ]
    },
    {
      "cell_type": "code",
      "execution_count": null,
      "metadata": {
        "id": "yXmzQIcvPVWt"
      },
      "outputs": [],
      "source": [
        "fig = plt.figure(figsize=(10, 10))\n",
        "plt.imshow(final2.astype(np.float64))\n"
      ]
    },
    {
      "cell_type": "code",
      "execution_count": null,
      "metadata": {
        "id": "ePeCgNSlN4lN"
      },
      "outputs": [],
      "source": []
    },
    {
      "cell_type": "code",
      "execution_count": null,
      "metadata": {
        "id": "pQ5ZGOfjE4ZK"
      },
      "outputs": [],
      "source": [
        "plt.figure(figsize=(10, 10)) # Adjust the size as needed\n",
        "plt.imshow(arr_cln,cmap='afmhot')\n",
        "ax = plt.gca()\n",
        "ax.images[0].set_clim(\n",
        "    auto_clim(arr_cln, method='percentile', lower=1, upper=99.9)\n",
        ")\n",
        "x = 875\n",
        "y = 730\n",
        "ax.plot(x,y,\"bo\")\n",
        "ax.set_xlim([600,1000])\n",
        "ax.set_ylim([500,900])"
      ]
    },
    {
      "cell_type": "code",
      "execution_count": null,
      "metadata": {
        "id": "udxo8OW107M8"
      },
      "outputs": [],
      "source": [
        "def get_z3z3hex(Info):\n",
        "  HHH_argmax = np.argmax(Info[0], axis=2)\n",
        "  mod01,mod10 = np.divmod(HHH_argmax ,2)\n",
        "  hex1 = np.mod(Info[2][:,:,0] + mod10,3)\n",
        "  hex2 = np.mod(Info[2][:,:,1] + mod01,3)\n",
        "  z3z3hex = np.stack((hex1,hex2),axis=2)\n",
        "  return z3z3hex"
      ]
    },
    {
      "cell_type": "code",
      "execution_count": null,
      "metadata": {
        "id": "9KePLHKB5F5Q"
      },
      "outputs": [],
      "source": [
        "z3z3hex = get_z3z3hex(Info)"
      ]
    },
    {
      "cell_type": "code",
      "execution_count": null,
      "metadata": {
        "id": "vJV_y23t6Qct"
      },
      "outputs": [],
      "source": [
        "p_00 = [.5,.5,.5]\n",
        "p_12 = [.1,.1,.1]\n",
        "p_21 = [.8,.8,.8]\n",
        "\n",
        "p_10 = [1,0,0]\n",
        "p_01 = [0,1,0]\n",
        "p_22 = [0,0,1]\n",
        "\n",
        "p_20 = [0,1,1]\n",
        "p_02 = [1,0,1]\n",
        "p_11 = [1,1,0]"
      ]
    },
    {
      "cell_type": "code",
      "execution_count": null,
      "metadata": {
        "id": "Fx-tkaqntNTh"
      },
      "outputs": [],
      "source": [
        "colors = {\n",
        "    \"Red Bright\": (1.0, 0.302, 0.302),   # #FF4D4D\n",
        "    \"Red Dark\":   (0.478, 0.110, 0.110), # #7A1C1C\n",
        "    \"Green Bright\": (0.302, 1.0, 0.302), # #4DFF4D\n",
        "    \"Green Dark\":   (0.110, 0.478, 0.110), # #1C7A1C\n",
        "    \"Blue Bright\":  (0.302, 0.58, 1.0),  # #4D94FF\n",
        "    \"Blue Dark\":    (0.110, 0.110, 0.478) # #1C1C7A\n",
        "}"
      ]
    },
    {
      "cell_type": "code",
      "execution_count": null,
      "metadata": {
        "id": "If-DVCeotO2N"
      },
      "outputs": [],
      "source": [
        "p_00 = [.5,.5,.5]\n",
        "p_12 = [.1,.1,.1]\n",
        "p_21 = [.8,.8,.8]\n",
        "\n",
        "p_10 = colors[\"Red Dark\"]\n",
        "p_01 = colors[\"Green Dark\"]\n",
        "p_22 = colors[\"Blue Dark\"]\n",
        "\n",
        "p_20 = colors[\"Red Bright\"]\n",
        "p_02 = colors[\"Green Bright\"]\n",
        "p_11 = colors[\"Blue Bright\"]"
      ]
    },
    {
      "cell_type": "code",
      "execution_count": null,
      "metadata": {
        "id": "v9k2j7cQ6VOH"
      },
      "outputs": [],
      "source": [
        "clrset = [[p_00,p_01,p_02],[p_10,p_11,p_12],[p_20,p_21,p_22]]\n",
        "clrset = np.array(clrset)\n",
        "clrset.shape"
      ]
    },
    {
      "cell_type": "code",
      "execution_count": null,
      "metadata": {
        "id": "kkvMcsGt6Xvg"
      },
      "outputs": [],
      "source": [
        "shp = z3z3hex.shape\n",
        "phase9 = np.zeros((shp[0],shp[1],3))\n",
        "for ix  in range(shp[0]):\n",
        "  for iy in range(shp[1]):\n",
        "    phase9[ix,iy,:] = clrset[int(z3z3hex[ix,iy,0]),int(z3z3hex[ix,iy,1]),:]"
      ]
    },
    {
      "cell_type": "code",
      "execution_count": null,
      "metadata": {
        "id": "NHeokmht6Yco"
      },
      "outputs": [],
      "source": [
        "plt.imshow(phase9)"
      ]
    },
    {
      "cell_type": "code",
      "execution_count": null,
      "metadata": {
        "id": "n9nNT4SB6gzz"
      },
      "outputs": [],
      "source": [
        "plt.imshow(z3z3hex[:,:,0])"
      ]
    },
    {
      "cell_type": "code",
      "execution_count": null,
      "metadata": {
        "id": "3hZ02PQO6nGH"
      },
      "outputs": [],
      "source": [
        "plt.imshow(z3z3hex[:,:,1])"
      ]
    },
    {
      "cell_type": "code",
      "execution_count": null,
      "metadata": {
        "id": "RQMlSaIq_CCn"
      },
      "outputs": [],
      "source": [
        "shp"
      ]
    },
    {
      "cell_type": "code",
      "execution_count": null,
      "metadata": {
        "id": "kvWKuQzx6RTb"
      },
      "outputs": [],
      "source": [
        "xlimylim_DWN = ((0,shp[0]),(0,shp[1])) #full\n",
        "xlimylim_DV = ((0,512),(0,512)) #40nm\n",
        "xlimylim_DW = ((0,256),(0,256)) #20nm\n",
        "\n",
        "xlimylim_D = ((0,128),(0,128)) #10nm\n",
        "xlimylim_L = ((0,64),(0,64))#5nm\n",
        "xlimylims = [xlimylim_DWN,xlimylim_DV,xlimylim_DW,xlimylim_D,xlimylim_L]\n",
        "xlimylims = xlimylims[::-1]\n",
        "# wV =CropWindow(xlimylim=xlimylim_DV)\n",
        "# plt"
      ]
    },
    {
      "cell_type": "code",
      "execution_count": null,
      "metadata": {
        "id": "cmW2zeC87MGg"
      },
      "outputs": [],
      "source": [
        "# plt.figure(figsize=(10, 10)) # Adjust the size as needed\n",
        "# plt.imshow(arr_cln,cmap='afmhot')\n",
        "# ax = plt.gca()\n",
        "# ax.images[0].set_clim(\n",
        "#     auto_clim(arr_cln, method='percentile', lower=1, upper=99.9)\n",
        "# )\n",
        "# ax.set_xlim(xlimylim_L[0])\n",
        "# ax.set_ylim(xlimylim_L[1])\n"
      ]
    },
    {
      "cell_type": "code",
      "execution_count": null,
      "metadata": {
        "id": "9WSq-FIaT33w"
      },
      "outputs": [],
      "source": [
        "class CropWindow:\n",
        "    def __init__(self, *, xywh=None, xlimylim=None, rlist=None):\n",
        "        if xywh is not None:\n",
        "            self.x, self.y, self.w, self.h = xywh\n",
        "        elif xlimylim is not None:\n",
        "            (x_min, x_max), (y_min, y_max) = xlimylim\n",
        "            self.x, self.y = x_min, y_min\n",
        "            self.w, self.h = x_max - x_min, y_max - y_min\n",
        "        elif rlist is not None:\n",
        "            xs = [p[0] for p in rlist]\n",
        "            ys = [p[1] for p in rlist]\n",
        "            self.x, self.y = min(xs), min(ys)\n",
        "            self.w, self.h = max(xs) - min(xs), max(ys) - min(ys)\n",
        "        else:\n",
        "            raise ValueError(\"One of xywh, xlimylim, rlist must be provided.\")\n",
        "\n",
        "    # --------------------\n",
        "    # 변환 메서드들\n",
        "    # --------------------\n",
        "    def to_xywh(self):\n",
        "        return (self.x, self.y, self.w, self.h)\n",
        "\n",
        "    def to_xlimylim(self):\n",
        "        return (self.x, self.x + self.w), (self.y, self.y + self.h)\n",
        "\n",
        "    def to_rlist(self):\n",
        "        return [\n",
        "            (self.x, self.y),\n",
        "            (self.x + self.w, self.y),\n",
        "            (self.x + self.w, self.y + self.h),\n",
        "            (self.x, self.y + self.h),\n",
        "        ]\n",
        "    def to_rlist5(self):\n",
        "        return np.array([\n",
        "            (self.x, self.y),\n",
        "            (self.x + self.w, self.y),\n",
        "            (self.x + self.w, self.y + self.h),\n",
        "            (self.x, self.y + self.h),\n",
        "            (self.x, self.y),\n",
        "        ])\n",
        "    # 보기 좋게 출력\n",
        "    def __repr__(self):\n",
        "        return f\"CropWindow(xywh={self.to_xywh()})\""
      ]
    },
    {
      "cell_type": "code",
      "execution_count": null,
      "metadata": {
        "id": "8nsOlnn_BQ_h"
      },
      "outputs": [],
      "source": [
        "stn = '118K(sig=10)'\n",
        "tns = ['5nm','10nm','20nm','40nm','full']"
      ]
    },
    {
      "cell_type": "code",
      "execution_count": null,
      "metadata": {
        "id": "2ioH1JsPAU_V"
      },
      "outputs": [],
      "source": [
        "is_subplotTranspose = False # @param {type:\"boolean\"}\n",
        "nCr =5\n",
        "nmap =4\n",
        "msb = nmap\n",
        "nsb =nCr\n",
        "\n",
        "\n",
        "if is_subplotTranspose:\n",
        "  msb,nsb=nsb,msb\n",
        "  fig,axs = plt.subplots(msb,nsb,figsize=(nsb*5, msb*4))\n",
        "  axs = axs.transpose()\n",
        "else:\n",
        "  fig,axs = plt.subplots(msb,nsb,figsize=(nsb*4, msb*4))\n",
        "\n",
        "for iCr in range(nCr):\n",
        "  for imap in range(nmap):\n",
        "    ax = axs[imap,iCr]\n",
        "    if imap==0:\n",
        "      ax.imshow(arr_cln,cmap='afmhot')\n",
        "      ax.images[0].set_clim(\n",
        "          auto_clim(arr_cln, method='percentile', lower=1, upper=99.9)\n",
        "      )\n",
        "      ax.set_title(tns[iCr])\n",
        "    elif imap==1:\n",
        "      ax.imshow(phase9)\n",
        "    elif imap==2:\n",
        "      ax.imshow(HAC_argmax,cmap='gray')\n",
        "    elif imap==3:\n",
        "      ax.imshow(final2.astype(np.float64))\n",
        "\n",
        "    #\n",
        "\n",
        "    #\n",
        "\n",
        "\n",
        "    ax.set_xlim(xlimylims[iCr][0])\n",
        "    ax.set_ylim(xlimylims[iCr][1])\n",
        "    # if iCr>0:\n",
        "    #   # xlimylims[iCr-1]\n",
        "    #   rlist5 = CropWindow(xlimylim=xlimylims[iCr-1]).to_rlist5()\n",
        "    #   print(rlist5[:,0])\n",
        "    #   print(rlist5[:,1])\n",
        "    #   ax.plot(rlist5[:,0],rlist5[:,1],'w')\n",
        "    for iCr2 in range(nCr):\n",
        "      rlist5 = CropWindow(xlimylim=xlimylims[iCr2]).to_rlist5()\n",
        "      ax.plot(rlist5[:,0],rlist5[:,1])\n",
        "    ax.set_xticks([])\n",
        "    ax.set_yticks([])\n",
        "plt.suptitle(stn)"
      ]
    }
  ],
  "metadata": {
    "colab": {
      "authorship_tag": "ABX9TyPclnRVph6FedIQK837oMZS",
      "collapsed_sections": [
        "VnCijtBm6yYv",
        "JT70Z4Q4z7gH",
        "e9wC0L6I7Xi0",
        "D5mAp7Ce_sIe",
        "5Jol1XKjVk47"
      ],
      "include_colab_link": true,
      "mount_file_id": "1HHuSDuvubQNVPsIgTXglYCiSEB_gcz3X",
      "provenance": [],
      "toc_visible": true
    },
    "kernelspec": {
      "display_name": "Python 3",
      "name": "python3"
    },
    "language_info": {
      "codemirror_mode": {
        "name": "ipython",
        "version": 3
      },
      "file_extension": ".py",
      "mimetype": "text/x-python",
      "name": "python",
      "nbconvert_exporter": "python",
      "pygments_lexer": "ipython3",
      "version": "3.13.7"
    }
  },
  "nbformat": 4,
  "nbformat_minor": 0
}
