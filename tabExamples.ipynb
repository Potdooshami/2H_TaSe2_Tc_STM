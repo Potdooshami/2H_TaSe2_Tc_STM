{
 "cells": [
  {
   "cell_type": "code",
   "execution_count": 2,
   "id": "0a49e1fa",
   "metadata": {},
   "outputs": [
    {
     "data": {
      "application/vnd.jupyter.widget-view+json": {
       "model_id": "64136046e7ff45c4a9d1f86bee252cdb",
       "version_major": 2,
       "version_minor": 0
      },
      "text/plain": [
       "Tab(children=(Output(), Output(), Output()), selected_index=0, titles=('Step 1', 'Step 2', 'Step 3'))"
      ]
     },
     "metadata": {},
     "output_type": "display_data"
    }
   ],
   "source": [
    "import matplotlib.pyplot as plt\n",
    "import ipywidgets as widgets\n",
    "from IPython.display import display\n",
    "\n",
    "# 예시 이미지 준비\n",
    "import numpy as np\n",
    "imgs = [\n",
    "    np.random.rand(100,100),\n",
    "    np.random.rand(100,100),\n",
    "    np.random.rand(100,100)\n",
    "]\n",
    "titles = [\"Step 1\", \"Step 2\", \"Step 3\"]\n",
    "\n",
    "# 각 탭에 이미지 넣기\n",
    "tab_contents = []\n",
    "for img, title in zip(imgs, titles):\n",
    "    out = widgets.Output()\n",
    "    with out:\n",
    "        fig = plt.figure(figsize=(15,15))\n",
    "        plt.imshow(img, cmap='gray')\n",
    "        plt.title(title)\n",
    "        plt.axis('off')\n",
    "        plt.show()\n",
    "    tab_contents.append(out)\n",
    "\n",
    "tab = widgets.Tab(children=tab_contents)\n",
    "for i, title in enumerate(titles):\n",
    "    tab.set_title(i, title)\n",
    "display(tab)\n"
   ]
  }
 ],
 "metadata": {
  "kernelspec": {
   "display_name": "2Hvenv",
   "language": "python",
   "name": "python3"
  },
  "language_info": {
   "codemirror_mode": {
    "name": "ipython",
    "version": 3
   },
   "file_extension": ".py",
   "mimetype": "text/x-python",
   "name": "python",
   "nbconvert_exporter": "python",
   "pygments_lexer": "ipython3",
   "version": "3.12.9"
  }
 },
 "nbformat": 4,
 "nbformat_minor": 5
}
