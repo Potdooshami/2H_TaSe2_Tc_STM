{
  "nbformat": 4,
  "nbformat_minor": 0,
  "metadata": {
    "colab": {
      "provenance": [],
      "mount_file_id": "14UDZQRuI3C1quOLRaCK6t2MQ3EhP6PYg",
      "authorship_tag": "ABX9TyNxSDfiVJ2OQE4zk+RvWHDD",
      "include_colab_link": true
    },
    "kernelspec": {
      "name": "python3",
      "display_name": "Python 3"
    },
    "language_info": {
      "name": "python"
    }
  },
  "cells": [
    {
      "cell_type": "markdown",
      "metadata": {
        "id": "view-in-github",
        "colab_type": "text"
      },
      "source": [
        "<a href=\"https://colab.research.google.com/github/Potdooshami/2H_TaSe2_Tc_STM/blob/main/Test_read_gwyd.ipynb\" target=\"_parent\"><img src=\"https://colab.research.google.com/assets/colab-badge.svg\" alt=\"Open In Colab\"/></a>"
      ]
    },
    {
      "cell_type": "code",
      "execution_count": 1,
      "metadata": {
        "colab": {
          "base_uri": "https://localhost:8080/"
        },
        "id": "H946UugCPSgO",
        "outputId": "9c38dc7b-c318-47b9-d346-d80002ebfa52"
      },
      "outputs": [
        {
          "output_type": "stream",
          "name": "stdout",
          "text": [
            "Collecting gwyfile\n",
            "  Downloading gwyfile-0.2.0-py2.py3-none-any.whl.metadata (2.7 kB)\n",
            "Requirement already satisfied: numpy in /usr/local/lib/python3.11/dist-packages (from gwyfile) (2.0.2)\n",
            "Requirement already satisfied: six in /usr/local/lib/python3.11/dist-packages (from gwyfile) (1.17.0)\n",
            "Downloading gwyfile-0.2.0-py2.py3-none-any.whl (8.9 kB)\n",
            "Installing collected packages: gwyfile\n",
            "Successfully installed gwyfile-0.2.0\n"
          ]
        }
      ],
      "source": [
        "!pip install gwyfile\n"
      ]
    },
    {
      "cell_type": "code",
      "source": [
        "fn = '/content/drive/MyDrive/2Hphase/test_py.gwy'"
      ],
      "metadata": {
        "id": "1rX9NzXZ55u5"
      },
      "execution_count": 2,
      "outputs": []
    },
    {
      "cell_type": "code",
      "source": [
        "import gwyfile\n",
        "import numpy as np\n",
        "\n",
        "# gwy 파일 열기\n",
        "container = gwyfile.load(fn)\n",
        "\n",
        "# 모든 데이터 출력\n",
        "for key in container.keys():\n",
        "    print(key)\n",
        "\n",
        "# 예: 첫 번째 데이터 채널 추출\n",
        "data = container['/0/data']  # channel 0의 데이터\n",
        "\n",
        "# numpy 배열로 가져오기\n",
        "array = data['data']\n",
        "\n",
        "# 확인\n",
        "print(array.shape)\n"
      ],
      "metadata": {
        "colab": {
          "base_uri": "https://localhost:8080/"
        },
        "id": "5BKX8_v17RT3",
        "outputId": "d763bd32-0f2e-4d04-a21a-fdc15298a289"
      },
      "execution_count": 12,
      "outputs": [
        {
          "output_type": "stream",
          "name": "stdout",
          "text": [
            "/0/base/range-type\n",
            "/0/data\n",
            "/0/data/log\n",
            "/0/data/title\n",
            "/0/data/view/relative-size\n",
            "/0/data/view/scale\n",
            "/0/data/visible\n",
            "/0/meta\n",
            "/0/select/rectangle\n",
            "/1/data\n",
            "/1/data/log\n",
            "/1/data/title\n",
            "/1/meta\n",
            "/2/data\n",
            "/2/data/log\n",
            "/2/data/title\n",
            "/2/meta\n",
            "/3/data\n",
            "/3/data/log\n",
            "/3/data/title\n",
            "/3/meta\n",
            "/filename\n",
            "(4194304,)\n"
          ]
        }
      ]
    },
    {
      "cell_type": "code",
      "source": [
        "data['data'].shape"
      ],
      "metadata": {
        "colab": {
          "base_uri": "https://localhost:8080/"
        },
        "id": "dkeAL1tX7ZDO",
        "outputId": "1608aac0-8e51-498e-ef04-3e0a72c644d2"
      },
      "execution_count": 15,
      "outputs": [
        {
          "output_type": "execute_result",
          "data": {
            "text/plain": [
              "(4194304,)"
            ]
          },
          "metadata": {},
          "execution_count": 15
        }
      ]
    },
    {
      "cell_type": "code",
      "source": [
        "container['/1/data']['data'].shape"
      ],
      "metadata": {
        "colab": {
          "base_uri": "https://localhost:8080/"
        },
        "id": "pTDpXcPi7vLt",
        "outputId": "902dd3ef-b025-4a62-d6e9-e88d9ec52768"
      },
      "execution_count": 18,
      "outputs": [
        {
          "output_type": "execute_result",
          "data": {
            "text/plain": [
              "(4194304,)"
            ]
          },
          "metadata": {},
          "execution_count": 18
        }
      ]
    },
    {
      "cell_type": "code",
      "metadata": {
        "colab": {
          "base_uri": "https://localhost:8080/"
        },
        "id": "e2f3f60a",
        "outputId": "f992337c-8e52-4663-df37-711b5675ec18"
      },
      "source": [
        "import gwyfile\n",
        "import numpy as np\n",
        "\n",
        "try:\n",
        "  # Load the .gwy file\n",
        "  gwy_data = gwyfile.load(fn)\n",
        "\n",
        "  # Assuming the first data field is the one you want\n",
        "  # You might need to adjust this based on your specific .gwy file structure\n",
        "  data_field = gwy_data.data_fields[0]\n",
        "\n",
        "  # Convert the data field to a numpy array\n",
        "  numpy_array = np.array(data_field.data)\n",
        "\n",
        "  print(\"Successfully loaded .gwy file into a numpy array.\")\n",
        "  print(\"Shape of the numpy array:\", numpy_array.shape)\n",
        "except Exception as e:\n",
        "  print(f\"An error occurred: {e}\")"
      ],
      "execution_count": 3,
      "outputs": [
        {
          "output_type": "stream",
          "name": "stdout",
          "text": [
            "An error occurred: 'GwyContainer' object has no attribute 'data_fields'\n"
          ]
        }
      ]
    },
    {
      "cell_type": "code",
      "source": [
        "gwy_data"
      ],
      "metadata": {
        "colab": {
          "base_uri": "https://localhost:8080/"
        },
        "id": "zU4u4x176Iqx",
        "outputId": "3efe88a7-59b8-4ec8-a324-c229e4e07574"
      },
      "execution_count": 11,
      "outputs": [
        {
          "output_type": "execute_result",
          "data": {
            "text/plain": [
              "GwyContainer([('/0/base/range-type', 2),\n",
              "              ('/0/data',\n",
              "               GwyDataField([('xres', 2048),\n",
              "                             ('yres', 2048),\n",
              "                             ('xreal', 8e-08),\n",
              "                             ('yreal', 8e-08),\n",
              "                             ('xoff', -9.158612000000001e-07),\n",
              "                             ('yoff', 1.109547e-06),\n",
              "                             ('si_unit_xy', GwySIUnit([('unitstr', 'm')])),\n",
              "                             ('si_unit_z', GwySIUnit([('unitstr', 'm')])),\n",
              "                             ('data',\n",
              "                              array([4.44493188e-12, 2.91136358e-12, 3.82213127e-12, ...,\n",
              "                                     8.31746449e-13, 2.93535088e-12, 1.03857834e-12]))])),\n",
              "              ('/0/data/log',\n",
              "               GwyObject([('strings',\n",
              "                           ['file::nanonis(preserve_coordinates=False, filename=\"Z:\\\\\\\\Haeryong Park\\\\\\\\2H-TaSe2\\\\\\\\Analysis\\\\\\\\DWN\\\\\\\\2HTaSe2_bab_78K052.sxm\")@2025-07-05 15:33:25.355182Z',\n",
              "                            'proc::level()@2025-07-05 15:33:31.913609Z',\n",
              "                            'proc::align_rows(direction=0, do_extract=False, do_plot=False, masking=2, max_degree=1, method=1, trim_fraction=0.05)@2025-07-05 15:33:36.341691Z',\n",
              "                            'proc::polylevel(col_degree=9, do_extract=False, independent=1, masking=2, max_degree=3, row_degree=2, same_degree=False)@2025-07-05 15:33:41.158653Z',\n",
              "                            'proc::scars_remove()@2025-07-05 15:33:53.320716Z',\n",
              "                            'proc::scars_remove()@2025-07-05 15:34:05.962311Z',\n",
              "                            'proc::scars_remove()@2025-07-05 15:34:06.739258Z'])])),\n",
              "              ('/0/data/title', 'Z (Forward)'),\n",
              "              ('/0/data/view/relative-size', 0.9),\n",
              "              ('/0/data/view/scale', 0.6328125),\n",
              "              ('/0/data/visible', True),\n",
              "              ('/0/meta',\n",
              "               GwyContainer([('Acquistion time', '4195 s'),\n",
              "                             ('Bias', '-0.4 V'),\n",
              "                             ('Comment',\n",
              "                              '1st alphabet:b Sample:2H0611_Lee STM: LT Tip: PtIr (It is same with a)  2nd,3rd alphabet:c Optical: Landing0616 Motor: (0,0) + (500,0) + (1000,0) +120K +110K +79K + (0,1000)+(1000,0) +85K+110K+  (0,-1000) +  (1000,0) +(-1000,0) +(-2000,0)+78K+115K+118K +120K 78K  Comment:s s'),\n",
              "                             ('Date', '01.07.2025'),\n",
              "                             ('Direction', 'down'),\n",
              "                             ('File name',\n",
              "                              'Z:\\\\Haeryong Park\\\\2H-TaSe2\\\\2HTaSe2_bab_78K052.sxm'),\n",
              "                             ('NanonisMain::Animations Period (s)', '20E-3'),\n",
              "                             ('NanonisMain::Indicators Period (s)', '300E-3'),\n",
              "                             ('NanonisMain::Measurements Period (s)',\n",
              "                              '500E-3'),\n",
              "                             ('NanonisMain::RT Frequency (Hz)', '10E+3'),\n",
              "                             ('NanonisMain::RT Release', '7248'),\n",
              "                             ('NanonisMain::SW Version', 'Generic 4.5'),\n",
              "                             ('NanonisMain::Session Path',\n",
              "                              'Z:\\\\Haeryong Park\\\\2H-TaSe2'),\n",
              "                             ('NanonisMain::Signals Oversampling', '10'),\n",
              "                             ('NanonisMain::UI Release', '9391'),\n",
              "                             ('Temperature', '290 K'),\n",
              "                             ('Time', '17:59:58'),\n",
              "                             ('Z controller I-gain', '5.000E-8 m/s'),\n",
              "                             ('Z controller Name', 'log Current'),\n",
              "                             ('Z controller P-gain', '3.000E-11 m'),\n",
              "                             ('Z controller Setpoint', '2.000E-11 A'),\n",
              "                             ('Z controller T-const', '6.000E-4 s'),\n",
              "                             ('Z controller on', '1')])),\n",
              "              ('/0/select/rectangle', GwyObject([('max', 1)])),\n",
              "              ('/1/data',\n",
              "               GwyDataField([('xres', 2048),\n",
              "                             ('yres', 2048),\n",
              "                             ('xreal', 8e-08),\n",
              "                             ('yreal', 8e-08),\n",
              "                             ('xoff', -9.158612000000001e-07),\n",
              "                             ('yoff', 1.109547e-06),\n",
              "                             ('si_unit_xy', GwySIUnit([('unitstr', 'm')])),\n",
              "                             ('si_unit_z', GwySIUnit([('unitstr', 'm')])),\n",
              "                             ('data',\n",
              "                              array([-9.42724796e-08, -9.42733465e-08, -9.42713214e-08, ...,\n",
              "                                     -9.39620790e-08, -9.39629743e-08, -9.39657880e-08]))])),\n",
              "              ('/1/data/log',\n",
              "               GwyObject([('strings',\n",
              "                           ['file::nanonis(preserve_coordinates=False, filename=\"Z:\\\\\\\\Haeryong Park\\\\\\\\2H-TaSe2\\\\\\\\Analysis\\\\\\\\DWN\\\\\\\\2HTaSe2_bab_78K052.sxm\")@2025-07-05 15:33:25.525981Z'])])),\n",
              "              ('/1/data/title', 'Z (Backward)'),\n",
              "              ('/1/meta',\n",
              "               GwyContainer([('Acquistion time', '4195 s'),\n",
              "                             ('Bias', '-0.4 V'),\n",
              "                             ('Comment',\n",
              "                              '1st alphabet:b Sample:2H0611_Lee STM: LT Tip: PtIr (It is same with a)  2nd,3rd alphabet:c Optical: Landing0616 Motor: (0,0) + (500,0) + (1000,0) +120K +110K +79K + (0,1000)+(1000,0) +85K+110K+  (0,-1000) +  (1000,0) +(-1000,0) +(-2000,0)+78K+115K+118K +120K 78K  Comment:s s'),\n",
              "                             ('Date', '01.07.2025'),\n",
              "                             ('Direction', 'down'),\n",
              "                             ('File name',\n",
              "                              'Z:\\\\Haeryong Park\\\\2H-TaSe2\\\\2HTaSe2_bab_78K052.sxm'),\n",
              "                             ('NanonisMain::Animations Period (s)', '20E-3'),\n",
              "                             ('NanonisMain::Indicators Period (s)', '300E-3'),\n",
              "                             ('NanonisMain::Measurements Period (s)',\n",
              "                              '500E-3'),\n",
              "                             ('NanonisMain::RT Frequency (Hz)', '10E+3'),\n",
              "                             ('NanonisMain::RT Release', '7248'),\n",
              "                             ('NanonisMain::SW Version', 'Generic 4.5'),\n",
              "                             ('NanonisMain::Session Path',\n",
              "                              'Z:\\\\Haeryong Park\\\\2H-TaSe2'),\n",
              "                             ('NanonisMain::Signals Oversampling', '10'),\n",
              "                             ('NanonisMain::UI Release', '9391'),\n",
              "                             ('Temperature', '290 K'),\n",
              "                             ('Time', '17:59:58'),\n",
              "                             ('Z controller I-gain', '5.000E-8 m/s'),\n",
              "                             ('Z controller Name', 'log Current'),\n",
              "                             ('Z controller P-gain', '3.000E-11 m'),\n",
              "                             ('Z controller Setpoint', '2.000E-11 A'),\n",
              "                             ('Z controller T-const', '6.000E-4 s'),\n",
              "                             ('Z controller on', '1')])),\n",
              "              ('/2/data',\n",
              "               GwyDataField([('xres', 2048),\n",
              "                             ('yres', 2048),\n",
              "                             ('xreal', 8e-08),\n",
              "                             ('yreal', 8e-08),\n",
              "                             ('xoff', -9.158612000000001e-07),\n",
              "                             ('yoff', 1.109547e-06),\n",
              "                             ('si_unit_xy', GwySIUnit([('unitstr', 'm')])),\n",
              "                             ('si_unit_z', GwySIUnit([('unitstr', 'A')])),\n",
              "                             ('data',\n",
              "                              array([-1.99085037e-11, -1.94568424e-11, -2.04120436e-11, ...,\n",
              "                                     -2.06073561e-11, -2.07385810e-11, -1.94782055e-11]))])),\n",
              "              ('/2/data/log',\n",
              "               GwyObject([('strings',\n",
              "                           ['file::nanonis(preserve_coordinates=False, filename=\"Z:\\\\\\\\Haeryong Park\\\\\\\\2H-TaSe2\\\\\\\\Analysis\\\\\\\\DWN\\\\\\\\2HTaSe2_bab_78K052.sxm\")@2025-07-05 15:33:25.697820Z'])])),\n",
              "              ('/2/data/title', 'Current (Forward)'),\n",
              "              ('/2/meta',\n",
              "               GwyContainer([('Acquistion time', '4195 s'),\n",
              "                             ('Bias', '-0.4 V'),\n",
              "                             ('Comment',\n",
              "                              '1st alphabet:b Sample:2H0611_Lee STM: LT Tip: PtIr (It is same with a)  2nd,3rd alphabet:c Optical: Landing0616 Motor: (0,0) + (500,0) + (1000,0) +120K +110K +79K + (0,1000)+(1000,0) +85K+110K+  (0,-1000) +  (1000,0) +(-1000,0) +(-2000,0)+78K+115K+118K +120K 78K  Comment:s s'),\n",
              "                             ('Date', '01.07.2025'),\n",
              "                             ('Direction', 'down'),\n",
              "                             ('File name',\n",
              "                              'Z:\\\\Haeryong Park\\\\2H-TaSe2\\\\2HTaSe2_bab_78K052.sxm'),\n",
              "                             ('NanonisMain::Animations Period (s)', '20E-3'),\n",
              "                             ('NanonisMain::Indicators Period (s)', '300E-3'),\n",
              "                             ('NanonisMain::Measurements Period (s)',\n",
              "                              '500E-3'),\n",
              "                             ('NanonisMain::RT Frequency (Hz)', '10E+3'),\n",
              "                             ('NanonisMain::RT Release', '7248'),\n",
              "                             ('NanonisMain::SW Version', 'Generic 4.5'),\n",
              "                             ('NanonisMain::Session Path',\n",
              "                              'Z:\\\\Haeryong Park\\\\2H-TaSe2'),\n",
              "                             ('NanonisMain::Signals Oversampling', '10'),\n",
              "                             ('NanonisMain::UI Release', '9391'),\n",
              "                             ('Temperature', '290 K'),\n",
              "                             ('Time', '17:59:58'),\n",
              "                             ('Z controller I-gain', '5.000E-8 m/s'),\n",
              "                             ('Z controller Name', 'log Current'),\n",
              "                             ('Z controller P-gain', '3.000E-11 m'),\n",
              "                             ('Z controller Setpoint', '2.000E-11 A'),\n",
              "                             ('Z controller T-const', '6.000E-4 s'),\n",
              "                             ('Z controller on', '1')])),\n",
              "              ('/3/data',\n",
              "               GwyDataField([('xres', 2048),\n",
              "                             ('yres', 2048),\n",
              "                             ('xreal', 8e-08),\n",
              "                             ('yreal', 8e-08),\n",
              "                             ('xoff', -9.158612000000001e-07),\n",
              "                             ('yoff', 1.109547e-06),\n",
              "                             ('si_unit_xy', GwySIUnit([('unitstr', 'm')])),\n",
              "                             ('si_unit_z', GwySIUnit([('unitstr', 'A')])),\n",
              "                             ('data',\n",
              "                              array([-2.01251776e-11, -1.90631660e-11, -1.95606031e-11, ...,\n",
              "                                     -2.02960756e-11, -2.11963450e-11, -1.90601146e-11]))])),\n",
              "              ('/3/data/log',\n",
              "               GwyObject([('strings',\n",
              "                           ['file::nanonis(preserve_coordinates=False, filename=\"Z:\\\\\\\\Haeryong Park\\\\\\\\2H-TaSe2\\\\\\\\Analysis\\\\\\\\DWN\\\\\\\\2HTaSe2_bab_78K052.sxm\")@2025-07-05 15:33:25.861318Z'])])),\n",
              "              ('/3/data/title', 'Current (Backward)'),\n",
              "              ('/3/meta',\n",
              "               GwyContainer([('Acquistion time', '4195 s'),\n",
              "                             ('Bias', '-0.4 V'),\n",
              "                             ('Comment',\n",
              "                              '1st alphabet:b Sample:2H0611_Lee STM: LT Tip: PtIr (It is same with a)  2nd,3rd alphabet:c Optical: Landing0616 Motor: (0,0) + (500,0) + (1000,0) +120K +110K +79K + (0,1000)+(1000,0) +85K+110K+  (0,-1000) +  (1000,0) +(-1000,0) +(-2000,0)+78K+115K+118K +120K 78K  Comment:s s'),\n",
              "                             ('Date', '01.07.2025'),\n",
              "                             ('Direction', 'down'),\n",
              "                             ('File name',\n",
              "                              'Z:\\\\Haeryong Park\\\\2H-TaSe2\\\\2HTaSe2_bab_78K052.sxm'),\n",
              "                             ('NanonisMain::Animations Period (s)', '20E-3'),\n",
              "                             ('NanonisMain::Indicators Period (s)', '300E-3'),\n",
              "                             ('NanonisMain::Measurements Period (s)',\n",
              "                              '500E-3'),\n",
              "                             ('NanonisMain::RT Frequency (Hz)', '10E+3'),\n",
              "                             ('NanonisMain::RT Release', '7248'),\n",
              "                             ('NanonisMain::SW Version', 'Generic 4.5'),\n",
              "                             ('NanonisMain::Session Path',\n",
              "                              'Z:\\\\Haeryong Park\\\\2H-TaSe2'),\n",
              "                             ('NanonisMain::Signals Oversampling', '10'),\n",
              "                             ('NanonisMain::UI Release', '9391'),\n",
              "                             ('Temperature', '290 K'),\n",
              "                             ('Time', '17:59:58'),\n",
              "                             ('Z controller I-gain', '5.000E-8 m/s'),\n",
              "                             ('Z controller Name', 'log Current'),\n",
              "                             ('Z controller P-gain', '3.000E-11 m'),\n",
              "                             ('Z controller Setpoint', '2.000E-11 A'),\n",
              "                             ('Z controller T-const', '6.000E-4 s'),\n",
              "                             ('Z controller on', '1')])),\n",
              "              ('/filename',\n",
              "               'Z:\\\\Haeryong Park\\\\2H-TaSe2\\\\Analysis\\\\DWN\\\\test_py\\\\test_py.gwy')])"
            ]
          },
          "metadata": {},
          "execution_count": 11
        }
      ]
    }
  ]
}