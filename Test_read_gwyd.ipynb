{
  "nbformat": 4,
  "nbformat_minor": 0,
  "metadata": {
    "colab": {
      "provenance": [],
      "authorship_tag": "ABX9TyOQXqZ25kx7XKRDyPA6shXT",
      "include_colab_link": true
    },
    "kernelspec": {
      "name": "python3",
      "display_name": "Python 3"
    },
    "language_info": {
      "name": "python"
    }
  },
  "cells": [
    {
      "cell_type": "markdown",
      "metadata": {
        "id": "view-in-github",
        "colab_type": "text"
      },
      "source": [
        "<a href=\"https://colab.research.google.com/github/Potdooshami/2H_TaSe2_Tc_STM/blob/main/Test_read_gwyd.ipynb\" target=\"_parent\"><img src=\"https://colab.research.google.com/assets/colab-badge.svg\" alt=\"Open In Colab\"/></a>"
      ]
    },
    {
      "cell_type": "code",
      "execution_count": 1,
      "metadata": {
        "colab": {
          "base_uri": "https://localhost:8080/"
        },
        "id": "H946UugCPSgO",
        "outputId": "25f482aa-573e-45ab-a45c-3e117e614c19"
      },
      "outputs": [
        {
          "output_type": "stream",
          "name": "stdout",
          "text": [
            "Collecting gwyfile\n",
            "  Downloading gwyfile-0.2.0-py2.py3-none-any.whl.metadata (2.7 kB)\n",
            "Requirement already satisfied: numpy in /usr/local/lib/python3.11/dist-packages (from gwyfile) (2.0.2)\n",
            "Requirement already satisfied: six in /usr/local/lib/python3.11/dist-packages (from gwyfile) (1.17.0)\n",
            "Downloading gwyfile-0.2.0-py2.py3-none-any.whl (8.9 kB)\n",
            "Installing collected packages: gwyfile\n",
            "Successfully installed gwyfile-0.2.0\n"
          ]
        }
      ],
      "source": [
        "!pip install gwyfile"
      ]
    }
  ]
}