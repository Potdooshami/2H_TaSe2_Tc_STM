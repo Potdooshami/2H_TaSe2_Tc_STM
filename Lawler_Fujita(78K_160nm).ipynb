{
  "nbformat": 4,
  "nbformat_minor": 0,
  "metadata": {
    "colab": {
      "provenance": [],
      "collapsed_sections": [
        "JT70Z4Q4z7gH",
        "D5mAp7Ce_sIe"
      ],
      "toc_visible": true,
      "mount_file_id": "1HHuSDuvubQNVPsIgTXglYCiSEB_gcz3X",
      "authorship_tag": "ABX9TyOKysm1uia8Qvp84Rk9uRh5",
      "include_colab_link": true
    },
    "kernelspec": {
      "name": "python3",
      "display_name": "Python 3"
    },
    "language_info": {
      "name": "python"
    }
  },
  "cells": [
    {
      "cell_type": "markdown",
      "metadata": {
        "id": "view-in-github",
        "colab_type": "text"
      },
      "source": [
        "<a href=\"https://colab.research.google.com/github/Potdooshami/2H_TaSe2_Tc_STM/blob/main/Lawler_Fujita(78K_160nm).ipynb\" target=\"_parent\"><img src=\"https://colab.research.google.com/assets/colab-badge.svg\" alt=\"Open In Colab\"/></a>"
      ]
    },
    {
      "cell_type": "markdown",
      "source": [
        "# Dataprocessing environment setting"
      ],
      "metadata": {
        "id": "JT70Z4Q4z7gH"
      }
    },
    {
      "cell_type": "code",
      "execution_count": null,
      "metadata": {
        "id": "FqO6CJxP36Eb"
      },
      "outputs": [],
      "source": [
        "!pip install gwyfile\n",
        "from google.colab import drive\n",
        "drive.mount('/content/drive')"
      ]
    },
    {
      "cell_type": "markdown",
      "source": [
        "load `.gwy` files' list"
      ],
      "metadata": {
        "id": "QrX67-Iya9o5"
      }
    },
    {
      "cell_type": "code",
      "metadata": {
        "id": "cc15f041"
      },
      "source": [
        "dir = '/content/drive/MyDrive/2HDWN/phaseAnalysis'\n",
        "import os\n",
        "files = os.listdir(dir)\n",
        "files_no_ext = [f.replace('.gwy', '') for f in files]"
      ],
      "execution_count": null,
      "outputs": []
    },
    {
      "cell_type": "markdown",
      "source": [
        "load `.gwy` files' header"
      ],
      "metadata": {
        "id": "9-ay6bsG4HGG"
      }
    },
    {
      "cell_type": "code",
      "source": [
        "import pandas as pd\n",
        "fnTbl = '/content/drive/MyDrive/2HDWN/dataTbl.xlsx'\n",
        "df = pd.read_excel(fnTbl)\n",
        "df['fileName_no_ext'] = df['fileName_corrected_ntn'].str.replace('.sxm', '', regex=False)\n",
        "df = df.set_index('fileName_no_ext')\n",
        "dfCrrent =df.loc[files_no_ext]\n",
        "dfCrrent = dfCrrent.iloc[[0,1,2,3,4,6,7,8]] #remove redundancy\n",
        "dfCrrent"
      ],
      "metadata": {
        "id": "J5XEWs-vaFOL"
      },
      "execution_count": null,
      "outputs": []
    },
    {
      "cell_type": "markdown",
      "source": [
        "# Choose a file"
      ],
      "metadata": {
        "id": "qa9w2BHLHElK"
      }
    },
    {
      "cell_type": "code",
      "source": [
        "dfCrrent[['scan_range_1_sxm','bias_sxm', 'scan_pixels_1_sxm']]"
      ],
      "metadata": {
        "id": "EE1pEfhx9QC5"
      },
      "execution_count": null,
      "outputs": []
    },
    {
      "cell_type": "markdown",
      "source": [],
      "metadata": {
        "id": "Y4F_oROz8VNv"
      }
    },
    {
      "cell_type": "code",
      "source": [
        "fn = '2HTaSe2_bad_78K097'# @param ['2HTaSe2_ah035','2HTaSe2_ao_115K037','2HTaSe2_aj036','2HTaSe2_ap_118K002','2HTaSe2_bae_110K012','2HTaSe2_bae_110K013','2HTaSe2_bad_78K097','2HTaSe2_bad_78K100']\n",
        "fnlong = dir +'/'+ fn +'.gwy'"
      ],
      "metadata": {
        "id": "khi3goPP-VEv"
      },
      "execution_count": null,
      "outputs": []
    },
    {
      "cell_type": "code",
      "source": [
        "sz_nano = dfCrrent.loc[fn][['scan_range_1_sxm','scan_range_2_sxm']].values *1000000000\n",
        "pxl = dfCrrent.loc[fn][['scan_pixels_1_sxm','scan_pixels_2_sxm']].values"
      ],
      "metadata": {
        "id": "Ku1AWXmdFAMn"
      },
      "execution_count": null,
      "outputs": []
    },
    {
      "cell_type": "markdown",
      "source": [
        "## Declare 1st array"
      ],
      "metadata": {
        "id": "B2Bvp3VZr4z5"
      }
    },
    {
      "cell_type": "code",
      "source": [
        "import gwyfile\n",
        "import numpy as np\n",
        "\n",
        "# gwy open\n",
        "container = gwyfile.load(fnlong)\n",
        "arr = container['/0/data']['data']\n",
        "arr = arr.reshape(pxl)"
      ],
      "metadata": {
        "id": "vy_TsaLF8BYh"
      },
      "execution_count": null,
      "outputs": []
    },
    {
      "cell_type": "code",
      "source": [
        "import matplotlib.pyplot as plt\n",
        "p = (10**(-12))\n",
        "plt.figure(figsize=(20, 20)) # Adjust the size as needed\n",
        "img = plt.imshow(arr,cmap='afmhot',vmin=-13*p,vmax=18*p)"
      ],
      "metadata": {
        "id": "5JjKliS6ChIC"
      },
      "execution_count": null,
      "outputs": []
    },
    {
      "cell_type": "markdown",
      "source": [
        "Okay, DWN is well defined but large scale trivial landscape and"
      ],
      "metadata": {
        "id": "dskPRwKUti0L"
      }
    },
    {
      "cell_type": "code",
      "source": [
        "plt.imshow(arr,cmap='afmhot')\n",
        "from scipy.ndimage import gaussian_filter"
      ],
      "metadata": {
        "id": "TOJQIc1I49FD"
      },
      "execution_count": null,
      "outputs": []
    },
    {
      "cell_type": "markdown",
      "source": [
        "we can check here the cluster effect"
      ],
      "metadata": {
        "id": "OpqDi_Lou-XF"
      }
    },
    {
      "cell_type": "markdown",
      "source": [
        "# Remove background"
      ],
      "metadata": {
        "id": "XNSGSYJQfJTb"
      }
    },
    {
      "cell_type": "markdown",
      "source": [
        "### High-pass filtering"
      ],
      "metadata": {
        "id": "WRNVyuTCNN5b"
      }
    },
    {
      "cell_type": "code",
      "source": [
        "def ceilcut(image,threshold):\n",
        "  imagec = image.copy()\n",
        "  imagec[image>threshold] = threshold\n",
        "  return imagec\n",
        "from scipy.ndimage import gaussian_filter"
      ],
      "metadata": {
        "id": "eEggtLE-A8JP"
      },
      "execution_count": null,
      "outputs": []
    },
    {
      "cell_type": "code",
      "source": [
        "param_ceilCut = 10 # @param\n",
        "param_sigma = 5 # @param\n",
        "from scipy.ndimage import gaussian_filter\n",
        "arr_c = ceilcut(arr,p*param_ceilCut)\n",
        "arr_c_g = gaussian_filter(arr_c,sigma=param_sigma)\n",
        "arr_c_g_m = arr - arr_c_g"
      ],
      "metadata": {
        "id": "VajA8c6ON1Zx"
      },
      "execution_count": null,
      "outputs": []
    },
    {
      "cell_type": "markdown",
      "source": [
        "####Visualization"
      ],
      "metadata": {
        "id": "yqDgDeDvN2_D"
      }
    },
    {
      "cell_type": "code",
      "source": [
        "def plot_result(image, background):\n",
        "    fig, ax = plt.subplots(nrows=1, ncols=3)\n",
        "\n",
        "    ax[0].imshow(image, cmap='gray')\n",
        "    ax[0].set_title('Original image')\n",
        "    ax[0].axis('off')\n",
        "\n",
        "    ax[1].imshow(background, cmap='gray')\n",
        "    ax[1].set_title('Background')\n",
        "    ax[1].axis('off')\n",
        "\n",
        "    ax[2].imshow(image - background, cmap='gray')\n",
        "    ax[2].set_title('Result')\n",
        "    ax[2].axis('off')\n",
        "\n",
        "    fig.tight_layout()\n",
        "    return fig,ax\n"
      ],
      "metadata": {
        "id": "Hna_Eck9fH8k"
      },
      "execution_count": null,
      "outputs": []
    },
    {
      "cell_type": "markdown",
      "source": [
        "##### Original"
      ],
      "metadata": {
        "id": "eE5xacitO9Hc"
      }
    },
    {
      "cell_type": "code",
      "source": [
        "plt.figure(figsize=(20, 20)) # Adjust the size as needed\n",
        "plt.imshow(arr,cmap='afmhot',vmin=-13*p,vmax=18*p)"
      ],
      "metadata": {
        "id": "e1x-ErMeDhrE"
      },
      "execution_count": null,
      "outputs": []
    },
    {
      "cell_type": "markdown",
      "source": [
        "#####Compares"
      ],
      "metadata": {
        "id": "86NaRcMf8GJe"
      }
    },
    {
      "cell_type": "code",
      "source": [
        "plot_result(arr, arr_c_g)"
      ],
      "metadata": {
        "id": "vHnRQ-4LK7yn"
      },
      "execution_count": null,
      "outputs": []
    },
    {
      "cell_type": "markdown",
      "source": [
        "##### Filtered"
      ],
      "metadata": {
        "id": "I114Yt8BQl0q"
      }
    },
    {
      "cell_type": "code",
      "source": [
        "plt.figure(figsize=(20, 20)) # Adjust the size as needed\n",
        "\n",
        "plt.imshow(arr_c_g_m,cmap='afmhot',vmin=-13*p,vmax=18*p)\n",
        "ax = plt.gca()\n",
        "ax.set_xticks([])\n",
        "ax.set_yticks([])"
      ],
      "metadata": {
        "id": "db0yaCUb_gIj"
      },
      "execution_count": null,
      "outputs": []
    },
    {
      "cell_type": "markdown",
      "source": [
        "### Cluster Removing"
      ],
      "metadata": {
        "id": "N81mvAxppAAn"
      }
    },
    {
      "cell_type": "code",
      "source": [
        "import numpy as np\n",
        "\n",
        "def replace_with_average(img_original, bw):\n",
        "  \"\"\"\n",
        "  Replaces the value of specific part of image as average.\n",
        "\n",
        "  Args:\n",
        "    img_original: (n,m) float array, the original image.\n",
        "    bw: (n,m) boolean array, the mask where True indicates the part to be replaced.\n",
        "\n",
        "  Returns:\n",
        "    img_cleaned: (n,m) float array, the image with the specified part replaced by the average.\n",
        "  \"\"\"\n",
        "  # Calculate the average of the values in img_original where bw is False\n",
        "  average_false_part = np.mean(img_original[~bw])\n",
        "\n",
        "  # Create a copy of the original image\n",
        "  img_cleaned = img_original.copy()\n",
        "\n",
        "  # Replace the values in img_cleaned where bw is True with the calculated average\n",
        "  img_cleaned[bw] = average_false_part\n",
        "\n",
        "  return img_cleaned"
      ],
      "metadata": {
        "id": "tbok8gANvAXR"
      },
      "execution_count": null,
      "outputs": []
    },
    {
      "cell_type": "code",
      "source": [
        "cutted =  arr_c_g_m>p*5\n"
      ],
      "metadata": {
        "id": "xqKUtBrTqD-f"
      },
      "execution_count": null,
      "outputs": []
    },
    {
      "cell_type": "code",
      "source": [
        "from skimage.morphology import binary_opening, disk\n",
        "\n",
        "# Define the size of the structuring element (adjust as needed)\n",
        "selem_size = 6 # Example size, you might need to tune this\n",
        "selem = disk(selem_size)\n",
        "\n",
        "# Apply the binary opening operation\n",
        "opened = binary_opening(cutted, footprint=selem)"
      ],
      "metadata": {
        "id": "GDoAo6OtqFZk"
      },
      "execution_count": null,
      "outputs": []
    },
    {
      "cell_type": "code",
      "source": [
        "opened_rm = opened.copy()\n",
        "opened_rm[0:100,:] = False"
      ],
      "metadata": {
        "id": "y01eVQAgujZh"
      },
      "execution_count": null,
      "outputs": []
    },
    {
      "cell_type": "code",
      "source": [
        "arr_c_g_mm = replace_with_average(arr_c_g_m , opened_rm)"
      ],
      "metadata": {
        "id": "CG4nCLthycCo"
      },
      "execution_count": null,
      "outputs": []
    },
    {
      "cell_type": "code",
      "source": [
        "# plt.figure(figsize=(20, 20)) # Adjust the size as needed\n",
        "# plt.imshow(cutted,cmap='gray')\n",
        "# ax = plt.gca()\n",
        "# ax.set_xticks([])\n",
        "# ax.set_yticks([])"
      ],
      "metadata": {
        "id": "vaMKYGxGpzJd"
      },
      "execution_count": null,
      "outputs": []
    },
    {
      "cell_type": "code",
      "source": [
        "# plt.figure(figsize=(20, 20)) # Adjust the size as needed\n",
        "# plt.imshow(opened,cmap='gray')\n",
        "# ax = plt.gca()\n",
        "# ax.set_xticks([])\n",
        "# ax.set_yticks([])"
      ],
      "metadata": {
        "id": "a9AejzQVr-mM"
      },
      "execution_count": null,
      "outputs": []
    },
    {
      "cell_type": "code",
      "source": [
        "# plt.figure(figsize=(20, 20)) # Adjust the size as needed\n",
        "# plt.imshow(opened_rm,cmap='gray')\n",
        "# ax = plt.gca()\n",
        "# ax.set_xticks([])\n",
        "# ax.set_yticks([])\n"
      ],
      "metadata": {
        "id": "hQPgBfSQuIf9"
      },
      "execution_count": null,
      "outputs": []
    },
    {
      "cell_type": "code",
      "source": [
        "plt.figure(figsize=(20, 20)) # Adjust the size as needed\n",
        "\n",
        "plt.imshow(arr_c_g_mm,cmap='afmhot')\n",
        "ax = plt.gca()\n",
        "ax.set_xticks([])\n",
        "ax.set_yticks([])"
      ],
      "metadata": {
        "id": "Z4lWxerYyEo0"
      },
      "execution_count": null,
      "outputs": []
    },
    {
      "cell_type": "code",
      "source": [
        "# Define a threshold for identifying salt-like noise (adjust as needed)\n",
        "# This threshold might need tuning based on the characteristics of your noise\n",
        "noise_threshold = 150 * p # Example threshold, adjust as necessary based on your data\n",
        "\n",
        "# Create a boolean mask where True indicates potential noise (values above the threshold)\n",
        "noise_mask = arr_c_g_mm > noise_threshold\n",
        "\n",
        "# Use the replace_with_average function to replace the masked noise with the average of the rest of the image\n",
        "arr_cleaned_noise = replace_with_average(arr_c_g_mm, noise_mask)\n",
        "\n",
        "# Display the cleaned image\n",
        "plt.figure(figsize=(20, 20))\n",
        "plt.imshow(arr_cleaned_noise, cmap='afmhot') # You might want a different colormap\n",
        "ax = plt.gca()\n",
        "ax.set_xticks([])\n",
        "ax.set_yticks([])\n",
        "plt.title('Image after removing salt-like noise')\n",
        "plt.show()"
      ],
      "metadata": {
        "id": "7lDvJGLFBetv"
      },
      "execution_count": null,
      "outputs": []
    },
    {
      "cell_type": "markdown",
      "source": [
        "### Remove tip tick"
      ],
      "metadata": {
        "id": "I0bXmgMS_a1e"
      }
    },
    {
      "cell_type": "code",
      "source": [
        "plt.figure(figsize=(20, 20)) # Adjust the size as needed\n",
        "\n",
        "plt.imshow(arr_c_g_mm>100*p,cmap='afmhot')\n",
        "ax = plt.gca()\n",
        "ax.set_xticks([])\n",
        "ax.set_yticks([])"
      ],
      "metadata": {
        "id": "m5-yeV0I_XzA"
      },
      "execution_count": null,
      "outputs": []
    },
    {
      "cell_type": "code",
      "source": [
        "def imshowL(arr):\n",
        "  plt.figure(figsize=(20, 20)) # Adjust the size as needed\n",
        "  plt.imshow(arr,cmap='afmhot')\n",
        "  ax = plt.gca()\n",
        "  ax.set_xticks([])\n",
        "  ax.set_yticks([])"
      ],
      "metadata": {
        "id": "0EJarElcEJaB"
      },
      "execution_count": null,
      "outputs": []
    },
    {
      "cell_type": "code",
      "source": [
        "# Perform a circular shift of arr_c_g_mm along axis=0 by 1 pixel\n",
        "arr_shifted = np.roll(arr_c_g_mm, shift=300, axis=0)\n",
        "\n",
        "# Display the shifted array (optional)\n",
        "imshowL(arr_shifted)"
      ],
      "metadata": {
        "id": "KbPUcckwEghn"
      },
      "execution_count": null,
      "outputs": []
    },
    {
      "cell_type": "code",
      "source": [
        "arr_shifted = np.roll(arr_c_g_mm, shift=1, axis=0)\n",
        "arr2 = arr_c_g_mm - arr_shifted\n",
        "arr3 = arr2>30*p\n",
        "arr_c_g_mmm = replace_with_average(arr_c_g_mm, arr3)\n",
        "plt.figure(figsize=(20, 20)) # Adjust the size as needed\n",
        "plt.imshow(arr_c_g_mmm,cmap='afmhot',vmin=-13*p,vmax=18*p)\n",
        "ax = plt.gca()\n",
        "ax.set_xticks([])\n",
        "ax.set_yticks([])"
      ],
      "metadata": {
        "id": "PDDe2ytqFNRG"
      },
      "execution_count": null,
      "outputs": []
    },
    {
      "cell_type": "code",
      "source": [],
      "metadata": {
        "id": "tssmYTEj8YUB"
      },
      "execution_count": null,
      "outputs": []
    },
    {
      "cell_type": "code",
      "source": [
        "arr_c_g_mmmm = arr_c_g_mmm - np.mean(arr_c_g_mmm)"
      ],
      "metadata": {
        "id": "nr4H1CiMxms6"
      },
      "execution_count": null,
      "outputs": []
    },
    {
      "cell_type": "code",
      "source": [
        "# from skimage.measure import label, regionprops\n",
        "\n",
        "# # Label connected components in the opened image\n",
        "# labeled_image = label(opened)\n",
        "\n",
        "# # Get properties of each labeled region\n",
        "# regions = regionprops(labeled_image)\n",
        "\n",
        "# print(f\"Number of segmented objects: {len(regions)}\")"
      ],
      "metadata": {
        "id": "uYZ1fxJWsVzs"
      },
      "execution_count": null,
      "outputs": []
    },
    {
      "cell_type": "code",
      "source": [],
      "metadata": {
        "id": "NByLgNg2tR8x"
      },
      "execution_count": null,
      "outputs": []
    },
    {
      "cell_type": "markdown",
      "source": [
        "phasemap"
      ],
      "metadata": {
        "id": "y45662KoItxA"
      }
    },
    {
      "cell_type": "markdown",
      "source": [
        "# FFT peak find"
      ],
      "metadata": {
        "id": "mrxsNKYbMJ2R"
      }
    },
    {
      "cell_type": "code",
      "source": [
        "from scipy.fft import fft2, fftshift\n",
        "from skimage.feature import peak_local_max\n",
        "def fft2show(arr_cln,vmin,vmax):\n",
        "  fft_result = fft2(arr_cln)\n",
        "  fft_result_shifted = fftshift(fft_result)\n",
        "  magnitude_spectrum = np.abs(fft_result_shifted)\n",
        "  plt.figure(figsize=(10, 10))\n",
        "  plt.imshow(magnitude_spectrum, cmap='gray', vmin=vmin, vmax=vmax)\n",
        "  plt.title('Magnitude Spectrum of 2D FFT')\n",
        "  return  magnitude_spectrum\n",
        "def fft2pkfnd(fft2abs,threshold,choose):\n",
        "  coordinates = peak_local_max(fft2abs, min_distance=100, threshold_abs = threshold)\n",
        "  plt.scatter(coordinates[:, 1], coordinates[:, 0], s=50, facecolors='none', edgecolors='r')\n",
        "  for ipeak in range(coordinates.shape[0]):\n",
        "    plt.text(coordinates[ipeak,1],coordinates[ipeak,0],str(ipeak), color='g')\n",
        "  coordinates_choose = coordinates[choose,:]\n",
        "  print(coordinates_choose)\n",
        "  print(coordinates_choose.shape[0])\n",
        "  for ipeak in range(coordinates_choose.shape[0]):\n",
        "    plt.text(coordinates_choose[ipeak,1],coordinates_choose[ipeak,0],str(ipeak), color='b',size= 20)\n",
        "    pk_all = coordinates - (np.array(fft2abs.shape)/2)\n",
        "    pk_choose = pk_all[choose,:]\n",
        "  return pk_choose,pk_all\n",
        "arr_cln = arr_c_g_mmmm"
      ],
      "metadata": {
        "id": "Pr_TglsArVAm"
      },
      "execution_count": null,
      "outputs": []
    },
    {
      "cell_type": "markdown",
      "source": [
        "##handles"
      ],
      "metadata": {
        "id": "FhY_I7DB_I4w"
      }
    },
    {
      "cell_type": "code",
      "source": [
        "vmin = 0 # @param\n",
        "vmax = 0.0000001 # @param\n",
        "threshold = 0.0000002 # @param\n",
        "choose = [6,9,10] # @param"
      ],
      "metadata": {
        "id": "chdZ77yVudPL"
      },
      "execution_count": null,
      "outputs": []
    },
    {
      "cell_type": "markdown",
      "source": [
        "## Visualization for Check"
      ],
      "metadata": {
        "id": "Nq14l808_Npa"
      }
    },
    {
      "cell_type": "code",
      "source": [
        "fft2abs = fft2show(arr_cln,vmin,vmax)\n",
        "pk_choose,pk_all = fft2pkfnd(fft2abs,threshold,choose)\n",
        "print(pk_choose)\n",
        "print(pk_all)"
      ],
      "metadata": {
        "id": "UfM4SDut0CN5"
      },
      "execution_count": null,
      "outputs": []
    },
    {
      "cell_type": "markdown",
      "source": [
        "#Remove extrinsic drift effect"
      ],
      "metadata": {
        "id": "D5mAp7Ce_sIe"
      }
    },
    {
      "cell_type": "code",
      "source": [
        "def generate_sine_wave_from_k(k_value,  arr_shape,phi=0):\n",
        "  \"\"\"\n",
        "  Generates a 2D sine wave based on a k-value (spatial frequency vector).\n",
        "\n",
        "  Args:\n",
        "    k_value: A 2-element numpy array representing the centered k-vector\n",
        "             (ky_c, kx_c) in pixel units from the FFT.\n",
        "    arr_shape: A tuple (image_height, image_width) representing the shape\n",
        "               of the desired output image in pixels.\n",
        "    phi: Optional phase offset in radians. Defaults to 0.\n",
        "\n",
        "  Returns:\n",
        "    A 2D numpy array representing the sine wave.\n",
        "  \"\"\"\n",
        "  # Get the centered k-vector components\n",
        "  ky_c = k_value[0]\n",
        "  kx_c = k_value[1]\n",
        "  image_height, image_width = arr_shape\n",
        "  # Create a grid of spatial coordinates (pixel indices)\n",
        "  y_indices, x_indices = np.indices((image_height, image_width))\n",
        "\n",
        "  # Calculate spatial frequencies in cycles per pixel\n",
        "  spatial_freq_x_cpp = kx_c / image_width\n",
        "  spatial_freq_y_cpp = ky_c / image_height\n",
        "\n",
        "  # Construct the full argument for the sine wave, including the 2*pi factor and phase\n",
        "  argument = 2 * np.pi * (spatial_freq_x_cpp * x_indices + spatial_freq_y_cpp * y_indices) + phi\n",
        "\n",
        "  # Generate the sine wave\n",
        "  sine_wave = np.sin(argument)\n",
        "\n",
        "  return sine_wave\n",
        "def kdispacementmap(arr,k,sig):\n",
        "  sw = generate_sine_wave_from_k(k,  arr.shape,0)\n",
        "  cw = generate_sine_wave_from_k(k,  arr.shape,np.pi/2)\n",
        "  sprod = gaussian_filter(sw*arr,sig)\n",
        "  cprod = gaussian_filter(cw*arr,sig)\n",
        "  xprod = cprod +sprod*1j\n",
        "  return xprod\n",
        "def visxprod(xprod):\n",
        "  fig,axs = plt.subplots(2,2,figsize=(10, 10))\n",
        "\n",
        "  #sw = generate_sine_wave_from_k(k,  aff_br.shape,0)\n",
        "  tns = ['Re','Img','theta','radial']\n",
        "  isbs = [0,0,1,1]\n",
        "  jsbs = [0,1,0,1]\n",
        "  funcs = [np.real, np.imag, np.angle, np.abs]\n",
        "  cmaps = ['PuOr','vanimo','twilight','plasma']\n",
        "  for isb,jsb,func,tn,cmap in zip(isbs,jsbs,funcs,tns,cmaps):\n",
        "    reimg = func(xprod)\n",
        "    #if tn == 'theta':\n",
        "     # reimg = unwrap_phase(reimg)\n",
        "    #else:\n",
        "    vmin,vmax = auto_clim(reimg, method='percentile')\n",
        "    im = axs[isb,jsb].imshow(reimg, cmap=cmap,vmin=vmin,vmax=vmax)\n",
        "    plt.colorbar(im, ax=axs[isb,jsb])\n",
        "    axs[isb,jsb].set_title(tn)\n",
        "    axs[isb,jsb].set_xticks([])\n",
        "    axs[isb,jsb].set_yticks([])\n",
        "  return fig, axs\n",
        "\n",
        "def auto_clim(data, method='percentile', lower=1, upper=99):\n",
        "  \"\"\"\n",
        "  data: 2D array\n",
        "  method: 'percentile' or 'std'\n",
        "  \"\"\"\n",
        "  if method == 'percentile':\n",
        "      vmin, vmax = np.percentile(data, [lower, upper])\n",
        "  elif method == 'std':\n",
        "      mean = np.mean(data)\n",
        "      std = np.std(data)\n",
        "      vmin, vmax = mean - std, mean + std\n",
        "  else:\n",
        "      raise ValueError(\"method must be 'percentile' or 'std'\")\n",
        "  return vmin, vmax"
      ],
      "metadata": {
        "id": "t9Rhm0GN_rKa"
      },
      "execution_count": null,
      "outputs": []
    },
    {
      "cell_type": "code",
      "source": [
        "ik = 1 # @param\n",
        "k = pk_choose[ik]/3\n",
        "sig = 10 # @param\n",
        "xprod = kdispacementmap(arr_cln,k,sig)\n",
        "visxprod(xprod)\n",
        "plt.suptitle(\"k\"+str(ik))"
      ],
      "metadata": {
        "id": "-49SvJMo_XlI"
      },
      "execution_count": null,
      "outputs": []
    },
    {
      "cell_type": "code",
      "source": [
        "ks_Latt = pk_choose\n",
        "ks_CDW = pk_choose/3"
      ],
      "metadata": {
        "id": "5kVLm64oKHKs"
      },
      "execution_count": null,
      "outputs": []
    },
    {
      "cell_type": "code",
      "source": [
        "def wrap_phase(unwrapped_phase):\n",
        "  \"\"\"\n",
        "  Wraps unwrapped phase data into the range of (-pi, pi].\n",
        "\n",
        "  Args:\n",
        "    unwrapped_phase: A numpy array containing the unwrapped phase data.\n",
        "\n",
        "  Returns:\n",
        "    A numpy array containing the wrapped phase data.\n",
        "  \"\"\"\n",
        "  wrapped_phase = np.mod(unwrapped_phase + np.pi, 2 * np.pi) - np.pi\n",
        "  return wrapped_phase\n",
        "from skimage.restoration import unwrap_phase"
      ],
      "metadata": {
        "id": "PkYPlcrvTC6C"
      },
      "execution_count": null,
      "outputs": []
    },
    {
      "cell_type": "code",
      "source": [
        "\n",
        "sig = 20 # @param\n",
        "angle_restores = []\n",
        "\n",
        "for ik in range(3):\n",
        "  k_Latt = ks_Latt[ik]\n",
        "  k_CDW = ks_CDW[ik]\n",
        "  angle_restore = (unwrap_phase(np.angle(kdispacementmap(arr_cln,k_CDW,sig)))\n",
        "   - unwrap_phase(np.angle(kdispacementmap(arr_cln,k_Latt,sig)))/3)\n",
        "  angle_restores.append(angle_restore)\n",
        "\n",
        "\n"
      ],
      "metadata": {
        "id": "rLk7Cy8QJzVu"
      },
      "execution_count": null,
      "outputs": []
    },
    {
      "cell_type": "code",
      "source": [
        "fig,axs = plt.subplots(1,3,figsize=(15, 15))\n",
        "tns = ['k1','k2','k3']\n",
        "yns = ['CDW','atom','CDW_compensate']\n",
        "for ik,tn in zip(range(3),tns):\n",
        "    reimg = angle_restores[ik]\n",
        "    reimg = wrap_phase(reimg)\n",
        "    axs[ik].imshow(reimg, cmap='twilight')\n",
        "    axs[ik].set_title(tn)\n",
        "    axs[ik].set_xticks([])\n",
        "    axs[ik].set_yticks([])"
      ],
      "metadata": {
        "id": "ICYV81YqQquU"
      },
      "execution_count": null,
      "outputs": []
    },
    {
      "cell_type": "markdown",
      "source": [],
      "metadata": {
        "id": "K0OEmDCt1Atl"
      }
    },
    {
      "cell_type": "code",
      "source": [
        "class CropWindow:\n",
        "    def __init__(self, *, xywh=None, xlimylim=None, rlist=None):\n",
        "        if xywh is not None:\n",
        "            self.x, self.y, self.w, self.h = xywh\n",
        "        elif xlimylim is not None:\n",
        "            (x_min, x_max), (y_min, y_max) = xlimylim\n",
        "            self.x, self.y = x_min, y_min\n",
        "            self.w, self.h = x_max - x_min, y_max - y_min\n",
        "        elif rlist is not None:\n",
        "            xs = [p[0] for p in rlist]\n",
        "            ys = [p[1] for p in rlist]\n",
        "            self.x, self.y = min(xs), min(ys)\n",
        "            self.w, self.h = max(xs) - min(xs), max(ys) - min(ys)\n",
        "        else:\n",
        "            raise ValueError(\"One of xywh, xlimylim, rlist must be provided.\")\n",
        "\n",
        "    # --------------------\n",
        "    # 변환 메서드들\n",
        "    # --------------------\n",
        "    def to_xywh(self):\n",
        "        return (self.x, self.y, self.w, self.h)\n",
        "\n",
        "    def to_xlimylim(self):\n",
        "        return (self.x, self.x + self.w), (self.y, self.y + self.h)\n",
        "\n",
        "    def to_rlist(self):\n",
        "        return [\n",
        "            (self.x, self.y),\n",
        "            (self.x + self.w, self.y),\n",
        "            (self.x + self.w, self.y + self.h),\n",
        "            (self.x, self.y + self.h),\n",
        "        ]\n",
        "\n",
        "    # 보기 좋게 출력\n",
        "    def __repr__(self):\n",
        "        return f\"CropWindow(xywh={self.to_xywh()})\"\n"
      ],
      "metadata": {
        "id": "1qv0eLfj24jm"
      },
      "execution_count": null,
      "outputs": []
    },
    {
      "cell_type": "code",
      "source": [
        "cw1 = CropWindow(xywh=[400, 200, 300, 400])\n",
        "foo = cw1.to_rlist()\n",
        "print(foo)\n",
        "print(foo[0])\n",
        "foo.append(foo[0])\n",
        "r5 = np.array(foo)\n",
        "xlimylim = cw1.to_xlimylim()"
      ],
      "metadata": {
        "id": "mtTu3lMD0_-k"
      },
      "execution_count": null,
      "outputs": []
    },
    {
      "cell_type": "code",
      "source": [
        "reimg"
      ],
      "metadata": {
        "id": "xfzZp2NzIgkM"
      },
      "execution_count": null,
      "outputs": []
    },
    {
      "cell_type": "code",
      "source": [],
      "metadata": {
        "id": "YkUXRh4WOmok"
      },
      "execution_count": null,
      "outputs": []
    },
    {
      "cell_type": "code",
      "source": [
        "fig,axs = plt.subplots(1,3,figsize=(15, 15))\n",
        "tns = ['k1','k2','k3']\n",
        "yns = ['CDW','atom','CDW_compensate']\n",
        "fitRng = []\n",
        "for ik,tn in zip(range(3),tns):\n",
        "    reimg = angle_restores[ik][xlimylim[1][0]:xlimylim[1][1],xlimylim[0][0]:xlimylim[0][1]]\n",
        "    # reimg = angle_restores[ik]\n",
        "    reimg = wrap_phase(reimg)\n",
        "\n",
        "    axs[ik].imshow(reimg, cmap='twilight')\n",
        "    axs[ik].set_title(tn)\n",
        "    axs[ik].set_xticks([])\n",
        "    axs[ik].set_yticks([])\n",
        "    fitRng.append(reimg)\n",
        "    # axs[ik].plot(r5[:,0],r5[:,1])\n",
        "    # axs[ik].set_xlim([xlimylim[0][0],xlimylim[0][1]])\n",
        "    # axs[ik].set_ylim([xlimylim[1][0],xlimylim[1][1]])"
      ],
      "metadata": {
        "id": "s2wHS9UGHjS-"
      },
      "execution_count": null,
      "outputs": []
    },
    {
      "cell_type": "code",
      "source": [],
      "metadata": {
        "id": "RUXVCYUHSQg1"
      },
      "execution_count": null,
      "outputs": []
    },
    {
      "cell_type": "code",
      "source": [],
      "metadata": {
        "id": "6xgSRXRxSUm6"
      },
      "execution_count": null,
      "outputs": []
    },
    {
      "cell_type": "code",
      "source": [
        "ik = 0\n",
        "img = fitRng[ik]\n",
        "shifting = img.mean(axis=1)\n",
        "plt.plot(shifting)"
      ],
      "metadata": {
        "id": "xrZ5QpJQPHbw"
      },
      "execution_count": null,
      "outputs": []
    },
    {
      "cell_type": "markdown",
      "source": [
        "not enough good to apply sigmoid fitting....."
      ],
      "metadata": {
        "id": "E5r-uqLqTXt3"
      }
    },
    {
      "cell_type": "code",
      "source": [
        "def sigmoid(x, A, L, x0, k):\n",
        "    \"\"\"\n",
        "    Sigmoid function with controllable parameters.\n",
        "\n",
        "    Parameters:\n",
        "    - x: Independent variable (numpy array or scalar)\n",
        "    - A: Lower asymptote (step bottom)\n",
        "    - L: Upper asymptote (step top)\n",
        "    - x0: Midpoint (step position)\n",
        "    - k: Steepness/gradient (step gradient)\n",
        "    \"\"\"\n",
        "    return A + (L - A) / (1 + np.exp(-k * (x - x0)))"
      ],
      "metadata": {
        "id": "auZM_CnIUPT3"
      },
      "execution_count": null,
      "outputs": []
    },
    {
      "cell_type": "code",
      "source": [
        "yTipChange = 395\n",
        "Ls =np.pi*(2/3)*np.array([1,1,-1])\n",
        "shp = angle_restores[0].shape\n",
        "x = np.array(range(shp[1]))\n",
        "A = 0\n",
        "# L=0\n",
        "x0 = yTipChange\n",
        "k = 1000\n",
        "\n",
        "# plt.plot(x,ysig)"
      ],
      "metadata": {
        "id": "vopL5sswbBm7"
      },
      "execution_count": null,
      "outputs": []
    },
    {
      "cell_type": "code",
      "source": [
        "\n",
        "\n",
        "is_wrap_phase = True # @param {type:\"boolean\"}\n",
        "is_crop_axes = False # @param {type:\"boolean\"}\n",
        "# is_window_plot = True # @param {type:\"boolean\"}\n",
        "\n",
        "\n",
        "fig,axs = plt.subplots(1,3,figsize=(15, 15))\n",
        "tns = ['k1','k2','k3']\n",
        "yns = ['CDW','atom','CDW_compensate']\n",
        "fitRng = []\n",
        "for ik,tn in zip(range(3),tns):\n",
        "    # reimg = angle_restores[ik][xlimylim[1][0]:xlimylim[1][1],xlimylim[0][0]:xlimylim[0][1]]\n",
        "    reimg = angle_restores[ik]\n",
        "    ysig = sigmoid(x, A, Ls[ik], x0, k)\n",
        "    reimg = reimg - ysig.reshape(shp[1],1)\n",
        "    if is_wrap_phase:\n",
        "      reimg = wrap_phase(reimg)\n",
        "\n",
        "    axs[ik].imshow(reimg, cmap='twilight')\n",
        "    axs[ik].set_title(tn)\n",
        "    axs[ik].set_xticks([])\n",
        "    axs[ik].set_yticks([])\n",
        "    fitRng.append(reimg)\n",
        "    # axs[ik].hlines(yTipChange,0,2047)\n",
        "    if is_crop_axes:\n",
        "      axs[ik].set_xlim([xlimylim[0][0],xlimylim[0][1]])\n",
        "      axs[ik].set_ylim([xlimylim[1][0],xlimylim[1][1]])"
      ],
      "metadata": {
        "id": "mRTiOX_LThhX"
      },
      "execution_count": null,
      "outputs": []
    },
    {
      "cell_type": "code",
      "source": [
        "for ik,tn in zip(range(3),tns):\n",
        "  reimg = angle_restores[ik]\n",
        "  ysig = sigmoid(x, A, Ls[ik], x0, k)\n",
        "  angle_restores[ik] = reimg - ysig.reshape(shp[1],1)\n"
      ],
      "metadata": {
        "id": "Hw7Xr5InWpT6"
      },
      "execution_count": null,
      "outputs": []
    },
    {
      "cell_type": "markdown",
      "source": [
        "#Visualization"
      ],
      "metadata": {
        "id": "79TFHhYVOCx8"
      }
    },
    {
      "cell_type": "markdown",
      "source": [
        "Determine guage ground"
      ],
      "metadata": {
        "id": "5Jol1XKjVk47"
      }
    },
    {
      "cell_type": "code",
      "source": [
        "def auto_clim(data, method='percentile', lower=1, upper=99):\n",
        "  \"\"\"\n",
        "  data: 2D array\n",
        "  method: 'percentile' or 'std'\n",
        "  \"\"\"\n",
        "  if method == 'percentile':\n",
        "      vmin, vmax = np.percentile(data, [lower, upper])\n",
        "  elif method == 'std':\n",
        "      mean = np.mean(data)\n",
        "      std = np.std(data)\n",
        "      vmin, vmax = mean - std, mean + std\n",
        "  else:\n",
        "      raise ValueError(\"method must be 'percentile' or 'std'\")\n",
        "  return vmin, vmax\n"
      ],
      "metadata": {
        "id": "K28lwfhDPm3X"
      },
      "execution_count": null,
      "outputs": []
    },
    {
      "cell_type": "code",
      "source": [
        "plt.figure(figsize=(10, 10)) # Adjust the size as needed\n",
        "plt.imshow(arr_cln,cmap='afmhot')\n",
        "ax = plt.gca()\n",
        "ax.images[0].set_clim(\n",
        "    auto_clim(arr_cln, method='percentile', lower=1, upper=99.9)\n",
        ")\n",
        "x = 875\n",
        "y = 730\n",
        "ax.plot(x,y,\"bo\")\n",
        "ax.set_xlim([700,900])\n",
        "ax.set_ylim([700,900])\n"
      ],
      "metadata": {
        "id": "ea9pwtX1OB2T"
      },
      "execution_count": null,
      "outputs": []
    },
    {
      "cell_type": "code",
      "source": [
        "angle_restores_g = []\n",
        "for ik in range(3):\n",
        "  angle_restore = angle_restores[ik]\n",
        "  angle_restore_g = angle_restore - angle_restore[y,x]\n",
        "  angle_restores_g.append(angle_restore_g)"
      ],
      "metadata": {
        "id": "QaTzdOI3QOAD"
      },
      "execution_count": null,
      "outputs": []
    },
    {
      "cell_type": "code",
      "source": [
        "fig,axs = plt.subplots(1,3,figsize=(15, 15))\n",
        "tns = ['k1','k2','k3']\n",
        "yns = ['CDW','atom','CDW_compensate']\n",
        "for ik,tn in zip(range(3),tns):\n",
        "    reimg = angle_restores[ik]\n",
        "    reimg = wrap_phase(reimg)\n",
        "    axs[ik].imshow(reimg, cmap='twilight')\n",
        "    axs[ik].set_title(tn)\n",
        "    axs[ik].set_xticks([])\n",
        "    axs[ik].set_yticks([])\n",
        "    axs[ik].plot(x,y,\"ko\")\n",
        "    # ax.set_xlim([700,900])\n",
        "    # ax.set_ylim([700,900])"
      ],
      "metadata": {
        "id": "FFujjUOBXvEj"
      },
      "execution_count": null,
      "outputs": []
    },
    {
      "cell_type": "code",
      "source": [
        "fig,axs = plt.subplots(1,3,figsize=(15, 15))\n",
        "tns = ['k1','k2','k3']\n",
        "yns = ['CDW','atom','CDW_compensate']\n",
        "for ik,tn in zip(range(3),tns):\n",
        "    reimg = angle_restores_g[ik]\n",
        "    reimg = wrap_phase(reimg)\n",
        "    axs[ik].imshow(reimg, cmap='twilight')\n",
        "    axs[ik].set_title(tn)\n",
        "    axs[ik].set_xticks([])\n",
        "    axs[ik].set_yticks([])\n",
        "    axs[ik].plot(x,y,\"ko\")\n",
        "    # ax.set_xlim([700,900])\n",
        "    # ax.set_ylim([700,900])"
      ],
      "metadata": {
        "id": "7nqHy2ZcPrP4"
      },
      "execution_count": null,
      "outputs": []
    },
    {
      "cell_type": "code",
      "source": [
        "reimg = angle_restores_g[0]\n",
        "# reimg = angle_restores_g[ik]\n",
        "reimg = wrap_phase(reimg)\n",
        "fig = plt.figure(figsize=(10, 10))\n",
        "plt.imshow(reimg, cmap='twilight')\n",
        "# plt.set_title(tn)\n",
        "# plt.set_xticks([])\n",
        "# plt.set_yticks([])\n",
        "plt.plot(x,y,\"ko\")"
      ],
      "metadata": {
        "id": "wpj-GNBCqJ19"
      },
      "execution_count": null,
      "outputs": []
    },
    {
      "cell_type": "code",
      "source": [
        "import numpy as np\n",
        "\n",
        "## Divide ##\n",
        "def z3z3split(phi1,phi2):\n",
        "  # phi1 from [0,2pi)\n",
        "  # phi2 from [0,2pi)\n",
        "  phi1 = phi1%(2*np.pi) # R -> [0,2pi)\n",
        "  phi2 = phi2%(2*np.pi)\n",
        "  phi1i = phi1/(2*np.pi) # [0,2pi) -> [0,1)\n",
        "  phi2i = phi2/(2*np.pi)\n",
        "  z3z31, rphi1 = divmod(phi1i, 1/3)\n",
        "  z3z32, rphi2 = divmod(phi2i, 1/3)\n",
        "  z3z3 = [z3z31,z3z32] # {0,1,2} #len2 list\n",
        "  rphi12 = [rphi1*3,rphi2*3] # [0,1) #len2 list\n",
        "  return z3z3,rphi12\n",
        "\n",
        "def rlsplit(rphi12):\n",
        "  is_close_10 = rphi12[0]>rphi12[1]#r-like|-> T, g-like|-> F\n",
        "  if not is_close_10:\n",
        "    rphi12 = [rphi12[1],rphi12[0]]\n",
        "  rphi12 = np.array(rphi12)\n",
        "  rphi12 = rphi12.reshape(2,1) #Basis B\n",
        "  I_C__B = np.array([[1,-1],[0,1]]) #Identity\n",
        "  rphi12_C = I_C__B@rphi12 #Basis C\n",
        "  v_c1 = rphi12_C[0,0]\n",
        "  v_c2 = rphi12_C[1,0]\n",
        "  baryHHH_foo = np.array([1-v_c1-v_c2,v_c1,v_c2 ])\n",
        "  baryHHH_foo = baryHHH_foo.reshape(3,1) #order of index: (00),(??),(11)\n",
        "  return is_close_10,baryHHH_foo\n",
        "\n",
        "def sixsplit(baryHHH_foo):\n",
        "  p_BarHHH = np.sort(baryHHH_foo, axis=0)[::-1]\n",
        "  z6 = np.argsort(baryHHH_foo, axis=0)[::-1]\n",
        "  p_AffHHH = p_BarHHH[1:]\n",
        "  I_AffHAC__AffHHH = np.array([[1,2],[1,-1]])\n",
        "  p_AffHAC = I_AffHAC__AffHHH@p_AffHHH\n",
        "  p_BarHAC = np.array([1-p_AffHAC[0]-p_AffHAC[1],p_AffHAC[0],p_AffHAC[1]])\n",
        "  baryHAC_foo = p_BarHAC\n",
        "  return z6,baryHAC_foo\n",
        "\n",
        "## Conquer ##\n",
        "def get_baryHHH(baryHHH_foo,is_close_10):\n",
        "  baryHHH = np.zeros(4)\n",
        "  baryHHH[0] = baryHHH_foo[0,0]\n",
        "  baryHHH[3] = baryHHH_foo[2,0]\n",
        "  # print('here',not(is_close_10)+1)\n",
        "  baryHHH[(not(is_close_10))+1] = baryHHH_foo[1,0]\n",
        "  return baryHHH #order of index: (00),(10),(01),(11)\n",
        "def get_baryHAC(is_close_10,baryHAC_foo):\n",
        "  # baryHAC = np.zeros(3)\n",
        "  baryHAC = baryHAC_foo\n",
        "  if not(is_close_10):\n",
        "    baryHAC = baryHAC_foo[[0,2,1],[0]]\n",
        "  return baryHAC #order of index: H,10L,01L\n",
        "def phaseInfo(phi1,phi2):\n",
        "  z3z3,rphi12 = z3z3split(phi1,phi2)\n",
        "  is_close_10,baryHHH_foo = rlsplit(rphi12)\n",
        "  z6,baryHAC_foo = sixsplit(baryHHH_foo)\n",
        "  baryHHH = get_baryHHH(baryHHH_foo,is_close_10)\n",
        "  baryHAC = get_baryHAC(is_close_10,baryHAC_foo)\n",
        "  return baryHHH,baryHAC,z3z3,z6"
      ],
      "metadata": {
        "id": "DvFujCqERDwP"
      },
      "execution_count": null,
      "outputs": []
    },
    {
      "cell_type": "code",
      "source": [
        "def phaseInfo2(Phi1,Phi2):\n",
        "  XY_shape = Phi1.shape\n",
        "  BaryHHH = np.zeros((XY_shape[0],XY_shape[1],4))\n",
        "  BaryHAC = np.zeros((XY_shape[0],XY_shape[1],3))\n",
        "  Z3z3 = np.zeros((XY_shape[0],XY_shape[1],2))\n",
        "  Z6 = np.zeros((XY_shape[0],XY_shape[1],3))\n",
        "  for i in range(XY_shape[0]):\n",
        "    for j in range(XY_shape[1]):\n",
        "      phi1_now = Phi1[i,j]\n",
        "      phi2_now = Phi2[i,j]\n",
        "\n",
        "      baryHHH,baryHAC,z3z3,z6 = phaseInfo(phi1_now,phi2_now)\n",
        "\n",
        "      BaryHHH[i,j,:] = baryHHH.flatten()\n",
        "      BaryHAC[i,j,:] = baryHAC.flatten()\n",
        "      Z3z3[i,j,0] = z3z3[0]\n",
        "      Z3z3[i,j,1] = z3z3[1]\n",
        "      Z6[i,j,0] = z6[0]\n",
        "      Z6[i,j,1] = z6[1]\n",
        "      Z6[i,j,2] = z6[2]\n",
        "  return BaryHHH,BaryHAC,Z3z3,Z6"
      ],
      "metadata": {
        "id": "DVD5aDmgRGHt"
      },
      "execution_count": null,
      "outputs": []
    },
    {
      "cell_type": "code",
      "source": [
        "type(angle_restores_g)\n",
        "angle_restores_g[ik].shape"
      ],
      "metadata": {
        "id": "qw_vb7XhgVXx"
      },
      "execution_count": null,
      "outputs": []
    },
    {
      "cell_type": "code",
      "source": [
        "Phi1 = (1/2)*angle_restores_g[0]+(-1/4)*angle_restores_g[1]+(-1/4)*angle_restores_g[2]\n",
        "Phi2 = (-1/4)*angle_restores_g[0]+(1/2)*angle_restores_g[1]+(-1/4)*angle_restores_g[2]\n",
        "\n",
        "\n",
        "Phi1 = angle_restores_g[0]\n",
        "Phi2 = -angle_restores_g[1]"
      ],
      "metadata": {
        "id": "_17blSG55zQ4"
      },
      "execution_count": null,
      "outputs": []
    },
    {
      "cell_type": "code",
      "source": [
        "Info = phaseInfo2(Phi1,Phi2)"
      ],
      "metadata": {
        "id": "WvIDhprIhuzo"
      },
      "execution_count": null,
      "outputs": []
    },
    {
      "cell_type": "code",
      "source": [
        "HAC_holder = Info[1]\n",
        "HAC_argmax = np.argmax(HAC_holder, axis=2)\n",
        "fig = plt.figure(figsize=(20,20))\n",
        "plt.imshow(HAC_argmax, origin='lower',cmap='gray')\n",
        "\n",
        "# plt.plot(250,200,'ro')"
      ],
      "metadata": {
        "id": "EYqBGzUYiLIK"
      },
      "execution_count": null,
      "outputs": []
    },
    {
      "cell_type": "code",
      "source": [
        "DWThick = .2\n",
        "dlt = DWThick"
      ],
      "metadata": {
        "id": "TIe0ZfBajIAZ"
      },
      "execution_count": null,
      "outputs": []
    },
    {
      "cell_type": "code",
      "source": [
        "dwBW = Info[1][:,:,0]<DWThick"
      ],
      "metadata": {
        "id": "8MgLFouqvKA9"
      },
      "execution_count": null,
      "outputs": []
    },
    {
      "cell_type": "code",
      "source": [
        "def getDWsegment(z6,is_close10):\n",
        "  class6 = [210,201,120,102,21,12]\n",
        "  blk = [1012,1102,120,210]\n",
        "  rlk = [1120,1210,12,102]\n",
        "  glk = [1021,1201,21,201]\n",
        "  class12 = np.array([blk,rlk,glk])\n",
        "\n",
        "  class6this = np.sum(z6*np.array([100,10,1]))\n",
        "  z6 =  class6 == class6this\n",
        "  class12this = class6this +1000*is_close10\n",
        "  classified = class12 == class12this\n",
        "  true_indices = np.where(classified)\n",
        "  classified3 = true_indices[0][0]\n",
        "  return classified3"
      ],
      "metadata": {
        "id": "t03Se2guvMKO"
      },
      "execution_count": null,
      "outputs": []
    },
    {
      "cell_type": "code",
      "source": [
        "Z6 = Info[3]\n",
        "Is_close10 = Info[0][:,:,2]>0\n",
        "\n",
        "# ix,iy= 93,22\n",
        "\n",
        "classified3s = np.zeros(Z6.shape[0:2])\n",
        "for ix in range(Z6.shape[0]):\n",
        "  for iy in range(Z6.shape[1]):\n",
        "    z6 = Z6[ix,iy,:]# input 1\n",
        "    is_close10 = Is_close10[ix,iy]# input 2\n",
        "    classified3 = getDWsegment(z6,is_close10)\n",
        "    classified3s[ix,iy] = classified3"
      ],
      "metadata": {
        "id": "WiMS8EjbvOOE"
      },
      "execution_count": null,
      "outputs": []
    },
    {
      "cell_type": "code",
      "source": [
        "classified3s_rgb = np.stack((classified3s==1,classified3s==0,classified3s==2),axis=2)"
      ],
      "metadata": {
        "id": "3WW3duT4vRuu"
      },
      "execution_count": null,
      "outputs": []
    },
    {
      "cell_type": "code",
      "source": [
        "dw_rgb = classified3s_rgb * dwBW[:, :, np.newaxis]"
      ],
      "metadata": {
        "id": "HdgZR9TGvTwc"
      },
      "execution_count": null,
      "outputs": []
    },
    {
      "cell_type": "code",
      "source": [
        "Z3z3,Rphi12 =  z3z3split(Phi1,Phi2)\n",
        "coefs = np.array([[-2/4,4/4],[1/2,1/2],[4/4,-2/4]])\n",
        "# coefs.shape\n",
        "\n",
        "chiral = np.einsum('ijk,li->jkl', np.array(Rphi12), coefs)\n",
        "chiral = chiral[:,:,[2,0,1]]\n",
        "chiral[:,:,2] = -chiral[:,:,2]"
      ],
      "metadata": {
        "id": "N2PeR_u5vVgQ"
      },
      "execution_count": null,
      "outputs": []
    },
    {
      "cell_type": "code",
      "source": [
        "chiral_ = np.mod(chiral+dlt/2,.5)-dlt/2\n",
        "chiral_ = -(1/dlt)*(chiral_-dlt/2)\n",
        "#chiral_[:,:2]=chiral_[:,:2]"
      ],
      "metadata": {
        "id": "0TN1gJcxvmYF"
      },
      "execution_count": null,
      "outputs": []
    },
    {
      "cell_type": "code",
      "source": [
        "final = chiral_*dw_rgb"
      ],
      "metadata": {
        "id": "OYqmldh8vnIm"
      },
      "execution_count": null,
      "outputs": []
    },
    {
      "cell_type": "code",
      "source": [
        "final2 = 1"
      ],
      "metadata": {
        "id": "gS9M33rrDkNg"
      },
      "execution_count": null,
      "outputs": []
    },
    {
      "cell_type": "code",
      "source": [
        "for ik in range(3):\n",
        "  foo = final[:,:,ik]\n",
        "  print(foo.min(),foo.max())\n"
      ],
      "metadata": {
        "id": "VyaSxpLcvqJb"
      },
      "execution_count": null,
      "outputs": []
    },
    {
      "cell_type": "code",
      "source": [
        "fig = plt.figure(figsize=(10, 10))\n",
        "plt.imshow(final.astype(np.float64))\n",
        "plt.plot(x,y,\"wo\")"
      ],
      "metadata": {
        "id": "m0XB2Aj-vt3-"
      },
      "execution_count": null,
      "outputs": []
    },
    {
      "cell_type": "code",
      "source": [
        "from skimage.color import rgb2hsv,hsv2rgb\n",
        "final2 = rgb2hsv(final)\n",
        "final2[:,:,1] = final2[:,:,2]\n",
        "final2[:,:,2] = 1\n",
        "final2 = hsv2rgb(final2)"
      ],
      "metadata": {
        "id": "oaGZSBdBN8tn"
      },
      "execution_count": null,
      "outputs": []
    },
    {
      "cell_type": "code",
      "source": [
        "fig = plt.figure(figsize=(10, 10))\n",
        "plt.imshow(final2.astype(np.float64))\n"
      ],
      "metadata": {
        "id": "yXmzQIcvPVWt"
      },
      "execution_count": null,
      "outputs": []
    },
    {
      "cell_type": "code",
      "source": [],
      "metadata": {
        "id": "ePeCgNSlN4lN"
      },
      "execution_count": null,
      "outputs": []
    },
    {
      "cell_type": "code",
      "source": [
        "plt.figure(figsize=(10, 10)) # Adjust the size as needed\n",
        "plt.imshow(arr_cln,cmap='afmhot')\n",
        "ax = plt.gca()\n",
        "ax.images[0].set_clim(\n",
        "    auto_clim(arr_cln, method='percentile', lower=1, upper=99.9)\n",
        ")\n",
        "x = 875\n",
        "y = 730\n",
        "ax.plot(x,y,\"bo\")\n",
        "ax.set_xlim([600,1000])\n",
        "ax.set_ylim([500,900])"
      ],
      "metadata": {
        "id": "pQ5ZGOfjE4ZK"
      },
      "execution_count": null,
      "outputs": []
    },
    {
      "cell_type": "code",
      "source": [
        "def get_z3z3hex(Info):\n",
        "  HHH_argmax = np.argmax(Info[0], axis=2)\n",
        "  mod01,mod10 = np.divmod(HHH_argmax ,2)\n",
        "  hex1 = np.mod(Info[2][:,:,0] + mod10,3)\n",
        "  hex2 = np.mod(Info[2][:,:,1] + mod01,3)\n",
        "  z3z3hex = np.stack((hex1,hex2),axis=2)\n",
        "  return z3z3hex"
      ],
      "metadata": {
        "id": "udxo8OW107M8"
      },
      "execution_count": null,
      "outputs": []
    },
    {
      "cell_type": "code",
      "source": [
        "z3z3hex = get_z3z3hex(Info)"
      ],
      "metadata": {
        "id": "9KePLHKB5F5Q"
      },
      "execution_count": null,
      "outputs": []
    },
    {
      "cell_type": "code",
      "source": [
        "p_00 = [.5,.5,.5]\n",
        "p_12 = [.1,.1,.1]\n",
        "p_21 = [.8,.8,.8]\n",
        "\n",
        "p_10 = [1,0,0]\n",
        "p_01 = [0,1,0]\n",
        "p_22 = [0,0,1]\n",
        "\n",
        "p_20 = [0,1,1]\n",
        "p_02 = [1,0,1]\n",
        "p_11 = [1,1,0]"
      ],
      "metadata": {
        "id": "vJV_y23t6Qct"
      },
      "execution_count": null,
      "outputs": []
    },
    {
      "cell_type": "code",
      "source": [
        "colors = {\n",
        "    \"Red Bright\": (1.0, 0.302, 0.302),   # #FF4D4D\n",
        "    \"Red Dark\":   (0.478, 0.110, 0.110), # #7A1C1C\n",
        "    \"Green Bright\": (0.302, 1.0, 0.302), # #4DFF4D\n",
        "    \"Green Dark\":   (0.110, 0.478, 0.110), # #1C7A1C\n",
        "    \"Blue Bright\":  (0.302, 0.58, 1.0),  # #4D94FF\n",
        "    \"Blue Dark\":    (0.110, 0.110, 0.478) # #1C1C7A\n",
        "}"
      ],
      "metadata": {
        "id": "Fx-tkaqntNTh"
      },
      "execution_count": null,
      "outputs": []
    },
    {
      "cell_type": "code",
      "source": [
        "p_00 = [.5,.5,.5]\n",
        "p_12 = [.1,.1,.1]\n",
        "p_21 = [.8,.8,.8]\n",
        "\n",
        "p_10 = colors[\"Red Dark\"]\n",
        "p_01 = colors[\"Green Dark\"]\n",
        "p_22 = colors[\"Blue Dark\"]\n",
        "\n",
        "p_20 = colors[\"Red Bright\"]\n",
        "p_02 = colors[\"Green Bright\"]\n",
        "p_11 = colors[\"Blue Bright\"]"
      ],
      "metadata": {
        "id": "If-DVCeotO2N"
      },
      "execution_count": null,
      "outputs": []
    },
    {
      "cell_type": "code",
      "source": [
        "clrset = [[p_00,p_01,p_02],[p_10,p_11,p_12],[p_20,p_21,p_22]]\n",
        "clrset = np.array(clrset)\n",
        "clrset.shape"
      ],
      "metadata": {
        "id": "v9k2j7cQ6VOH"
      },
      "execution_count": null,
      "outputs": []
    },
    {
      "cell_type": "code",
      "source": [
        "shp = z3z3hex.shape\n",
        "phase9 = np.zeros((shp[0],shp[1],3))\n",
        "for ix  in range(shp[0]):\n",
        "  for iy in range(shp[1]):\n",
        "    phase9[ix,iy,:] = clrset[int(z3z3hex[ix,iy,0]),int(z3z3hex[ix,iy,1]),:]"
      ],
      "metadata": {
        "id": "kkvMcsGt6Xvg"
      },
      "execution_count": null,
      "outputs": []
    },
    {
      "cell_type": "code",
      "source": [
        "plt.imshow(phase9)"
      ],
      "metadata": {
        "id": "NHeokmht6Yco"
      },
      "execution_count": null,
      "outputs": []
    },
    {
      "cell_type": "code",
      "source": [
        "plt.imshow(z3z3hex[:,:,0])"
      ],
      "metadata": {
        "id": "n9nNT4SB6gzz"
      },
      "execution_count": null,
      "outputs": []
    },
    {
      "cell_type": "code",
      "source": [
        "plt.imshow(z3z3hex[:,:,1])"
      ],
      "metadata": {
        "id": "3hZ02PQO6nGH"
      },
      "execution_count": null,
      "outputs": []
    },
    {
      "cell_type": "code",
      "source": [
        "shp"
      ],
      "metadata": {
        "id": "RQMlSaIq_CCn"
      },
      "execution_count": null,
      "outputs": []
    },
    {
      "cell_type": "code",
      "source": [
        "xlimylim_DWN = ((0,shp[0]),(0,shp[1]))\n",
        "xlimylim_DV = ((500,750),(1250,1500))\n",
        "xlimylim_DW = ((525,625),(1400,1500))\n",
        "\n",
        "xlimylim_D = ((585,625),(1460,1500))\n",
        "xlimylim_L = ((607,625),(1460,1478))\n",
        "xlimylims = [xlimylim_DWN,xlimylim_DV,xlimylim_DW,xlimylim_D,xlimylim_L]\n",
        "xlimylims = xlimylims[::-1]\n",
        "# wV =CropWindow(xlimylim=xlimylim_DV)\n",
        "# plt"
      ],
      "metadata": {
        "id": "kvWKuQzx6RTb"
      },
      "execution_count": null,
      "outputs": []
    },
    {
      "cell_type": "code",
      "source": [],
      "metadata": {
        "id": "vwgqvchm_6GB"
      },
      "execution_count": null,
      "outputs": []
    },
    {
      "cell_type": "code",
      "source": [
        "# plt.figure(figsize=(10, 10)) # Adjust the size as needed\n",
        "# plt.imshow(arr_cln,cmap='afmhot')\n",
        "# ax = plt.gca()\n",
        "# ax.images[0].set_clim(\n",
        "#     auto_clim(arr_cln, method='percentile', lower=1, upper=99.9)\n",
        "# )\n",
        "# ax.set_xlim(xlimylim_L[0])\n",
        "# ax.set_ylim(xlimylim_L[1])\n"
      ],
      "metadata": {
        "id": "cmW2zeC87MGg"
      },
      "execution_count": null,
      "outputs": []
    },
    {
      "cell_type": "code",
      "source": [
        "class CropWindow:\n",
        "    def __init__(self, *, xywh=None, xlimylim=None, rlist=None):\n",
        "        if xywh is not None:\n",
        "            self.x, self.y, self.w, self.h = xywh\n",
        "        elif xlimylim is not None:\n",
        "            (x_min, x_max), (y_min, y_max) = xlimylim\n",
        "            self.x, self.y = x_min, y_min\n",
        "            self.w, self.h = x_max - x_min, y_max - y_min\n",
        "        elif rlist is not None:\n",
        "            xs = [p[0] for p in rlist]\n",
        "            ys = [p[1] for p in rlist]\n",
        "            self.x, self.y = min(xs), min(ys)\n",
        "            self.w, self.h = max(xs) - min(xs), max(ys) - min(ys)\n",
        "        else:\n",
        "            raise ValueError(\"One of xywh, xlimylim, rlist must be provided.\")\n",
        "\n",
        "    # --------------------\n",
        "    # 변환 메서드들\n",
        "    # --------------------\n",
        "    def to_xywh(self):\n",
        "        return (self.x, self.y, self.w, self.h)\n",
        "\n",
        "    def to_xlimylim(self):\n",
        "        return (self.x, self.x + self.w), (self.y, self.y + self.h)\n",
        "\n",
        "    def to_rlist(self):\n",
        "        return [\n",
        "            (self.x, self.y),\n",
        "            (self.x + self.w, self.y),\n",
        "            (self.x + self.w, self.y + self.h),\n",
        "            (self.x, self.y + self.h),\n",
        "        ]\n",
        "    def to_rlist5(self):\n",
        "        return np.array([\n",
        "            (self.x, self.y),\n",
        "            (self.x + self.w, self.y),\n",
        "            (self.x + self.w, self.y + self.h),\n",
        "            (self.x, self.y + self.h),\n",
        "            (self.x, self.y),\n",
        "        ])\n",
        "    # 보기 좋게 출력\n",
        "    def __repr__(self):\n",
        "        return f\"CropWindow(xywh={self.to_xywh()})\""
      ],
      "metadata": {
        "id": "9WSq-FIaT33w"
      },
      "execution_count": null,
      "outputs": []
    },
    {
      "cell_type": "code",
      "source": [],
      "metadata": {
        "id": "8nsOlnn_BQ_h"
      },
      "execution_count": null,
      "outputs": []
    },
    {
      "cell_type": "code",
      "source": [
        "is_subplotTranspose = False # @param {type:\"boolean\"}\n",
        "nCr =5\n",
        "nmap =4\n",
        "msb = nmap\n",
        "nsb =nCr\n",
        "\n",
        "\n",
        "if is_subplotTranspose:\n",
        "  msb,nsb=nsb,msb\n",
        "  fig,axs = plt.subplots(msb,nsb,figsize=(nsb*5, msb*4))\n",
        "  axs = axs.transpose()\n",
        "else:\n",
        "  fig,axs = plt.subplots(msb,nsb,figsize=(nsb*4, msb*4))\n",
        "\n",
        "for iCr in range(nCr):\n",
        "  for imap in range(nmap):\n",
        "    ax = axs[imap,iCr]\n",
        "    if imap==0:\n",
        "      ax.imshow(arr_cln,cmap='afmhot')\n",
        "      ax.images[0].set_clim(\n",
        "          auto_clim(arr_cln, method='percentile', lower=1, upper=99.9)\n",
        "      )\n",
        "    elif imap==1:\n",
        "      ax.imshow(phase9)\n",
        "    elif imap==2:\n",
        "      ax.imshow(HAC_argmax,cmap='gray')\n",
        "    elif imap==3:\n",
        "      ax.imshow(final2.astype(np.float64))\n",
        "\n",
        "    #\n",
        "\n",
        "    #\n",
        "\n",
        "\n",
        "    ax.set_xlim(xlimylims[iCr][0])\n",
        "    ax.set_ylim(xlimylims[iCr][1])\n",
        "    # if iCr>0:\n",
        "    #   # xlimylims[iCr-1]\n",
        "    #   rlist5 = CropWindow(xlimylim=xlimylims[iCr-1]).to_rlist5()\n",
        "    #   print(rlist5[:,0])\n",
        "    #   print(rlist5[:,1])\n",
        "    #   ax.plot(rlist5[:,0],rlist5[:,1],'w')\n",
        "    for iCr2 in range(nCr):\n",
        "      rlist5 = CropWindow(xlimylim=xlimylims[iCr2]).to_rlist5()\n",
        "      ax.plot(rlist5[:,0],rlist5[:,1])\n",
        "    ax.set_xticks([])\n",
        "    ax.set_yticks([])"
      ],
      "metadata": {
        "id": "2ioH1JsPAU_V"
      },
      "execution_count": null,
      "outputs": []
    },
    {
      "cell_type": "code",
      "source": [
        "fig = plt.figure(figsize=(10, 10))\n",
        "plt.imshow(final2.astype(np.float64))\n",
        "ax = plt.gca()\n",
        "ax.set_xlim(xlimylims[iCr][0])\n",
        "ax.set_ylim(xlimylims[iCr][1])"
      ],
      "metadata": {
        "id": "Z2k7i_OzIm7O"
      },
      "execution_count": null,
      "outputs": []
    },
    {
      "cell_type": "code",
      "source": [
        "xlimylim_DVR = ((560,690),(1310,1440))\n",
        "# xlimylim_DVL = ((1100,1350),(100,350))\n",
        "xlimylim_DVL = ((1860,1990),(260,390))\n",
        "xlimylim_DVs =[xlimylim_DVR,xlimylim_DVL]\n",
        "xlimylims = xlimylim_DVs"
      ],
      "metadata": {
        "id": "xrbGsZlMkGYk"
      },
      "execution_count": null,
      "outputs": []
    },
    {
      "cell_type": "code",
      "source": [
        "is_subplotTranspose = True # @param {type:\"boolean\"}\n",
        "nCr =2\n",
        "nmap =4\n",
        "msb = nmap\n",
        "nsb =nCr\n",
        "\n",
        "\n",
        "if is_subplotTranspose:\n",
        "  msb,nsb=nsb,msb\n",
        "  fig,axs = plt.subplots(msb,nsb,figsize=(nsb*5, msb*4))\n",
        "  axs = axs.transpose()\n",
        "else:\n",
        "  fig,axs = plt.subplots(msb,nsb,figsize=(nsb*4, msb*4))\n",
        "\n",
        "for iCr in range(nCr):\n",
        "  for imap in range(nmap):\n",
        "    ax = axs[imap,iCr]\n",
        "    if imap==0:\n",
        "      ax.imshow(arr_cln,cmap='afmhot')\n",
        "      ax.images[0].set_clim(\n",
        "          auto_clim(arr_cln, method='percentile', lower=1, upper=99.9)\n",
        "      )\n",
        "    elif imap==1:\n",
        "      ax.imshow(phase9)\n",
        "    elif imap==2:\n",
        "      ax.imshow(HAC_argmax,cmap='gray')\n",
        "    elif imap==3:\n",
        "      ax.imshow(final2.astype(np.float64))\n",
        "\n",
        "    #\n",
        "\n",
        "    #\n",
        "\n",
        "\n",
        "    ax.set_xlim(xlimylims[iCr][0])\n",
        "    ax.set_ylim(xlimylims[iCr][1])\n",
        "    # if iCr>0:\n",
        "    #   # xlimylims[iCr-1]\n",
        "    #   rlist5 = CropWindow(xlimylim=xlimylims[iCr-1]).to_rlist5()\n",
        "    #   print(rlist5[:,0])\n",
        "    #   print(rlist5[:,1])\n",
        "    #   ax.plot(rlist5[:,0],rlist5[:,1],'w')\n",
        "    for iCr2 in range(nCr):\n",
        "      rlist5 = CropWindow(xlimylim=xlimylims[iCr2]).to_rlist5()\n",
        "      ax.plot(rlist5[:,0],rlist5[:,1])\n",
        "    ax.set_xticks([])\n",
        "    ax.set_yticks([])"
      ],
      "metadata": {
        "id": "ZSXKJmhXw8yx"
      },
      "execution_count": null,
      "outputs": []
    },
    {
      "cell_type": "code",
      "source": [
        "shifty=1000\n",
        "xlimylim_DWN = ((0,shp[0]),(0,shp[1])) #full\n",
        "xlimylim_DV = ((500,500+512),(shifty,512+shifty)) #40nm\n",
        "xlimylim_DW =  ((500,500+256),(256+shifty,256+256+shifty)) #20nm\n",
        "\n",
        "xlimylim_D = ((500+64,500+128+64),(256+shifty,256+128+shifty)) #10nm\n",
        "xlimylim_L = ((500+64,500+64+64),(256+shifty,256+64+shifty))#5nm\n",
        "xlimylims = [xlimylim_DWN,xlimylim_DV,xlimylim_DW,xlimylim_D,xlimylim_L]\n",
        "xlimylims = xlimylims[::-1]"
      ],
      "metadata": {
        "id": "vIlaDdqgBT05"
      },
      "execution_count": null,
      "outputs": []
    },
    {
      "cell_type": "code",
      "source": [
        "stn = '110K(sig=20)'\n",
        "tns = ['5nm','10nm','20nm','40nm','full(=80nm)']"
      ],
      "metadata": {
        "id": "WvqA6ZOOA95X"
      },
      "execution_count": null,
      "outputs": []
    },
    {
      "cell_type": "code",
      "source": [
        "is_subplotTranspose = False # @param {type:\"boolean\"}\n",
        "nCr =5\n",
        "nmap =4\n",
        "msb = nmap\n",
        "nsb =nCr\n",
        "\n",
        "\n",
        "if is_subplotTranspose:\n",
        "  msb,nsb=nsb,msb\n",
        "  fig,axs = plt.subplots(msb,nsb,figsize=(nsb*5, msb*4))\n",
        "  axs = axs.transpose()\n",
        "else:\n",
        "  fig,axs = plt.subplots(msb,nsb,figsize=(nsb*4, msb*4))\n",
        "\n",
        "for iCr in range(nCr):\n",
        "  for imap in range(nmap):\n",
        "    ax = axs[imap,iCr]\n",
        "    if imap==0:\n",
        "      ax.imshow(arr_cln,cmap='afmhot')\n",
        "      ax.images[0].set_clim(\n",
        "          auto_clim(arr_cln, method='percentile', lower=1, upper=99.9)\n",
        "      )\n",
        "      ax.set_title(tns[iCr])\n",
        "    elif imap==1:\n",
        "      ax.imshow(phase9)\n",
        "    elif imap==2:\n",
        "      ax.imshow(HAC_argmax,cmap='gray')\n",
        "    elif imap==3:\n",
        "      ax.imshow(final2.astype(np.float64))\n",
        "\n",
        "    #\n",
        "\n",
        "    #\n",
        "\n",
        "\n",
        "    ax.set_xlim(xlimylims[iCr][0])\n",
        "    ax.set_ylim(xlimylims[iCr][1])\n",
        "    # if iCr>0:\n",
        "    #   # xlimylims[iCr-1]\n",
        "    #   rlist5 = CropWindow(xlimylim=xlimylims[iCr-1]).to_rlist5()\n",
        "    #   print(rlist5[:,0])\n",
        "    #   print(rlist5[:,1])\n",
        "    #   ax.plot(rlist5[:,0],rlist5[:,1],'w')\n",
        "    for iCr2 in range(nCr):\n",
        "      rlist5 = CropWindow(xlimylim=xlimylims[iCr2]).to_rlist5()\n",
        "      ax.plot(rlist5[:,0],rlist5[:,1])\n",
        "    ax.set_xticks([])\n",
        "    ax.set_yticks([])\n",
        "plt.suptitle(stn)"
      ],
      "metadata": {
        "id": "9RkaNGIfBN8P"
      },
      "execution_count": null,
      "outputs": []
    }
  ]
}