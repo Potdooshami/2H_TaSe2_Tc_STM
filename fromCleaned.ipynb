{
 "cells": [
  {
   "cell_type": "code",
   "execution_count": 2,
   "id": "95840a2f",
   "metadata": {},
   "outputs": [],
   "source": [
    "import numpy as np\n",
    "fn = '2HTaSe2_ap_118K002'\n",
    "arr_cln = np.load(f'{fn}_cln.npy')"
   ]
  }
 ],
 "metadata": {
  "kernelspec": {
   "display_name": "2Hvenv",
   "language": "python",
   "name": "python3"
  },
  "language_info": {
   "codemirror_mode": {
    "name": "ipython",
    "version": 3
   },
   "file_extension": ".py",
   "mimetype": "text/x-python",
   "name": "python",
   "nbconvert_exporter": "python",
   "pygments_lexer": "ipython3",
   "version": "3.12.9"
  }
 },
 "nbformat": 4,
 "nbformat_minor": 5
}
