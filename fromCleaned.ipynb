{
 "cells": [
  {
   "cell_type": "code",
   "execution_count": 3,
   "id": "95840a2f",
   "metadata": {},
   "outputs": [],
   "source": [
    "import numpy as np\n",
    "fn = '2HTaSe2_ap_118K002'\n",
    "arr_cln = np.load(f'{fn}_cln.npy')\n",
    "fn = '2HTaSe2_bad_78K097'\n",
    "arr_cln = np.load(f'{fn}_cln.npy')"
   ]
  },
  {
   "cell_type": "code",
   "execution_count": 21,
   "id": "4e1e1d5f",
   "metadata": {},
   "outputs": [],
   "source": [
    "import pandas as pd\n",
    "arrSries  = pd.Series()\n",
    "fns = ['2HTaSe2_bad_78K097','2HTaSe2_ap_118K002','2HTaSe2_bae_110K012','2HTaSe2_ao_115K037','test']\n",
    "\n",
    "for fn in fns:\n",
    "    arrSries[fn] = np.load(f'{fn}_cln.npy')"
   ]
  },
  {
   "cell_type": "code",
   "execution_count": 22,
   "id": "e50a8844",
   "metadata": {},
   "outputs": [
    {
     "name": "stderr",
     "output_type": "stream",
     "text": [
      "d:\\github\\2H_TaSe2_Tc_STM\\2Hvenv\\Lib\\site-packages\\numpy\\lib\\_function_base_impl.py:4968: UserWarning: Warning: 'partition' will ignore the 'mask' of the MaskedArray.\n",
      "  arr.partition(\n"
     ]
    }
   ],
   "source": [
    "from useful import *\n",
    "tab = subtabSr(arrSries)"
   ]
  },
  {
   "cell_type": "code",
   "execution_count": 23,
   "id": "fba61250",
   "metadata": {},
   "outputs": [
    {
     "data": {
      "application/vnd.jupyter.widget-view+json": {
       "model_id": "ade8fbbf1b864a809173a3024562d7ac",
       "version_major": 2,
       "version_minor": 0
      },
      "text/plain": [
       "Tab(children=(Output(), Output(), Output(), Output(), Output()), selected_index=0, titles=('2HTaSe2_bad_78K097…"
      ]
     },
     "execution_count": 23,
     "metadata": {},
     "output_type": "execute_result"
    }
   ],
   "source": [
    "tab"
   ]
  }
 ],
 "metadata": {
  "kernelspec": {
   "display_name": "2Hvenv",
   "language": "python",
   "name": "python3"
  },
  "language_info": {
   "codemirror_mode": {
    "name": "ipython",
    "version": 3
   },
   "file_extension": ".py",
   "mimetype": "text/x-python",
   "name": "python",
   "nbconvert_exporter": "python",
   "pygments_lexer": "ipython3",
   "version": "3.12.9"
  }
 },
 "nbformat": 4,
 "nbformat_minor": 5
}
