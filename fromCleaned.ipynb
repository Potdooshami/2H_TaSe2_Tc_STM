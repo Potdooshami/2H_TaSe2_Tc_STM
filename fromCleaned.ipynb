{
 "cells": [
  {
   "cell_type": "code",
   "execution_count": 1,
   "id": "4e1e1d5f",
   "metadata": {},
   "outputs": [],
   "source": [
    "import numpy as np\n",
    "import pandas as pd\n",
    "arrSries  = pd.Series()\n",
    "fns = ['2HTaSe2_bad_78K097','2HTaSe2_ap_118K002','2HTaSe2_bae_110K012','2HTaSe2_ao_115K037','test']\n",
    "\n",
    "for fn in fns:\n",
    "    arrSries[fn] = np.load(f'{fn}_cln.npy')"
   ]
  },
  {
   "cell_type": "code",
   "execution_count": 2,
   "id": "e50a8844",
   "metadata": {},
   "outputs": [
    {
     "name": "stderr",
     "output_type": "stream",
     "text": [
      "d:\\github\\2H_TaSe2_Tc_STM\\2Hvenv\\Lib\\site-packages\\numpy\\lib\\_function_base_impl.py:4968: UserWarning: Warning: 'partition' will ignore the 'mask' of the MaskedArray.\n",
      "  arr.partition(\n"
     ]
    }
   ],
   "source": [
    "from useful import *\n",
    "tab = subtabSr(arrSries)"
   ]
  },
  {
   "cell_type": "code",
   "execution_count": 12,
   "id": "fba61250",
   "metadata": {},
   "outputs": [
    {
     "data": {
      "application/vnd.jupyter.widget-view+json": {
       "model_id": "e286ff923e0a4a9ea960d05bc24f04a5",
       "version_major": 2,
       "version_minor": 0
      },
      "text/plain": [
       "Tab(children=(Output(), Output(), Output(), Output(), Output()), selected_index=0, titles=('2HTaSe2_bad_78K097…"
      ]
     },
     "execution_count": 12,
     "metadata": {},
     "output_type": "execute_result"
    }
   ],
   "source": [
    "tab"
   ]
  },
  {
   "cell_type": "code",
   "execution_count": 11,
   "id": "11ef97e1",
   "metadata": {},
   "outputs": [],
   "source": [
    "from scipy.fft import fft2, fftshift\n",
    "from skimage.feature import peak_local_max\n",
    "def fft2show(arr_cln,vmin,vmax):\n",
    "  fft_result = fft2(arr_cln)\n",
    "  fft_result_shifted = fftshift(fft_result)\n",
    "  magnitude_spectrum = np.abs(fft_result_shifted)\n",
    "  plt.figure(figsize=(10, 10))\n",
    "  plt.imshow(magnitude_spectrum, cmap='gray', vmin=vmin, vmax=vmax)\n",
    "  plt.title('Magnitude Spectrum of 2D FFT')\n",
    "  return  magnitude_spectrum\n",
    "def fft2pkfnd(fft2abs,threshold,choose):\n",
    "  coordinates = peak_local_max(fft2abs, min_distance=100, threshold_abs = threshold)\n",
    "  plt.scatter(coordinates[:, 1], coordinates[:, 0], s=50, facecolors='none', edgecolors='r')\n",
    "  for ipeak in range(coordinates.shape[0]):\n",
    "    plt.text(coordinates[ipeak,1],coordinates[ipeak,0],str(ipeak), color='g')\n",
    "  coordinates_choose = coordinates[choose,:]\n",
    "  print(coordinates_choose)\n",
    "  print(coordinates_choose.shape[0])\n",
    "  for ipeak in range(coordinates_choose.shape[0]):\n",
    "    plt.text(coordinates_choose[ipeak,1],coordinates_choose[ipeak,0],str(ipeak), color='b',size= 20)\n",
    "    pk_all = coordinates - (np.array(fft2abs.shape)/2)\n",
    "    pk_choose = pk_all[choose,:]\n",
    "  return pk_choose,pk_all"
   ]
  },
  {
   "cell_type": "code",
   "execution_count": 42,
   "id": "8a05d9c5",
   "metadata": {},
   "outputs": [],
   "source": [
    "vmin = 0 # @param\n",
    "vmax = 0.0000001 # @param\n",
    "threshold = 0#0.0000000001 # @param\n",
    "choose = [0] # @param"
   ]
  },
  {
   "cell_type": "code",
   "execution_count": null,
   "id": "b33281da",
   "metadata": {},
   "outputs": [],
   "source": []
  },
  {
   "cell_type": "code",
   "execution_count": 27,
   "id": "cf56f5eb",
   "metadata": {},
   "outputs": [],
   "source": [
    "from matplotlib import pyplot as plt"
   ]
  },
  {
   "cell_type": "code",
   "execution_count": null,
   "id": "eb59f822",
   "metadata": {},
   "outputs": [],
   "source": []
  },
  {
   "cell_type": "code",
   "execution_count": 34,
   "id": "14ca40c4",
   "metadata": {},
   "outputs": [],
   "source": [
    "indices = arrSries.index.to_list()"
   ]
  },
  {
   "cell_type": "code",
   "execution_count": 51,
   "id": "d8023188",
   "metadata": {},
   "outputs": [],
   "source": [
    "chooses = [\n",
    "    [7,8,11],\n",
    "    [1,4,3],\n",
    "    [1,4,7],\n",
    "    [1,2,5],\n",
    "    [7,2,5]\n",
    "]"
   ]
  },
  {
   "cell_type": "code",
   "execution_count": 52,
   "id": "3daa9319",
   "metadata": {},
   "outputs": [],
   "source": [
    "choose = chooses[0]"
   ]
  },
  {
   "cell_type": "code",
   "execution_count": 53,
   "id": "0b570c92",
   "metadata": {},
   "outputs": [
    {
     "name": "stdout",
     "output_type": "stream",
     "text": [
      "[[1138 1547]\n",
      " [ 494  847]\n",
      " [1450  679]]\n",
      "3\n",
      "[[274 398]\n",
      " [111 208]\n",
      " [382 162]]\n",
      "3\n",
      "[[559 793]\n",
      " [216 417]\n",
      " [763 327]]\n",
      "3\n",
      "[[543 654]\n",
      " [363 464]\n",
      " [630 418]]\n",
      "3\n",
      "[[1076 1282]\n",
      " [ 747  937]\n",
      " [1249  854]]\n",
      "3\n"
     ]
    }
   ],
   "source": [
    "ffts = []\n",
    "for fn,choose in zip(fns,chooses):\n",
    "    arr_cln = arrSries[fn]\n",
    "    fft2abs = fft2show(arr_cln,vmin,vmax)\n",
    "    pk_choose,pk_all = fft2pkfnd(fft2abs,threshold,choose)\n",
    "    ffts.append(plt.gcf()) \n",
    "    plt.close()\n",
    "        "
   ]
  },
  {
   "cell_type": "code",
   "execution_count": 54,
   "id": "504417b9",
   "metadata": {},
   "outputs": [
    {
     "data": {
      "application/vnd.jupyter.widget-view+json": {
       "model_id": "266a7e10fa9046e38397e7812acd48ba",
       "version_major": 2,
       "version_minor": 0
      },
      "text/plain": [
       "Tab(children=(Output(), Output(), Output(), Output(), Output()), selected_index=0, titles=('2HTaSe2_bad_78K097…"
      ]
     },
     "execution_count": 54,
     "metadata": {},
     "output_type": "execute_result"
    }
   ],
   "source": [
    "subtabs(ffts,fns)"
   ]
  },
  {
   "cell_type": "code",
   "execution_count": null,
   "id": "adc24de8",
   "metadata": {},
   "outputs": [],
   "source": [
    "\n"
   ]
  }
 ],
 "metadata": {
  "kernelspec": {
   "display_name": "2Hvenv",
   "language": "python",
   "name": "python3"
  },
  "language_info": {
   "codemirror_mode": {
    "name": "ipython",
    "version": 3
   },
   "file_extension": ".py",
   "mimetype": "text/x-python",
   "name": "python",
   "nbconvert_exporter": "python",
   "pygments_lexer": "ipython3",
   "version": "3.12.9"
  }
 },
 "nbformat": 4,
 "nbformat_minor": 5
}
