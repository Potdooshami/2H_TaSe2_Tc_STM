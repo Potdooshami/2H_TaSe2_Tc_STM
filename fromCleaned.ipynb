{
 "cells": [
  {
   "cell_type": "code",
   "execution_count": 2,
   "id": "4e1e1d5f",
   "metadata": {},
   "outputs": [],
   "source": [
    "import numpy as np\n",
    "import pandas as pd\n",
    "arrSries  = pd.Series()\n",
    "fns = ['2HTaSe2_bad_78K097','2HTaSe2_ap_118K002','2HTaSe2_bae_110K012','2HTaSe2_ao_115K037','test']\n",
    "\n",
    "for fn in fns:\n",
    "    arrSries[fn] = np.load(f'{fn}_cln.npy')"
   ]
  },
  {
   "cell_type": "code",
   "execution_count": 3,
   "id": "e50a8844",
   "metadata": {},
   "outputs": [
    {
     "name": "stderr",
     "output_type": "stream",
     "text": [
      "d:\\github\\2H_TaSe2_Tc_STM\\2Hvenv\\Lib\\site-packages\\numpy\\lib\\_function_base_impl.py:4968: UserWarning: Warning: 'partition' will ignore the 'mask' of the MaskedArray.\n",
      "  arr.partition(\n"
     ]
    }
   ],
   "source": [
    "from useful import *\n",
    "tab = subtabSr(arrSries)"
   ]
  },
  {
   "cell_type": "code",
   "execution_count": 4,
   "id": "fba61250",
   "metadata": {},
   "outputs": [
    {
     "data": {
      "application/vnd.jupyter.widget-view+json": {
       "model_id": "49f45baa92a84c9bbbdcbebfa9a2ab42",
       "version_major": 2,
       "version_minor": 0
      },
      "text/plain": [
       "Tab(children=(Output(), Output(), Output(), Output(), Output()), selected_index=0, titles=('2HTaSe2_bad_78K097…"
      ]
     },
     "execution_count": 4,
     "metadata": {},
     "output_type": "execute_result"
    }
   ],
   "source": [
    "tab"
   ]
  },
  {
   "cell_type": "code",
   "execution_count": 5,
   "id": "11ef97e1",
   "metadata": {},
   "outputs": [],
   "source": [
    "from scipy.fft import fft2, fftshift\n",
    "from skimage.feature import peak_local_max\n",
    "def fft2show(arr_cln,vmin,vmax):\n",
    "  fft_result = fft2(arr_cln)\n",
    "  fft_result_shifted = fftshift(fft_result)\n",
    "  magnitude_spectrum = np.abs(fft_result_shifted)\n",
    "  plt.figure(figsize=(10, 10))\n",
    "  plt.imshow(magnitude_spectrum, cmap='gray', vmin=vmin, vmax=vmax)\n",
    "  plt.title('Magnitude Spectrum of 2D FFT')\n",
    "  return  magnitude_spectrum\n",
    "def fft2pkfnd(fft2abs,threshold,choose):\n",
    "  coordinates = peak_local_max(fft2abs, min_distance=100, threshold_abs = threshold)\n",
    "  plt.scatter(coordinates[:, 1], coordinates[:, 0], s=50, facecolors='none', edgecolors='r')\n",
    "  for ipeak in range(coordinates.shape[0]):\n",
    "    plt.text(coordinates[ipeak,1],coordinates[ipeak,0],str(ipeak), color='g')\n",
    "  coordinates_choose = coordinates[choose,:]\n",
    "  print(coordinates_choose)\n",
    "  print(coordinates_choose.shape[0])\n",
    "  for ipeak in range(coordinates_choose.shape[0]):\n",
    "    plt.text(coordinates_choose[ipeak,1],coordinates_choose[ipeak,0],str(ipeak), color='b',size= 20)\n",
    "    pk_all = coordinates - (np.array(fft2abs.shape)/2)\n",
    "    pk_choose = pk_all[choose,:]\n",
    "  return pk_choose,pk_all"
   ]
  },
  {
   "cell_type": "code",
   "execution_count": 6,
   "id": "8a05d9c5",
   "metadata": {},
   "outputs": [],
   "source": [
    "vmin = 0 # @param\n",
    "vmax = 0.0000001 # @param\n",
    "threshold = 0#0.0000000001 # @param\n",
    "choose = [0] # @param"
   ]
  },
  {
   "cell_type": "code",
   "execution_count": 7,
   "id": "cf56f5eb",
   "metadata": {},
   "outputs": [],
   "source": [
    "from matplotlib import pyplot as plt"
   ]
  },
  {
   "cell_type": "code",
   "execution_count": 8,
   "id": "d8023188",
   "metadata": {},
   "outputs": [],
   "source": [
    "chooses = [\n",
    "    [7,8,11],\n",
    "    [1,4,3],\n",
    "    [1,4,7],\n",
    "    [1,2,5],\n",
    "    [7,2,5]\n",
    "]"
   ]
  },
  {
   "cell_type": "code",
   "execution_count": 9,
   "id": "3daa9319",
   "metadata": {},
   "outputs": [],
   "source": [
    "choose = chooses[0]"
   ]
  },
  {
   "cell_type": "code",
   "execution_count": 10,
   "id": "0b570c92",
   "metadata": {},
   "outputs": [
    {
     "name": "stdout",
     "output_type": "stream",
     "text": [
      "[[1138 1547]\n",
      " [ 494  847]\n",
      " [1450  679]]\n",
      "3\n",
      "[[274 398]\n",
      " [111 208]\n",
      " [382 162]]\n",
      "3\n",
      "[[559 793]\n",
      " [216 417]\n",
      " [763 327]]\n",
      "3\n",
      "[[543 654]\n",
      " [363 464]\n",
      " [630 418]]\n",
      "3\n",
      "[[1076 1282]\n",
      " [ 747  937]\n",
      " [1249  854]]\n",
      "3\n"
     ]
    }
   ],
   "source": [
    "ffts = []\n",
    "for fn,choose in zip(fns,chooses):\n",
    "    arr_cln = arrSries[fn]\n",
    "    fft2abs = fft2show(arr_cln,vmin,vmax)\n",
    "    pk_choose,pk_all = fft2pkfnd(fft2abs,threshold,choose)\n",
    "    ffts.append(plt.gcf()) \n",
    "    plt.close()\n",
    "        "
   ]
  },
  {
   "cell_type": "code",
   "execution_count": 11,
   "id": "504417b9",
   "metadata": {},
   "outputs": [
    {
     "data": {
      "application/vnd.jupyter.widget-view+json": {
       "model_id": "eb1177545a0a413d9b80009a8034d2c2",
       "version_major": 2,
       "version_minor": 0
      },
      "text/plain": [
       "Tab(children=(Output(), Output(), Output(), Output(), Output()), selected_index=0, titles=('2HTaSe2_bad_78K097…"
      ]
     },
     "execution_count": 11,
     "metadata": {},
     "output_type": "execute_result"
    }
   ],
   "source": [
    "subtabs(ffts,fns)"
   ]
  },
  {
   "cell_type": "code",
   "execution_count": 12,
   "id": "b3edf254",
   "metadata": {},
   "outputs": [
    {
     "name": "stdout",
     "output_type": "stream",
     "text": [
      "(5, 5)\n"
     ]
    }
   ],
   "source": [
    "import numpy as np\n",
    "\n",
    "def autocorr2d_fft(arr):\n",
    "    f = np.fft.fft2(arr)\n",
    "    psd = f * np.conj(f)   # power spectral density\n",
    "    result = np.fft.ifft2(psd).real\n",
    "    return np.fft.fftshift(result)  # 중앙 정렬\n",
    "\n",
    "arr = np.random.rand(5, 5)\n",
    "auto_corr_fft = autocorr2d_fft(arr)\n",
    "\n",
    "print(auto_corr_fft.shape)"
   ]
  },
  {
   "cell_type": "code",
   "execution_count": null,
   "id": "a74d970d",
   "metadata": {},
   "outputs": [
    {
     "data": {
      "text/plain": [
       "array([1024., 1024.])"
      ]
     },
     "execution_count": 20,
     "metadata": {},
     "output_type": "execute_result"
    }
   ],
   "source": [
    "cntr = np.array(arr.shape)/2"
   ]
  },
  {
   "cell_type": "code",
   "execution_count": null,
   "id": "dc7513a2",
   "metadata": {},
   "outputs": [],
   "source": [
    "auto_corr_ffts = []\n",
    "for ind in range(len(fns)):\n",
    "    fn = fns[ind]\n",
    "    arr = arrSries[fn]\n",
    "    auto_corr_fft = autocorr2d_fft(arr)\n",
    "    fig = plt.figure(figsize=(10,10))\n",
    "    plt.imshow(auto_corr_fft, cmap='gray')\n",
    "    auto_corr_ffts.append(fig) \n",
    "    tickoff()\n",
    "    cntr = np.array(arr.shape)/2\n",
    "    plt.xlim(cntr[1]-100,cntr[1]+100)\n",
    "    plt.ylim(cntr[0]-100,cntr[0]+100)\n",
    "    plt.close()\n",
    "    "
   ]
  },
  {
   "cell_type": "code",
   "execution_count": 16,
   "id": "d16d20a7",
   "metadata": {},
   "outputs": [
    {
     "data": {
      "application/vnd.jupyter.widget-view+json": {
       "model_id": "2740067de838413ba4c003d213bffc71",
       "version_major": 2,
       "version_minor": 0
      },
      "text/plain": [
       "Tab(children=(Output(), Output(), Output(), Output(), Output()), selected_index=0, titles=('2HTaSe2_bad_78K097…"
      ]
     },
     "execution_count": 16,
     "metadata": {},
     "output_type": "execute_result"
    }
   ],
   "source": [
    "subtabs(auto_corr_ffts,fns)"
   ]
  }
 ],
 "metadata": {
  "kernelspec": {
   "display_name": "2Hvenv",
   "language": "python",
   "name": "python3"
  },
  "language_info": {
   "codemirror_mode": {
    "name": "ipython",
    "version": 3
   },
   "file_extension": ".py",
   "mimetype": "text/x-python",
   "name": "python",
   "nbconvert_exporter": "python",
   "pygments_lexer": "ipython3",
   "version": "3.12.9"
  }
 },
 "nbformat": 4,
 "nbformat_minor": 5
}
