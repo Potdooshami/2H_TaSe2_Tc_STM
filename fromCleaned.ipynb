{
 "cells": [
  {
   "cell_type": "code",
   "execution_count": 1,
   "id": "4e1e1d5f",
   "metadata": {},
   "outputs": [],
   "source": [
    "import numpy as np\n",
    "import pandas as pd\n",
    "arrSries  = pd.Series()\n",
    "fns = ['2HTaSe2_bad_78K097','2HTaSe2_ap_118K002','2HTaSe2_bae_110K012','2HTaSe2_ao_115K037','test']\n",
    "\n",
    "for fn in fns:\n",
    "    arrSries[fn] = np.load(f'{fn}_cln.npy')"
   ]
  },
  {
   "cell_type": "code",
   "execution_count": 2,
   "id": "e50a8844",
   "metadata": {},
   "outputs": [
    {
     "name": "stderr",
     "output_type": "stream",
     "text": [
      "d:\\github\\2H_TaSe2_Tc_STM\\2Hvenv\\Lib\\site-packages\\numpy\\lib\\_function_base_impl.py:4968: UserWarning: Warning: 'partition' will ignore the 'mask' of the MaskedArray.\n",
      "  arr.partition(\n"
     ]
    }
   ],
   "source": [
    "from useful import *\n",
    "tab = subtabSr(arrSries)"
   ]
  },
  {
   "cell_type": "code",
   "execution_count": 3,
   "id": "fba61250",
   "metadata": {},
   "outputs": [
    {
     "data": {
      "application/vnd.jupyter.widget-view+json": {
       "model_id": "a512fc279abe447bbbdb63204e0a0b45",
       "version_major": 2,
       "version_minor": 0
      },
      "text/plain": [
       "Tab(children=(Output(), Output(), Output(), Output(), Output()), selected_index=0, titles=('2HTaSe2_bad_78K097…"
      ]
     },
     "execution_count": 3,
     "metadata": {},
     "output_type": "execute_result"
    }
   ],
   "source": [
    "tab"
   ]
  },
  {
   "cell_type": "code",
   "execution_count": 4,
   "id": "11ef97e1",
   "metadata": {},
   "outputs": [],
   "source": [
    "from scipy.fft import fft2, fftshift\n",
    "from skimage.feature import peak_local_max\n",
    "def fft2show(arr_cln,vmin,vmax):\n",
    "  fft_result = fft2(arr_cln)\n",
    "  fft_result_shifted = fftshift(fft_result)\n",
    "  magnitude_spectrum = np.abs(fft_result_shifted)\n",
    "  plt.figure(figsize=(10, 10))\n",
    "  plt.imshow(magnitude_spectrum, cmap='gray', vmin=vmin, vmax=vmax)\n",
    "  plt.title('Magnitude Spectrum of 2D FFT')\n",
    "  return  magnitude_spectrum\n",
    "def fft2pkfnd(fft2abs,threshold,choose):\n",
    "  coordinates = peak_local_max(fft2abs, min_distance=100, threshold_abs = threshold)\n",
    "  plt.scatter(coordinates[:, 1], coordinates[:, 0], s=50, facecolors='none', edgecolors='r')\n",
    "  for ipeak in range(coordinates.shape[0]):\n",
    "    plt.text(coordinates[ipeak,1],coordinates[ipeak,0],str(ipeak), color='g')\n",
    "  coordinates_choose = coordinates[choose,:]\n",
    "  print(coordinates_choose)\n",
    "  print(coordinates_choose.shape[0])\n",
    "  for ipeak in range(coordinates_choose.shape[0]):\n",
    "    plt.text(coordinates_choose[ipeak,1],coordinates_choose[ipeak,0],str(ipeak), color='b',size= 20)\n",
    "    pk_all = coordinates - (np.array(fft2abs.shape)/2)\n",
    "    pk_choose = pk_all[choose,:]\n",
    "  return pk_choose,pk_all"
   ]
  },
  {
   "cell_type": "code",
   "execution_count": 5,
   "id": "8a05d9c5",
   "metadata": {},
   "outputs": [],
   "source": [
    "vmin = 0 # @param\n",
    "vmax = 0.0000001 # @param\n",
    "threshold = 0#0.0000000001 # @param\n",
    "choose = [0] # @param"
   ]
  },
  {
   "cell_type": "code",
   "execution_count": 6,
   "id": "cf56f5eb",
   "metadata": {},
   "outputs": [],
   "source": [
    "from matplotlib import pyplot as plt"
   ]
  },
  {
   "cell_type": "code",
   "execution_count": 7,
   "id": "d8023188",
   "metadata": {},
   "outputs": [],
   "source": [
    "chooses = [\n",
    "    [7,8,11],\n",
    "    [1,4,3],\n",
    "    [1,4,7],\n",
    "    [1,2,5],\n",
    "    [7,2,5]\n",
    "]"
   ]
  },
  {
   "cell_type": "code",
   "execution_count": 8,
   "id": "3daa9319",
   "metadata": {},
   "outputs": [],
   "source": [
    "choose = chooses[0]"
   ]
  },
  {
   "cell_type": "code",
   "execution_count": 9,
   "id": "0b570c92",
   "metadata": {},
   "outputs": [
    {
     "name": "stdout",
     "output_type": "stream",
     "text": [
      "[[1138 1547]\n",
      " [ 494  847]\n",
      " [1450  679]]\n",
      "3\n",
      "[[274 398]\n",
      " [111 208]\n",
      " [382 162]]\n",
      "3\n",
      "[[559 793]\n",
      " [216 417]\n",
      " [763 327]]\n",
      "3\n",
      "[[543 654]\n",
      " [363 464]\n",
      " [630 418]]\n",
      "3\n",
      "[[1076 1282]\n",
      " [ 747  937]\n",
      " [1249  854]]\n",
      "3\n"
     ]
    }
   ],
   "source": [
    "ffts = []\n",
    "for fn,choose in zip(fns,chooses):\n",
    "    arr_cln = arrSries[fn]\n",
    "    fft2abs = fft2show(arr_cln,vmin,vmax)\n",
    "    pk_choose,pk_all = fft2pkfnd(fft2abs,threshold,choose)\n",
    "    ffts.append(plt.gcf()) \n",
    "    plt.close()\n",
    "        "
   ]
  },
  {
   "cell_type": "code",
   "execution_count": 10,
   "id": "504417b9",
   "metadata": {},
   "outputs": [
    {
     "data": {
      "application/vnd.jupyter.widget-view+json": {
       "model_id": "3bc5a1a39dbe4a7d93bb9f515bf93bbc",
       "version_major": 2,
       "version_minor": 0
      },
      "text/plain": [
       "Tab(children=(Output(), Output(), Output(), Output(), Output()), selected_index=0, titles=('2HTaSe2_bad_78K097…"
      ]
     },
     "execution_count": 10,
     "metadata": {},
     "output_type": "execute_result"
    }
   ],
   "source": [
    "subtabs(ffts,fns)"
   ]
  },
  {
   "cell_type": "code",
   "execution_count": 11,
   "id": "b3edf254",
   "metadata": {},
   "outputs": [
    {
     "name": "stdout",
     "output_type": "stream",
     "text": [
      "(5, 5)\n"
     ]
    }
   ],
   "source": [
    "import numpy as np\n",
    "\n",
    "def autocorr2d_fft(arr):\n",
    "    f = np.fft.fft2(arr)\n",
    "    psd = f * np.conj(f)   # power spectral density\n",
    "    result = np.fft.ifft2(psd).real\n",
    "    return np.fft.fftshift(result)  # 중앙 정렬\n",
    "\n",
    "arr = np.random.rand(5, 5)\n",
    "auto_corr_fft = autocorr2d_fft(arr)\n",
    "\n",
    "print(auto_corr_fft.shape)"
   ]
  },
  {
   "cell_type": "code",
   "execution_count": 12,
   "id": "a74d970d",
   "metadata": {},
   "outputs": [],
   "source": [
    "cntr = np.array(arr.shape)/2"
   ]
  },
  {
   "cell_type": "code",
   "execution_count": 13,
   "id": "dc7513a2",
   "metadata": {},
   "outputs": [],
   "source": [
    "auto_corr_ffts = []\n",
    "auto_corr_fft_figs= []\n",
    "for ind in range(len(fns)):\n",
    "    fn = fns[ind]\n",
    "    arr = arrSries[fn]\n",
    "    auto_corr_fft = autocorr2d_fft(arr)\n",
    "    auto_corr_ffts.append(auto_corr_fft)\n",
    "    fig = plt.figure(figsize=(10,10))\n",
    "    plt.imshow(auto_corr_fft, cmap='gray')\n",
    "    auto_corr_fft_figs.append(fig) \n",
    "    tickoff()\n",
    "    cntr = np.array(arr.shape)/2\n",
    "    plt.xlim(cntr[1]-50,cntr[1]+50)\n",
    "    plt.ylim(cntr[0]-50,cntr[0]+50)\n",
    "    plt.close()\n",
    "    "
   ]
  },
  {
   "cell_type": "code",
   "execution_count": 14,
   "id": "d16d20a7",
   "metadata": {},
   "outputs": [
    {
     "data": {
      "application/vnd.jupyter.widget-view+json": {
       "model_id": "fa37b10926a5443c881bd17583b6e907",
       "version_major": 2,
       "version_minor": 0
      },
      "text/plain": [
       "Tab(children=(Output(), Output(), Output(), Output(), Output()), selected_index=0, titles=('2HTaSe2_bad_78K097…"
      ]
     },
     "execution_count": 14,
     "metadata": {},
     "output_type": "execute_result"
    }
   ],
   "source": [
    "subtabs(auto_corr_fft_figs,fns)"
   ]
  },
  {
   "cell_type": "code",
   "execution_count": 15,
   "id": "13826331",
   "metadata": {},
   "outputs": [],
   "source": [
    "from scipy.ndimage import map_coordinates\n",
    "\n",
    "def line_profile(image, p1, p2):\n",
    "    \"\"\"\n",
    "    Get the line profile of a 2D image between two points p1 and p2.\n",
    "    \n",
    "    Args:\n",
    "        image (np.ndarray): The 2D image.\n",
    "        p1 (tuple): The (y, x) coordinates of the start point.\n",
    "        p2 (tuple): The (y, x) coordinates of the end point.\n",
    "        \n",
    "    Returns:\n",
    "        np.ndarray: The 1D array of intensity values along the line.\n",
    "    \"\"\"\n",
    "    y1, x1 = p1\n",
    "    y2, x2 = p2\n",
    "    \n",
    "    # Number of points in the line profile\n",
    "    num_points = int(np.ceil(np.linalg.norm(np.array(p1) - np.array(p2))))\n",
    "    \n",
    "    # Generate coordinates along the line\n",
    "    y_coords = np.linspace(y1, y2, num_points)\n",
    "    x_coords = np.linspace(x1, x2, num_points)\n",
    "    \n",
    "    # `map_coordinates` expects coordinates in (ndim, n_points) format\n",
    "    coords = np.vstack((y_coords, x_coords))\n",
    "    \n",
    "    # Interpolate the values from the image\n",
    "    profile = map_coordinates(image, coords, order=1)\n",
    "    \n",
    "    return profile\n",
    "\n",
    "# Example usage:\n",
    "# Define two points for the line profile\n",
    "# p1 = (1024, 1024)  # Center of the image\n",
    "\n",
    "\n"
   ]
  },
  {
   "cell_type": "code",
   "execution_count": 122,
   "id": "52e6fed4",
   "metadata": {},
   "outputs": [],
   "source": [
    "p2s =[\n",
    "    [1038,962],\n",
    "    [263,200],\n",
    "    [521,457],\n",
    "    [537,401],\n",
    "    [1048,905]\n",
    "    ]"
   ]
  },
  {
   "cell_type": "code",
   "execution_count": 128,
   "id": "fcb40138",
   "metadata": {},
   "outputs": [],
   "source": [
    "idx =3\n",
    "auto_corr_fft = auto_corr_ffts[idx]\n",
    "p1 = np.array(auto_corr_fft.shape)/2\n",
    "# p2 = (1024 + pk_choose[0, 0], 1024 + pk_choose[0, 1]) # A chosen peak\n",
    "p2 = p2s[idx][1],p2s[idx][0]\n",
    "# crp = 400\n",
    "\n",
    "# Get the line profile from the auto-correlation image\n",
    "profile = line_profile(auto_corr_fft, p1, p2)\n",
    "\n",
    "# Plot the result\n",
    "fig, axes = plt.subplots(1, 2, figsize=(15, 6))\n",
    "\n",
    "# Plot the image with the line\n",
    "axes[0].imshow(auto_corr_fft, cmap='gray')\n",
    "axes[0].plot([p1[1], p2[1]], [p1[0], p2[0]], 'ro') # Draw line\n",
    "axes[0].set_title('Image with Line Profile')\n",
    "axes[0].axis('image')\n",
    "cntr = p1\n",
    "# axes[0].set_xlim(cntr[1]-crp,cntr[1]+crp)\n",
    "# axes[0].set_ylim(cntr[0]-crp,cntr[0]+crp)\n",
    "\n",
    "# Plot the line profile\n",
    "axes[1].plot(profile)\n",
    "axes[1].set_title('Line Profile')\n",
    "axes[1].set_xlabel('Distance along line (pixels)')\n",
    "axes[1].set_ylabel('Intensity')\n",
    "axes[1].grid(True)\n",
    "\n",
    "plt.show(block=True)"
   ]
  },
  {
   "cell_type": "code",
   "execution_count": null,
   "id": "20c168a4",
   "metadata": {},
   "outputs": [],
   "source": []
  },
  {
   "cell_type": "code",
   "execution_count": 66,
   "id": "4854d651",
   "metadata": {},
   "outputs": [],
   "source": [
    "from scipy.ndimage import map_coordinates\n",
    "\n",
    "def line_profile(image, p1, p2,num_points=1000):\n",
    "    \"\"\"\n",
    "    Get the line profile of a 2D image between two points p1 and p2.\n",
    "    \n",
    "    Args:\n",
    "        image (np.ndarray): The 2D image.\n",
    "        p1 (tuple): The (y, x) coordinates of the start point.\n",
    "        p2 (tuple): The (y, x) coordinates of the end point.\n",
    "        \n",
    "    Returns:\n",
    "        np.ndarray: The 1D array of intensity values along the line.\n",
    "    \"\"\"\n",
    "    y1, x1 = p1\n",
    "    y2, x2 = p2\n",
    "    \n",
    "    # Number of points in the line profile\n",
    "    # num_points = int(np.ceil(np.linalg.norm(np.array(p1) - np.array(p2))))\n",
    "    \n",
    "    # Generate coordinates along the line\n",
    "    y_coords = np.linspace(y1, y2, num_points)\n",
    "    x_coords = np.linspace(x1, x2, num_points)\n",
    "    \n",
    "    # `map_coordinates` expects coordinates in (ndim, n_points) format\n",
    "    coords = np.vstack((y_coords, x_coords))\n",
    "    \n",
    "    # Interpolate the values from the image\n",
    "    profile = map_coordinates(image, coords, order=1)\n",
    "    \n",
    "    return profile"
   ]
  },
  {
   "cell_type": "code",
   "execution_count": 71,
   "id": "15ff6986",
   "metadata": {},
   "outputs": [
    {
     "data": {
      "text/plain": [
       "[<matplotlib.lines.Line2D at 0x1881cb522a0>]"
      ]
     },
     "execution_count": 71,
     "metadata": {},
     "output_type": "execute_result"
    }
   ],
   "source": [
    "idt = 0\n",
    "auto_corr_fft = auto_corr_ffts[idt]\n",
    "p1 = np.array(auto_corr_fft.shape)/2\n",
    "p2 = p2s[idt]\n",
    "lp = line_profile(auto_corr_fft, p1, p2,num_points=1000)\n",
    "plt.plot(lp)"
   ]
  },
  {
   "cell_type": "code",
   "execution_count": null,
   "id": "53be99f3",
   "metadata": {},
   "outputs": [],
   "source": [
    "idt = 0\n",
    "auto_corr_fft = auto_corr_ffts[idt]\n",
    "p1 = np.array(auto_corr_fft.shape)/2\n",
    "p2 = p2s[idt]\n",
    "p1 = 2*p1 - p2\n",
    "from skimage.measure import profile_line\n",
    "\n",
    "# Using auto_corr_fft, p1, and p2 from the previous cells\n",
    "# The function expects (row, col) coordinates, which is the format of p1 and p2.\n",
    "profile_sk = profile_line(auto_corr_fft, p1, p2,linewidth=5)\n",
    "\n",
    "# Plot the resulting line profile\n",
    "plt.figure(figsize=(12, 6))\n",
    "plt.plot(profile_sk)\n",
    "plt.title('Line Profile using skimage.measure.profile_line')\n",
    "plt.xlabel('Distance along line (pixels)')\n",
    "plt.ylabel('Intensity')\n",
    "plt.grid(True)\n",
    "plt.show()"
   ]
  },
  {
   "cell_type": "code",
   "execution_count": 133,
   "id": "bc903651",
   "metadata": {},
   "outputs": [
    {
     "data": {
      "text/plain": [
       "<matplotlib.lines.Line2D at 0x188b14ee1e0>"
      ]
     },
     "execution_count": 133,
     "metadata": {},
     "output_type": "execute_result"
    }
   ],
   "source": [
    "lps = []\n",
    "for idt in range(1,5):\n",
    "    auto_corr_fft = auto_corr_ffts[idt]\n",
    "    p1 = np.array(auto_corr_fft.shape)/2\n",
    "    p2 = p2s[idt][1],p2s[idt][0]\n",
    "    # p1 = 2*p1 - p2\n",
    "    lp = line_profile(auto_corr_fft, p1, p2,num_points=1000)\n",
    "    # lp = profile_line(auto_corr_fft, p1, p2,linewidth=5)\n",
    "    lp = lp/np.max(lp)\n",
    "    lps.append(lp)\n",
    "    plt.plot(lp,label=fns[idt],linewidth=2)\n",
    "# plt.vertical_line(0)\n",
    "plt.legend()    \n",
    "plt.axhline(0,color='k')"
   ]
  },
  {
   "cell_type": "code",
   "execution_count": 129,
   "id": "782b0d9b",
   "metadata": {},
   "outputs": [
    {
     "data": {
      "text/plain": [
       "tuple"
      ]
     },
     "execution_count": 129,
     "metadata": {},
     "output_type": "execute_result"
    }
   ],
   "source": [
    "type(p2)"
   ]
  }
 ],
 "metadata": {
  "kernelspec": {
   "display_name": "2Hvenv",
   "language": "python",
   "name": "python3"
  },
  "language_info": {
   "codemirror_mode": {
    "name": "ipython",
    "version": 3
   },
   "file_extension": ".py",
   "mimetype": "text/x-python",
   "name": "python",
   "nbconvert_exporter": "python",
   "pygments_lexer": "ipython3",
   "version": "3.12.9"
  }
 },
 "nbformat": 4,
 "nbformat_minor": 5
}
